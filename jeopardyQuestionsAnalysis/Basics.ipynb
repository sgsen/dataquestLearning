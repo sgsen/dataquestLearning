{
 "cells": [
  {
   "cell_type": "code",
   "execution_count": 1,
   "metadata": {
    "collapsed": false
   },
   "outputs": [
    {
     "name": "stdout",
     "output_type": "stream",
     "text": [
      "0.19.2\n"
     ]
    }
   ],
   "source": [
    "import pandas as pd\n",
    "print(pd.__version__)"
   ]
  },
  {
   "cell_type": "markdown",
   "metadata": {},
   "source": [
    "### Import Data"
   ]
  },
  {
   "cell_type": "code",
   "execution_count": 2,
   "metadata": {
    "collapsed": false
   },
   "outputs": [
    {
     "data": {
      "text/html": [
       "<div>\n",
       "<table border=\"1\" class=\"dataframe\">\n",
       "  <thead>\n",
       "    <tr style=\"text-align: right;\">\n",
       "      <th></th>\n",
       "      <th>Show Number</th>\n",
       "      <th>Air Date</th>\n",
       "      <th>Round</th>\n",
       "      <th>Category</th>\n",
       "      <th>Value</th>\n",
       "      <th>Question</th>\n",
       "      <th>Answer</th>\n",
       "    </tr>\n",
       "  </thead>\n",
       "  <tbody>\n",
       "    <tr>\n",
       "      <th>0</th>\n",
       "      <td>4680</td>\n",
       "      <td>2004-12-31</td>\n",
       "      <td>Jeopardy!</td>\n",
       "      <td>HISTORY</td>\n",
       "      <td>$200</td>\n",
       "      <td>For the last 8 years of his life, Galileo was ...</td>\n",
       "      <td>Copernicus</td>\n",
       "    </tr>\n",
       "    <tr>\n",
       "      <th>1</th>\n",
       "      <td>4680</td>\n",
       "      <td>2004-12-31</td>\n",
       "      <td>Jeopardy!</td>\n",
       "      <td>ESPN's TOP 10 ALL-TIME ATHLETES</td>\n",
       "      <td>$200</td>\n",
       "      <td>No. 2: 1912 Olympian; football star at Carlisl...</td>\n",
       "      <td>Jim Thorpe</td>\n",
       "    </tr>\n",
       "    <tr>\n",
       "      <th>2</th>\n",
       "      <td>4680</td>\n",
       "      <td>2004-12-31</td>\n",
       "      <td>Jeopardy!</td>\n",
       "      <td>EVERYBODY TALKS ABOUT IT...</td>\n",
       "      <td>$200</td>\n",
       "      <td>The city of Yuma in this state has a record av...</td>\n",
       "      <td>Arizona</td>\n",
       "    </tr>\n",
       "    <tr>\n",
       "      <th>3</th>\n",
       "      <td>4680</td>\n",
       "      <td>2004-12-31</td>\n",
       "      <td>Jeopardy!</td>\n",
       "      <td>THE COMPANY LINE</td>\n",
       "      <td>$200</td>\n",
       "      <td>In 1963, live on \"The Art Linkletter Show\", th...</td>\n",
       "      <td>McDonald's</td>\n",
       "    </tr>\n",
       "    <tr>\n",
       "      <th>4</th>\n",
       "      <td>4680</td>\n",
       "      <td>2004-12-31</td>\n",
       "      <td>Jeopardy!</td>\n",
       "      <td>EPITAPHS &amp; TRIBUTES</td>\n",
       "      <td>$200</td>\n",
       "      <td>Signer of the Dec. of Indep., framer of the Co...</td>\n",
       "      <td>John Adams</td>\n",
       "    </tr>\n",
       "  </tbody>\n",
       "</table>\n",
       "</div>"
      ],
      "text/plain": [
       "   Show Number    Air Date      Round                         Category  Value  \\\n",
       "0         4680  2004-12-31  Jeopardy!                          HISTORY   $200   \n",
       "1         4680  2004-12-31  Jeopardy!  ESPN's TOP 10 ALL-TIME ATHLETES   $200   \n",
       "2         4680  2004-12-31  Jeopardy!      EVERYBODY TALKS ABOUT IT...   $200   \n",
       "3         4680  2004-12-31  Jeopardy!                 THE COMPANY LINE   $200   \n",
       "4         4680  2004-12-31  Jeopardy!              EPITAPHS & TRIBUTES   $200   \n",
       "\n",
       "                                            Question      Answer  \n",
       "0  For the last 8 years of his life, Galileo was ...  Copernicus  \n",
       "1  No. 2: 1912 Olympian; football star at Carlisl...  Jim Thorpe  \n",
       "2  The city of Yuma in this state has a record av...     Arizona  \n",
       "3  In 1963, live on \"The Art Linkletter Show\", th...  McDonald's  \n",
       "4  Signer of the Dec. of Indep., framer of the Co...  John Adams  "
      ]
     },
     "execution_count": 2,
     "metadata": {},
     "output_type": "execute_result"
    }
   ],
   "source": [
    "jeopardy = pd.read_csv('jeopardy.csv')\n",
    "jeopardy.head()"
   ]
  },
  {
   "cell_type": "markdown",
   "metadata": {},
   "source": [
    "### Clean Column Names"
   ]
  },
  {
   "cell_type": "code",
   "execution_count": 3,
   "metadata": {
    "collapsed": false
   },
   "outputs": [
    {
     "data": {
      "text/plain": [
       "Index(['Show Number', ' Air Date', ' Round', ' Category', ' Value',\n",
       "       ' Question', ' Answer'],\n",
       "      dtype='object')"
      ]
     },
     "execution_count": 3,
     "metadata": {},
     "output_type": "execute_result"
    }
   ],
   "source": [
    "jeopardy.columns"
   ]
  },
  {
   "cell_type": "code",
   "execution_count": 4,
   "metadata": {
    "collapsed": true
   },
   "outputs": [],
   "source": [
    "jeopardy.columns = ['Show Number', 'Air Date', 'Round', 'Category', 'Value',\n",
    "       'Question', 'Answer']"
   ]
  },
  {
   "cell_type": "code",
   "execution_count": 5,
   "metadata": {
    "collapsed": false
   },
   "outputs": [
    {
     "data": {
      "text/plain": [
       "Index(['Show Number', 'Air Date', 'Round', 'Category', 'Value', 'Question',\n",
       "       'Answer'],\n",
       "      dtype='object')"
      ]
     },
     "execution_count": 5,
     "metadata": {},
     "output_type": "execute_result"
    }
   ],
   "source": [
    "jeopardy.columns"
   ]
  },
  {
   "cell_type": "markdown",
   "metadata": {},
   "source": [
    "### Normalize questions, answers, values, and dates"
   ]
  },
  {
   "cell_type": "code",
   "execution_count": 6,
   "metadata": {
    "collapsed": false
   },
   "outputs": [],
   "source": [
    "import string\n",
    "\n",
    "def cleanString(st):\n",
    "    st = st.translate(str.maketrans(\"\",\"\", string.punctuation)).lower()\n",
    "    return st\n",
    "    \n"
   ]
  },
  {
   "cell_type": "code",
   "execution_count": 7,
   "metadata": {
    "collapsed": true
   },
   "outputs": [],
   "source": [
    "jeopardy['clean_question'] = jeopardy.Question.apply(cleanString)\n",
    "jeopardy['clean_answer'] = jeopardy.Answer.apply(cleanString)\n"
   ]
  },
  {
   "cell_type": "code",
   "execution_count": 8,
   "metadata": {
    "collapsed": false
   },
   "outputs": [
    {
     "data": {
      "text/html": [
       "<div>\n",
       "<table border=\"1\" class=\"dataframe\">\n",
       "  <thead>\n",
       "    <tr style=\"text-align: right;\">\n",
       "      <th></th>\n",
       "      <th>Question</th>\n",
       "      <th>clean_question</th>\n",
       "      <th>Answer</th>\n",
       "      <th>clean_answer</th>\n",
       "    </tr>\n",
       "  </thead>\n",
       "  <tbody>\n",
       "    <tr>\n",
       "      <th>19043</th>\n",
       "      <td>One of these may be cinch, money or tooled lea...</td>\n",
       "      <td>one of these may be cinch money or tooled leather</td>\n",
       "      <td>a belt</td>\n",
       "      <td>a belt</td>\n",
       "    </tr>\n",
       "    <tr>\n",
       "      <th>15593</th>\n",
       "      <td>(&lt;a href=\"http://www.j-archive.com/media/2007-...</td>\n",
       "      <td>a hrefhttpwwwjarchivecommedia20070330j15jpg ta...</td>\n",
       "      <td>AmeriCorps</td>\n",
       "      <td>americorps</td>\n",
       "    </tr>\n",
       "    <tr>\n",
       "      <th>15888</th>\n",
       "      <td>In the 1840s Esther Howland made these cards f...</td>\n",
       "      <td>in the 1840s esther howland made these cards f...</td>\n",
       "      <td>Valentines</td>\n",
       "      <td>valentines</td>\n",
       "    </tr>\n",
       "    <tr>\n",
       "      <th>14909</th>\n",
       "      <td>Ms. Gentileschi, the painter, rape victim, &amp; m...</td>\n",
       "      <td>ms gentileschi the painter rape victim  movie ...</td>\n",
       "      <td>Artemisia</td>\n",
       "      <td>artemisia</td>\n",
       "    </tr>\n",
       "    <tr>\n",
       "      <th>13002</th>\n",
       "      <td>It's a person who loves or collects books</td>\n",
       "      <td>its a person who loves or collects books</td>\n",
       "      <td>a bibliophile</td>\n",
       "      <td>a bibliophile</td>\n",
       "    </tr>\n",
       "  </tbody>\n",
       "</table>\n",
       "</div>"
      ],
      "text/plain": [
       "                                                Question  \\\n",
       "19043  One of these may be cinch, money or tooled lea...   \n",
       "15593  (<a href=\"http://www.j-archive.com/media/2007-...   \n",
       "15888  In the 1840s Esther Howland made these cards f...   \n",
       "14909  Ms. Gentileschi, the painter, rape victim, & m...   \n",
       "13002          It's a person who loves or collects books   \n",
       "\n",
       "                                          clean_question         Answer  \\\n",
       "19043  one of these may be cinch money or tooled leather         a belt   \n",
       "15593  a hrefhttpwwwjarchivecommedia20070330j15jpg ta...     AmeriCorps   \n",
       "15888  in the 1840s esther howland made these cards f...     Valentines   \n",
       "14909  ms gentileschi the painter rape victim  movie ...      Artemisia   \n",
       "13002           its a person who loves or collects books  a bibliophile   \n",
       "\n",
       "        clean_answer  \n",
       "19043         a belt  \n",
       "15593     americorps  \n",
       "15888     valentines  \n",
       "14909      artemisia  \n",
       "13002  a bibliophile  "
      ]
     },
     "execution_count": 8,
     "metadata": {},
     "output_type": "execute_result"
    }
   ],
   "source": [
    "jeopardy[['Question', 'clean_question', 'Answer', 'clean_answer']].sample(5)"
   ]
  },
  {
   "cell_type": "code",
   "execution_count": 9,
   "metadata": {
    "collapsed": false
   },
   "outputs": [
    {
     "name": "stdout",
     "output_type": "stream",
     "text": [
      "350\n",
      "0\n"
     ]
    }
   ],
   "source": [
    "def normDolvals(st):\n",
    "    st = st.translate(str.maketrans(\"\",\"\", string.punctuation))\n",
    "    try:\n",
    "        intst = int(st)\n",
    "    except: \n",
    "        intst = 0\n",
    "    return intst\n",
    "\n",
    "print(normDolvals('$350'))\n",
    "print(normDolvals('$noint'))\n"
   ]
  },
  {
   "cell_type": "code",
   "execution_count": 10,
   "metadata": {
    "collapsed": false
   },
   "outputs": [
    {
     "data": {
      "text/html": [
       "<div>\n",
       "<table border=\"1\" class=\"dataframe\">\n",
       "  <thead>\n",
       "    <tr style=\"text-align: right;\">\n",
       "      <th></th>\n",
       "      <th>Value</th>\n",
       "      <th>clean_value</th>\n",
       "    </tr>\n",
       "  </thead>\n",
       "  <tbody>\n",
       "    <tr>\n",
       "      <th>19532</th>\n",
       "      <td>$400</td>\n",
       "      <td>400</td>\n",
       "    </tr>\n",
       "    <tr>\n",
       "      <th>14659</th>\n",
       "      <td>$1600</td>\n",
       "      <td>1600</td>\n",
       "    </tr>\n",
       "    <tr>\n",
       "      <th>11923</th>\n",
       "      <td>$400</td>\n",
       "      <td>400</td>\n",
       "    </tr>\n",
       "    <tr>\n",
       "      <th>5333</th>\n",
       "      <td>$400</td>\n",
       "      <td>400</td>\n",
       "    </tr>\n",
       "    <tr>\n",
       "      <th>13341</th>\n",
       "      <td>$400</td>\n",
       "      <td>400</td>\n",
       "    </tr>\n",
       "  </tbody>\n",
       "</table>\n",
       "</div>"
      ],
      "text/plain": [
       "       Value  clean_value\n",
       "19532   $400          400\n",
       "14659  $1600         1600\n",
       "11923   $400          400\n",
       "5333    $400          400\n",
       "13341   $400          400"
      ]
     },
     "execution_count": 10,
     "metadata": {},
     "output_type": "execute_result"
    }
   ],
   "source": [
    "jeopardy['clean_value'] = jeopardy.Value.apply(normDolvals)\n",
    "\n",
    "jeopardy[['Value', 'clean_value']].sample(5)"
   ]
  },
  {
   "cell_type": "code",
   "execution_count": 11,
   "metadata": {
    "collapsed": false,
    "scrolled": true
   },
   "outputs": [
    {
     "data": {
      "text/html": [
       "<div>\n",
       "<table border=\"1\" class=\"dataframe\">\n",
       "  <thead>\n",
       "    <tr style=\"text-align: right;\">\n",
       "      <th></th>\n",
       "      <th>Air Date</th>\n",
       "      <th>clean_airdate</th>\n",
       "    </tr>\n",
       "  </thead>\n",
       "  <tbody>\n",
       "    <tr>\n",
       "      <th>7379</th>\n",
       "      <td>1998-10-30</td>\n",
       "      <td>1998-10-30</td>\n",
       "    </tr>\n",
       "    <tr>\n",
       "      <th>16527</th>\n",
       "      <td>2009-12-21</td>\n",
       "      <td>2009-12-21</td>\n",
       "    </tr>\n",
       "    <tr>\n",
       "      <th>1448</th>\n",
       "      <td>2006-03-17</td>\n",
       "      <td>2006-03-17</td>\n",
       "    </tr>\n",
       "    <tr>\n",
       "      <th>6177</th>\n",
       "      <td>2006-03-29</td>\n",
       "      <td>2006-03-29</td>\n",
       "    </tr>\n",
       "    <tr>\n",
       "      <th>18994</th>\n",
       "      <td>2009-07-02</td>\n",
       "      <td>2009-07-02</td>\n",
       "    </tr>\n",
       "  </tbody>\n",
       "</table>\n",
       "</div>"
      ],
      "text/plain": [
       "         Air Date clean_airdate\n",
       "7379   1998-10-30    1998-10-30\n",
       "16527  2009-12-21    2009-12-21\n",
       "1448   2006-03-17    2006-03-17\n",
       "6177   2006-03-29    2006-03-29\n",
       "18994  2009-07-02    2009-07-02"
      ]
     },
     "execution_count": 11,
     "metadata": {},
     "output_type": "execute_result"
    }
   ],
   "source": [
    "jeopardy['clean_airdate'] = pd.to_datetime(jeopardy['Air Date'])\n",
    "\n",
    "jeopardy[['Air Date', 'clean_airdate']].sample(5)"
   ]
  },
  {
   "cell_type": "markdown",
   "metadata": {},
   "source": [
    "### Explore Whether the Answer is Contained in the Question"
   ]
  },
  {
   "cell_type": "code",
   "execution_count": 13,
   "metadata": {
    "collapsed": false
   },
   "outputs": [
    {
     "name": "stdout",
     "output_type": "stream",
     "text": [
      "0.0603527738547\n"
     ]
    }
   ],
   "source": [
    "def countAnsInQ(row):\n",
    "    split_answer = row.clean_answer.split(' ')\n",
    "    split_question = row.clean_question.split(' ')\n",
    "    \n",
    "    match_count = 0\n",
    "    \n",
    "    try:\n",
    "        split_answer.remove('the')\n",
    "    except:\n",
    "        pass\n",
    "    \n",
    "    if len(split_answer) == 0:\n",
    "        return 0\n",
    "    \n",
    "    for each in split_answer:\n",
    "        if each in split_question:\n",
    "            match_count +=1\n",
    "        else:\n",
    "            pass\n",
    "        \n",
    "    return match_count/len(split_answer)\n",
    "    \n",
    "jeopardy['answer_in_question'] = jeopardy.apply(countAnsInQ, axis = 1)\n",
    "\n",
    "print(jeopardy['answer_in_question'].mean())\n"
   ]
  },
  {
   "cell_type": "markdown",
   "metadata": {},
   "source": [
    "The takeaway seems to be that answers are very infrequently in the questions themselves; this happens only about 6% of the time. "
   ]
  },
  {
   "cell_type": "markdown",
   "metadata": {},
   "source": [
    "### Explore whether Questions are Reused"
   ]
  },
  {
   "cell_type": "code",
   "execution_count": 20,
   "metadata": {
    "collapsed": false
   },
   "outputs": [
    {
     "name": "stdout",
     "output_type": "stream",
     "text": [
      "0.688905531662\n"
     ]
    }
   ],
   "source": [
    "question_overlap = []\n",
    "terms_used = set()\n",
    "\n",
    "jeopardy.sort_values(by='clean_airdate', inplace=True)\n",
    "\n",
    "for index,row in jeopardy.iterrows():\n",
    "    split_question = row.clean_question.split(' ')\n",
    "    split_question = [i for i in split_question if len(i)>5]\n",
    "    \n",
    "    match_count = 0\n",
    "    match_pct = 0\n",
    "    for word in split_question:\n",
    "        if word in terms_used:\n",
    "            match_count +=1\n",
    "        else:\n",
    "            terms_used.add(word)\n",
    "    \n",
    "    if len(split_question) > 0:\n",
    "        match_pct = match_count/len(split_question)\n",
    "    else:\n",
    "        pass\n",
    "    \n",
    "    question_overlap.append(match_pct)\n",
    "\n",
    "jeopardy['question_overlap'] = question_overlap\n",
    "\n",
    "print(jeopardy['question_overlap'].mean())"
   ]
  },
  {
   "cell_type": "markdown",
   "metadata": {},
   "source": [
    "It seems that about 70% of words in questions have appeared in previous jeopardy questions. Suggests that it might be well worth while to study the existing set of questions to prepare for future ones. "
   ]
  },
  {
   "cell_type": "markdown",
   "metadata": {},
   "source": [
    "### Explore High Value Questions "
   ]
  },
  {
   "cell_type": "code",
   "execution_count": 21,
   "metadata": {
    "collapsed": true
   },
   "outputs": [],
   "source": [
    "def highLow(row):\n",
    "    if row.clean_value > 800:\n",
    "        value = 1\n",
    "    else:\n",
    "        value = 0\n",
    "        \n",
    "    return value\n",
    "\n",
    "jeopardy['high_value'] = jeopardy.apply(highLow, axis = 1)"
   ]
  },
  {
   "cell_type": "code",
   "execution_count": 23,
   "metadata": {
    "collapsed": true
   },
   "outputs": [],
   "source": [
    "def countHighLow(word):\n",
    "    low_count = 0\n",
    "    high_count = 0\n",
    "     \n",
    "    for index, row in jeopardy.iterrows():\n",
    "        split_question = row.clean_question.split(' ')\n",
    "        if word in split_question:\n",
    "            if row.high_value == 1:\n",
    "                high_count +=1\n",
    "            else:\n",
    "                low_count += 1\n",
    "        else:\n",
    "            pass\n",
    "\n",
    "    return high_count, low_count\n",
    "        "
   ]
  },
  {
   "cell_type": "code",
   "execution_count": 27,
   "metadata": {
    "collapsed": false
   },
   "outputs": [
    {
     "name": "stdout",
     "output_type": "stream",
     "text": [
      "['fictional', 'aerosmith', 'hanami', 'spared', 'trafficking']\n",
      "[(5, 5), (0, 2), (0, 1), (1, 0), (0, 1)]\n"
     ]
    }
   ],
   "source": [
    "observed_expected = []\n",
    "\n",
    "comparison_terms = list(terms_used)[0:5]\n",
    "\n",
    "print(comparison_terms)\n",
    "\n",
    "for term in comparison_terms:\n",
    "    observed_expected.append(countHighLow(term))\n",
    "    \n",
    "print(observed_expected)"
   ]
  },
  {
   "cell_type": "code",
   "execution_count": 26,
   "metadata": {
    "collapsed": false
   },
   "outputs": [
    {
     "name": "stdout",
     "output_type": "stream",
     "text": [
      "5734\n",
      "14265\n"
     ]
    }
   ],
   "source": [
    "high_value_count = jeopardy[jeopardy.high_value == 1].shape[0]\n",
    "low_value_count = jeopardy[jeopardy.high_value == 0].shape[0]\n",
    "print(high_value_count)\n",
    "print(low_value_count)\n"
   ]
  },
  {
   "cell_type": "code",
   "execution_count": 30,
   "metadata": {
    "collapsed": false
   },
   "outputs": [
    {
     "name": "stdout",
     "output_type": "stream",
     "text": [
      "[[2.2243874083063973, 0.13584652879916373], [0.80392569225376798, 0.36992223780795708], [0.40196284612688399, 0.52607729857054686], [2.4877921171956752, 0.11473257634454047], [0.40196284612688399, 0.52607729857054686]]\n"
     ]
    }
   ],
   "source": [
    "from scipy.stats import chisquare\n",
    "\n",
    "chi_squared = []\n",
    "\n",
    "for obs in observed_expected:\n",
    "    total = obs[0]+obs[1]\n",
    "    total_prop = total/jeopardy.shape[0]\n",
    "    expHighValcount = total_prop * high_value_count\n",
    "    expLowValcount = total_prop * low_value_count\n",
    "    exp = [expHighValcount, expLowValcount]\n",
    "    chsqrstat, pval = chisquare(obs,exp)\n",
    "    chi_squared.append([chsqrstat, pval])\n",
    "\n",
    "print(chi_squared)"
   ]
  },
  {
   "cell_type": "markdown",
   "metadata": {},
   "source": [
    "These comparison terms could have appeared in the high and low columns entirely by chance. This is because all the pvalues are much above 5%. "
   ]
  }
 ],
 "metadata": {
  "kernelspec": {
   "display_name": "Python 3",
   "language": "python",
   "name": "python3"
  },
  "language_info": {
   "codemirror_mode": {
    "name": "ipython",
    "version": 3
   },
   "file_extension": ".py",
   "mimetype": "text/x-python",
   "name": "python",
   "nbconvert_exporter": "python",
   "pygments_lexer": "ipython3",
   "version": "3.4.3"
  }
 },
 "nbformat": 4,
 "nbformat_minor": 0
}
