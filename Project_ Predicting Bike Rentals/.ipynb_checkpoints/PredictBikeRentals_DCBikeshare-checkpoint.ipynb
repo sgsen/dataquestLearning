{
 "cells": [
  {
   "cell_type": "markdown",
   "metadata": {
    "collapsed": true
   },
   "source": [
    "# Project: Predict Bike Rentals in DC\n",
    "Soham Sen | Mar 5, 2017 | Dataquest"
   ]
  },
  {
   "cell_type": "markdown",
   "metadata": {},
   "source": [
    "## 0. Setup"
   ]
  },
  {
   "cell_type": "code",
   "execution_count": 45,
   "metadata": {},
   "outputs": [],
   "source": [
    "import pandas as pd\n",
    "import numpy as np\n",
    "import matplotlib.pyplot as plt\n",
    "%matplotlib inline\n",
    "import seaborn as sns"
   ]
  },
  {
   "cell_type": "markdown",
   "metadata": {},
   "source": [
    "Data comes from [here][source]. Variables:\n",
    "\n",
    "- instant: record index\n",
    "- dteday : date\n",
    "- season : season (1:springer, 2:summer, 3:fall, 4:winter)\n",
    "- yr : year (0: 2011, 1:2012)\n",
    "- mnth : month ( 1 to 12)\n",
    "- hr : hour (0 to 23)\n",
    "- holiday : weather day is holiday or not (extracted from [Web Link])\n",
    "- weekday : day of the week\n",
    "- workingday : if day is neither weekend nor holiday is 1, otherwise is 0.\n",
    "+ weathersit : \n",
    " - 1: Clear, Few clouds, Partly cloudy, Partly cloudy\n",
    " - 2: Mist + Cloudy, Mist + Broken clouds, Mist + Few clouds, Mist\n",
    " - 3: Light Snow, Light Rain + Thunderstorm + Scattered clouds, Light Rain + Scattered clouds\n",
    " - 4: Heavy Rain + Ice Pallets + Thunderstorm + Mist, Snow + Fog\n",
    "- temp : Normalized temperature in Celsius. The values are derived via (t-t_min)/(t_max-t_min), t_min=-8, t_max=+39 (only in hourly scale)\n",
    "- atemp: Normalized feeling temperature in Celsius. The values are derived via (t-t_min)/(t_max-t_min), t_min=-16, t_max=+50 (only in hourly scale)\n",
    "- hum: Normalized humidity. The values are divided to 100 (max)\n",
    "- windspeed: Normalized wind speed. The values are divided to 67 (max)\n",
    "- casual: count of casual users\n",
    "- registered: count of registered users\n",
    "- cnt: count of total rental bikes including both casual and registered\n",
    "\n",
    "Goal is to predict cnt.\n",
    "\n",
    "\n",
    "\n",
    "\n",
    "\n",
    "[source]:http://archive.ics.uci.edu/ml/datasets/Bike+Sharing+Dataset\n"
   ]
  },
  {
   "cell_type": "code",
   "execution_count": 46,
   "metadata": {
    "scrolled": true
   },
   "outputs": [
    {
     "data": {
      "text/html": [
       "<div>\n",
       "<style scoped>\n",
       "    .dataframe tbody tr th:only-of-type {\n",
       "        vertical-align: middle;\n",
       "    }\n",
       "\n",
       "    .dataframe tbody tr th {\n",
       "        vertical-align: top;\n",
       "    }\n",
       "\n",
       "    .dataframe thead th {\n",
       "        text-align: right;\n",
       "    }\n",
       "</style>\n",
       "<table border=\"1\" class=\"dataframe\">\n",
       "  <thead>\n",
       "    <tr style=\"text-align: right;\">\n",
       "      <th></th>\n",
       "      <th>instant</th>\n",
       "      <th>dteday</th>\n",
       "      <th>season</th>\n",
       "      <th>yr</th>\n",
       "      <th>mnth</th>\n",
       "      <th>hr</th>\n",
       "      <th>holiday</th>\n",
       "      <th>weekday</th>\n",
       "      <th>workingday</th>\n",
       "      <th>weathersit</th>\n",
       "      <th>temp</th>\n",
       "      <th>atemp</th>\n",
       "      <th>hum</th>\n",
       "      <th>windspeed</th>\n",
       "      <th>casual</th>\n",
       "      <th>registered</th>\n",
       "      <th>cnt</th>\n",
       "    </tr>\n",
       "  </thead>\n",
       "  <tbody>\n",
       "    <tr>\n",
       "      <th>0</th>\n",
       "      <td>1</td>\n",
       "      <td>2011-01-01</td>\n",
       "      <td>1</td>\n",
       "      <td>0</td>\n",
       "      <td>1</td>\n",
       "      <td>0</td>\n",
       "      <td>0</td>\n",
       "      <td>6</td>\n",
       "      <td>0</td>\n",
       "      <td>1</td>\n",
       "      <td>0.24</td>\n",
       "      <td>0.2879</td>\n",
       "      <td>0.81</td>\n",
       "      <td>0.0</td>\n",
       "      <td>3</td>\n",
       "      <td>13</td>\n",
       "      <td>16</td>\n",
       "    </tr>\n",
       "    <tr>\n",
       "      <th>1</th>\n",
       "      <td>2</td>\n",
       "      <td>2011-01-01</td>\n",
       "      <td>1</td>\n",
       "      <td>0</td>\n",
       "      <td>1</td>\n",
       "      <td>1</td>\n",
       "      <td>0</td>\n",
       "      <td>6</td>\n",
       "      <td>0</td>\n",
       "      <td>1</td>\n",
       "      <td>0.22</td>\n",
       "      <td>0.2727</td>\n",
       "      <td>0.80</td>\n",
       "      <td>0.0</td>\n",
       "      <td>8</td>\n",
       "      <td>32</td>\n",
       "      <td>40</td>\n",
       "    </tr>\n",
       "    <tr>\n",
       "      <th>2</th>\n",
       "      <td>3</td>\n",
       "      <td>2011-01-01</td>\n",
       "      <td>1</td>\n",
       "      <td>0</td>\n",
       "      <td>1</td>\n",
       "      <td>2</td>\n",
       "      <td>0</td>\n",
       "      <td>6</td>\n",
       "      <td>0</td>\n",
       "      <td>1</td>\n",
       "      <td>0.22</td>\n",
       "      <td>0.2727</td>\n",
       "      <td>0.80</td>\n",
       "      <td>0.0</td>\n",
       "      <td>5</td>\n",
       "      <td>27</td>\n",
       "      <td>32</td>\n",
       "    </tr>\n",
       "    <tr>\n",
       "      <th>3</th>\n",
       "      <td>4</td>\n",
       "      <td>2011-01-01</td>\n",
       "      <td>1</td>\n",
       "      <td>0</td>\n",
       "      <td>1</td>\n",
       "      <td>3</td>\n",
       "      <td>0</td>\n",
       "      <td>6</td>\n",
       "      <td>0</td>\n",
       "      <td>1</td>\n",
       "      <td>0.24</td>\n",
       "      <td>0.2879</td>\n",
       "      <td>0.75</td>\n",
       "      <td>0.0</td>\n",
       "      <td>3</td>\n",
       "      <td>10</td>\n",
       "      <td>13</td>\n",
       "    </tr>\n",
       "    <tr>\n",
       "      <th>4</th>\n",
       "      <td>5</td>\n",
       "      <td>2011-01-01</td>\n",
       "      <td>1</td>\n",
       "      <td>0</td>\n",
       "      <td>1</td>\n",
       "      <td>4</td>\n",
       "      <td>0</td>\n",
       "      <td>6</td>\n",
       "      <td>0</td>\n",
       "      <td>1</td>\n",
       "      <td>0.24</td>\n",
       "      <td>0.2879</td>\n",
       "      <td>0.75</td>\n",
       "      <td>0.0</td>\n",
       "      <td>0</td>\n",
       "      <td>1</td>\n",
       "      <td>1</td>\n",
       "    </tr>\n",
       "  </tbody>\n",
       "</table>\n",
       "</div>"
      ],
      "text/plain": [
       "   instant      dteday  season  yr  mnth  hr  holiday  weekday  workingday  \\\n",
       "0        1  2011-01-01       1   0     1   0        0        6           0   \n",
       "1        2  2011-01-01       1   0     1   1        0        6           0   \n",
       "2        3  2011-01-01       1   0     1   2        0        6           0   \n",
       "3        4  2011-01-01       1   0     1   3        0        6           0   \n",
       "4        5  2011-01-01       1   0     1   4        0        6           0   \n",
       "\n",
       "   weathersit  temp   atemp   hum  windspeed  casual  registered  cnt  \n",
       "0           1  0.24  0.2879  0.81        0.0       3          13   16  \n",
       "1           1  0.22  0.2727  0.80        0.0       8          32   40  \n",
       "2           1  0.22  0.2727  0.80        0.0       5          27   32  \n",
       "3           1  0.24  0.2879  0.75        0.0       3          10   13  \n",
       "4           1  0.24  0.2879  0.75        0.0       0           1    1  "
      ]
     },
     "execution_count": 46,
     "metadata": {},
     "output_type": "execute_result"
    }
   ],
   "source": [
    "bike_rentals = pd.read_csv('bike_rental_hour.csv')\n",
    "bike_rentals.head()"
   ]
  },
  {
   "cell_type": "markdown",
   "metadata": {},
   "source": [
    "## 1. Basic Data Exploration"
   ]
  },
  {
   "cell_type": "markdown",
   "metadata": {},
   "source": [
    "Let's have a look at the variable we are trying to predict: cnt."
   ]
  },
  {
   "cell_type": "code",
   "execution_count": 47,
   "metadata": {},
   "outputs": [
    {
     "data": {
      "text/plain": [
       "(array([ 3377.,  1444.,  1144.,  1007.,   965.,   952.,   900.,   888.,\n",
       "          767.,   726.,   584.,   582.,   522.,   409.,   362.,   367.,\n",
       "          290.,   252.,   242.,   203.,   213.,   158.,   148.,   144.,\n",
       "          107.,    96.,    86.,    80.,    64.,    55.,    42.,    27.,\n",
       "           37.,    43.,    35.,    24.,    20.,     5.,     4.,     8.]),\n",
       " array([   1. ,   25.4,   49.8,   74.2,   98.6,  123. ,  147.4,  171.8,\n",
       "         196.2,  220.6,  245. ,  269.4,  293.8,  318.2,  342.6,  367. ,\n",
       "         391.4,  415.8,  440.2,  464.6,  489. ,  513.4,  537.8,  562.2,\n",
       "         586.6,  611. ,  635.4,  659.8,  684.2,  708.6,  733. ,  757.4,\n",
       "         781.8,  806.2,  830.6,  855. ,  879.4,  903.8,  928.2,  952.6,\n",
       "         977. ]),\n",
       " <a list of 40 Patch objects>)"
      ]
     },
     "execution_count": 47,
     "metadata": {},
     "output_type": "execute_result"
    },
    {
     "data": {
      "image/png": "[encoded data removed]",
      "text/plain": [
       "<matplotlib.figure.Figure at 0x7fd804106a20>"
      ]
     },
     "metadata": {},
     "output_type": "display_data"
    }
   ],
   "source": [
    "sns.set(color_codes=True)\n",
    "plt.hist(bike_rentals.cnt, bins = 40)"
   ]
  },
  {
   "cell_type": "markdown",
   "metadata": {},
   "source": [
    "Not surprisingly most hours you have 25 bike rentals or less. "
   ]
  },
  {
   "cell_type": "code",
   "execution_count": 48,
   "metadata": {
    "scrolled": true
   },
   "outputs": [
    {
     "data": {
      "text/plain": [
       "count    17379.000000\n",
       "mean       189.463088\n",
       "std        181.387599\n",
       "min          1.000000\n",
       "25%         40.000000\n",
       "50%        142.000000\n",
       "75%        281.000000\n",
       "max        977.000000\n",
       "Name: cnt, dtype: float64"
      ]
     },
     "execution_count": 48,
     "metadata": {},
     "output_type": "execute_result"
    }
   ],
   "source": [
    "bike_rentals.cnt.describe()"
   ]
  },
  {
   "cell_type": "markdown",
   "metadata": {},
   "source": [
    "Over 17k observations. The distribution skews to the right and has some really high values pulling up the mean and median. Here are the top ten most frequent."
   ]
  },
  {
   "cell_type": "code",
   "execution_count": 49,
   "metadata": {},
   "outputs": [
    {
     "data": {
      "text/plain": [
       "5     260\n",
       "6     236\n",
       "4     231\n",
       "3     224\n",
       "2     208\n",
       "7     198\n",
       "8     182\n",
       "1     158\n",
       "10    155\n",
       "11    147\n",
       "Name: cnt, dtype: int64"
      ]
     },
     "execution_count": 49,
     "metadata": {},
     "output_type": "execute_result"
    }
   ],
   "source": [
    "bike_rentals.cnt.value_counts()[0:10]"
   ]
  },
  {
   "cell_type": "code",
   "execution_count": 50,
   "metadata": {
    "scrolled": true
   },
   "outputs": [
    {
     "data": {
      "text/plain": [
       "<Container object of 10 artists>"
      ]
     },
     "execution_count": 50,
     "metadata": {},
     "output_type": "execute_result"
    },
    {
     "data": {
      "image/png": "[encoded data removed]",
      "text/plain": [
       "<matplotlib.figure.Figure at 0x7fd7ffb56320>"
      ]
     },
     "metadata": {},
     "output_type": "display_data"
    }
   ],
   "source": [
    "plt.bar(bike_rentals.cnt.value_counts()[0:10].index, bike_rentals.cnt.value_counts()[0:10])"
   ]
  },
  {
   "cell_type": "markdown",
   "metadata": {},
   "source": [
    "Let's have a look at the correlations between our target variables and the others?"
   ]
  },
  {
   "cell_type": "code",
   "execution_count": 51,
   "metadata": {
    "scrolled": true
   },
   "outputs": [
    {
     "data": {
      "text/plain": [
       "instant       0.278379\n",
       "season        0.178056\n",
       "yr            0.250495\n",
       "mnth          0.120638\n",
       "hr            0.394071\n",
       "holiday      -0.030927\n",
       "weekday       0.026900\n",
       "workingday    0.030284\n",
       "weathersit   -0.142426\n",
       "temp          0.404772\n",
       "atemp         0.400929\n",
       "hum          -0.322911\n",
       "windspeed     0.093234\n",
       "casual        0.694564\n",
       "registered    0.972151\n",
       "cnt           1.000000\n",
       "Name: cnt, dtype: float64"
      ]
     },
     "execution_count": 51,
     "metadata": {},
     "output_type": "execute_result"
    }
   ],
   "source": [
    "correlations = bike_rentals.corr()\n",
    "correlations['cnt']"
   ]
  },
  {
   "cell_type": "code",
   "execution_count": 52,
   "metadata": {},
   "outputs": [
    {
     "data": {
      "text/plain": [
       "<matplotlib.axes._subplots.AxesSubplot at 0x7fd7ff60fe80>"
      ]
     },
     "execution_count": 52,
     "metadata": {},
     "output_type": "execute_result"
    },
    {
     "data": {
      "image/png": "[encoded data removed]",
      "text/plain": [
       "<matplotlib.figure.Figure at 0x7fd7ff98abe0>"
      ]
     },
     "metadata": {},
     "output_type": "display_data"
    }
   ],
   "source": [
    "sns.heatmap(correlations, cmap=\"YlGnBu\", vmax=1, vmin=-1)"
   ]
  },
  {
   "cell_type": "markdown",
   "metadata": {},
   "source": [
    "Looks like cnt has a relationship with hr and atemp. There is also a bunch of multicollinearity: mnth and season. yr and instant. hum and weathersit. Also cnt is definititionally casual + registered. Those two should not be included in the analysis. "
   ]
  },
  {
   "cell_type": "code",
   "execution_count": 53,
   "metadata": {
    "scrolled": false
   },
   "outputs": [
    {
     "data": {
      "text/plain": [
       "<Container object of 2 artists>"
      ]
     },
     "execution_count": 53,
     "metadata": {},
     "output_type": "execute_result"
    },
    {
     "data": {
      "image/png": "[encoded data removed]",
      "text/plain": [
       "<matplotlib.figure.Figure at 0x7fd804043860>"
      ]
     },
     "metadata": {},
     "output_type": "display_data"
    }
   ],
   "source": [
    "grpdf = bike_rentals.groupby('yr').sum()\n",
    "plt.bar(grpdf.index,grpdf.cnt)"
   ]
  },
  {
   "cell_type": "markdown",
   "metadata": {},
   "source": [
    "Definitely a increase from 2011 to 2012. "
   ]
  },
  {
   "cell_type": "code",
   "execution_count": 54,
   "metadata": {
    "scrolled": true
   },
   "outputs": [
    {
     "data": {
      "text/plain": [
       "<matplotlib.collections.PathCollection at 0x7fd804f577f0>"
      ]
     },
     "execution_count": 54,
     "metadata": {},
     "output_type": "execute_result"
    },
    {
     "data": {
      "image/png": "[encoded data removed]",
      "text/plain": [
       "<matplotlib.figure.Figure at 0x7fd7ffd21358>"
      ]
     },
     "metadata": {},
     "output_type": "display_data"
    }
   ],
   "source": [
    "plt.scatter(bike_rentals.temp, bike_rentals.cnt)"
   ]
  },
  {
   "cell_type": "markdown",
   "metadata": {},
   "source": [
    "Some linear relationship there, but not entirely clear cut. About what you'd expect with a .4 correlation."
   ]
  },
  {
   "cell_type": "markdown",
   "metadata": {},
   "source": [
    "## 2. Derive/Clarify Features"
   ]
  },
  {
   "cell_type": "markdown",
   "metadata": {},
   "source": [
    "Might be useful to club the hour data into buckets like morning, afternoon, etc."
   ]
  },
  {
   "cell_type": "code",
   "execution_count": 55,
   "metadata": {},
   "outputs": [
    {
     "name": "stdout",
     "output_type": "stream",
     "text": [
      "hr: 0 pod: 4\n",
      "hr: 1 pod: 4\n",
      "hr: 2 pod: 4\n",
      "hr: 3 pod: 4\n",
      "hr: 4 pod: 4\n",
      "hr: 5 pod: 4\n",
      "hr: 6 pod: 1\n",
      "hr: 7 pod: 1\n",
      "hr: 8 pod: 1\n",
      "hr: 9 pod: 1\n",
      "hr: 10 pod: 1\n",
      "hr: 11 pod: 1\n",
      "hr: 12 pod: 2\n",
      "hr: 13 pod: 2\n",
      "hr: 14 pod: 2\n",
      "hr: 15 pod: 2\n",
      "hr: 16 pod: 2\n",
      "hr: 17 pod: 2\n",
      "hr: 18 pod: 3\n",
      "hr: 19 pod: 3\n",
      "hr: 20 pod: 3\n",
      "hr: 21 pod: 3\n",
      "hr: 22 pod: 3\n",
      "hr: 23 pod: 3\n"
     ]
    }
   ],
   "source": [
    "def hourPartofDay(x):\n",
    "    pod = np.nan\n",
    "    if x in range(0,6):\n",
    "        pod = 4 #night\n",
    "    elif x in range(6,12):\n",
    "        pod = 1 #morning\n",
    "    elif x in range(12,18):\n",
    "        pod = 2 #afternoon\n",
    "    elif x in range(18, 24):\n",
    "        pod = 3 #evening\n",
    "    else:\n",
    "        pod = np.nan\n",
    "    return pod\n",
    "#test\n",
    "for hr in range(0, 24):\n",
    "    print('hr:', hr, 'pod:', hourPartofDay(hr))"
   ]
  },
  {
   "cell_type": "code",
   "execution_count": 56,
   "metadata": {
    "scrolled": true
   },
   "outputs": [
    {
     "data": {
      "text/html": [
       "<div>\n",
       "<style scoped>\n",
       "    .dataframe tbody tr th:only-of-type {\n",
       "        vertical-align: middle;\n",
       "    }\n",
       "\n",
       "    .dataframe tbody tr th {\n",
       "        vertical-align: top;\n",
       "    }\n",
       "\n",
       "    .dataframe thead th {\n",
       "        text-align: right;\n",
       "    }\n",
       "</style>\n",
       "<table border=\"1\" class=\"dataframe\">\n",
       "  <thead>\n",
       "    <tr style=\"text-align: right;\">\n",
       "      <th></th>\n",
       "      <th>instant</th>\n",
       "      <th>dteday</th>\n",
       "      <th>season</th>\n",
       "      <th>yr</th>\n",
       "      <th>mnth</th>\n",
       "      <th>hr</th>\n",
       "      <th>holiday</th>\n",
       "      <th>weekday</th>\n",
       "      <th>workingday</th>\n",
       "      <th>weathersit</th>\n",
       "      <th>temp</th>\n",
       "      <th>atemp</th>\n",
       "      <th>hum</th>\n",
       "      <th>windspeed</th>\n",
       "      <th>casual</th>\n",
       "      <th>registered</th>\n",
       "      <th>cnt</th>\n",
       "      <th>time_label</th>\n",
       "    </tr>\n",
       "  </thead>\n",
       "  <tbody>\n",
       "    <tr>\n",
       "      <th>14439</th>\n",
       "      <td>14440</td>\n",
       "      <td>2012-08-29</td>\n",
       "      <td>3</td>\n",
       "      <td>1</td>\n",
       "      <td>8</td>\n",
       "      <td>20</td>\n",
       "      <td>0</td>\n",
       "      <td>3</td>\n",
       "      <td>1</td>\n",
       "      <td>1</td>\n",
       "      <td>0.68</td>\n",
       "      <td>0.6364</td>\n",
       "      <td>0.57</td>\n",
       "      <td>0.0000</td>\n",
       "      <td>49</td>\n",
       "      <td>378</td>\n",
       "      <td>427</td>\n",
       "      <td>3</td>\n",
       "    </tr>\n",
       "    <tr>\n",
       "      <th>10241</th>\n",
       "      <td>10242</td>\n",
       "      <td>2012-03-07</td>\n",
       "      <td>1</td>\n",
       "      <td>1</td>\n",
       "      <td>3</td>\n",
       "      <td>19</td>\n",
       "      <td>0</td>\n",
       "      <td>3</td>\n",
       "      <td>1</td>\n",
       "      <td>1</td>\n",
       "      <td>0.54</td>\n",
       "      <td>0.5152</td>\n",
       "      <td>0.42</td>\n",
       "      <td>0.3582</td>\n",
       "      <td>16</td>\n",
       "      <td>345</td>\n",
       "      <td>361</td>\n",
       "      <td>3</td>\n",
       "    </tr>\n",
       "    <tr>\n",
       "      <th>9935</th>\n",
       "      <td>9936</td>\n",
       "      <td>2012-02-24</td>\n",
       "      <td>1</td>\n",
       "      <td>1</td>\n",
       "      <td>2</td>\n",
       "      <td>0</td>\n",
       "      <td>0</td>\n",
       "      <td>5</td>\n",
       "      <td>1</td>\n",
       "      <td>2</td>\n",
       "      <td>0.44</td>\n",
       "      <td>0.4394</td>\n",
       "      <td>0.58</td>\n",
       "      <td>0.0896</td>\n",
       "      <td>12</td>\n",
       "      <td>34</td>\n",
       "      <td>46</td>\n",
       "      <td>4</td>\n",
       "    </tr>\n",
       "    <tr>\n",
       "      <th>4674</th>\n",
       "      <td>4675</td>\n",
       "      <td>2011-07-18</td>\n",
       "      <td>3</td>\n",
       "      <td>0</td>\n",
       "      <td>7</td>\n",
       "      <td>16</td>\n",
       "      <td>0</td>\n",
       "      <td>1</td>\n",
       "      <td>1</td>\n",
       "      <td>1</td>\n",
       "      <td>0.84</td>\n",
       "      <td>0.8030</td>\n",
       "      <td>0.53</td>\n",
       "      <td>0.2836</td>\n",
       "      <td>45</td>\n",
       "      <td>220</td>\n",
       "      <td>265</td>\n",
       "      <td>2</td>\n",
       "    </tr>\n",
       "    <tr>\n",
       "      <th>4047</th>\n",
       "      <td>4048</td>\n",
       "      <td>2011-06-22</td>\n",
       "      <td>3</td>\n",
       "      <td>0</td>\n",
       "      <td>6</td>\n",
       "      <td>13</td>\n",
       "      <td>0</td>\n",
       "      <td>3</td>\n",
       "      <td>1</td>\n",
       "      <td>2</td>\n",
       "      <td>0.82</td>\n",
       "      <td>0.7879</td>\n",
       "      <td>0.56</td>\n",
       "      <td>0.2537</td>\n",
       "      <td>34</td>\n",
       "      <td>113</td>\n",
       "      <td>147</td>\n",
       "      <td>2</td>\n",
       "    </tr>\n",
       "  </tbody>\n",
       "</table>\n",
       "</div>"
      ],
      "text/plain": [
       "       instant      dteday  season  yr  mnth  hr  holiday  weekday  \\\n",
       "14439    14440  2012-08-29       3   1     8  20        0        3   \n",
       "10241    10242  2012-03-07       1   1     3  19        0        3   \n",
       "9935      9936  2012-02-24       1   1     2   0        0        5   \n",
       "4674      4675  2011-07-18       3   0     7  16        0        1   \n",
       "4047      4048  2011-06-22       3   0     6  13        0        3   \n",
       "\n",
       "       workingday  weathersit  temp   atemp   hum  windspeed  casual  \\\n",
       "14439           1           1  0.68  0.6364  0.57     0.0000      49   \n",
       "10241           1           1  0.54  0.5152  0.42     0.3582      16   \n",
       "9935            1           2  0.44  0.4394  0.58     0.0896      12   \n",
       "4674            1           1  0.84  0.8030  0.53     0.2836      45   \n",
       "4047            1           2  0.82  0.7879  0.56     0.2537      34   \n",
       "\n",
       "       registered  cnt  time_label  \n",
       "14439         378  427           3  \n",
       "10241         345  361           3  \n",
       "9935           34   46           4  \n",
       "4674          220  265           2  \n",
       "4047          113  147           2  "
      ]
     },
     "execution_count": 56,
     "metadata": {},
     "output_type": "execute_result"
    }
   ],
   "source": [
    "bike_rentals['time_label'] = bike_rentals.hr.apply(hourPartofDay)\n",
    "bike_rentals.sample(5)"
   ]
  },
  {
   "cell_type": "markdown",
   "metadata": {},
   "source": [
    "### Redo correlations with new variable"
   ]
  },
  {
   "cell_type": "code",
   "execution_count": 57,
   "metadata": {
    "scrolled": true
   },
   "outputs": [
    {
     "data": {
      "text/plain": [
       "instant       0.278379\n",
       "season        0.178056\n",
       "yr            0.250495\n",
       "mnth          0.120638\n",
       "hr            0.394071\n",
       "holiday      -0.030927\n",
       "weekday       0.026900\n",
       "workingday    0.030284\n",
       "weathersit   -0.142426\n",
       "temp          0.404772\n",
       "atemp         0.400929\n",
       "hum          -0.322911\n",
       "windspeed     0.093234\n",
       "casual        0.694564\n",
       "registered    0.972151\n",
       "cnt           1.000000\n",
       "time_label   -0.378318\n",
       "Name: cnt, dtype: float64"
      ]
     },
     "execution_count": 57,
     "metadata": {},
     "output_type": "execute_result"
    }
   ],
   "source": [
    "correlations = bike_rentals.corr()\n",
    "correlations['cnt']"
   ]
  },
  {
   "cell_type": "code",
   "execution_count": 58,
   "metadata": {
    "scrolled": true
   },
   "outputs": [
    {
     "data": {
      "text/plain": [
       "<matplotlib.axes._subplots.AxesSubplot at 0x7fd804452080>"
      ]
     },
     "execution_count": 58,
     "metadata": {},
     "output_type": "execute_result"
    },
    {
     "data": {
      "image/png": "[encoded data removed]",
      "text/plain": [
       "<matplotlib.figure.Figure at 0x7fd804443278>"
      ]
     },
     "metadata": {},
     "output_type": "display_data"
    }
   ],
   "source": [
    "sns.heatmap(correlations, cmap=\"YlGnBu\", vmax=1, vmin=-1)"
   ]
  },
  {
   "cell_type": "markdown",
   "metadata": {},
   "source": [
    "In the end it looks like hr has a slightly higher absolute correlations with cnt than time label. So we'll drop time label. But it was worth a try. "
   ]
  },
  {
   "cell_type": "markdown",
   "metadata": {},
   "source": [
    "## 3. Build a Model to Predict Rentals"
   ]
  },
  {
   "cell_type": "markdown",
   "metadata": {},
   "source": [
    "### Choose an Error Metric\n",
    "Whether to choose mean absolute error or root mean squared error really depends on the business need. [See below][1]. Say the model predicts 6 and the actual was 3. In the context of the problem is that prediction twice as bad (linear) or three times as bad (squared)? It depends. In this case, we don't know which applies, and it's easy to calculate both, so I'll use both MAE and RMSE. \n",
    "\n",
    "[1]: https://medium.com/human-in-a-machine-world/mae-and-rmse-which-metric-is-better-e60ac3bde13d"
   ]
  },
  {
   "cell_type": "code",
   "execution_count": 59,
   "metadata": {},
   "outputs": [],
   "source": [
    "from sklearn.metrics import mean_absolute_error, mean_squared_error"
   ]
  },
  {
   "cell_type": "markdown",
   "metadata": {},
   "source": [
    "### Split Data into Train and Test\n",
    "We want 80% of the data, chosen at random, to go into the training set. And the remainder to go into the test set."
   ]
  },
  {
   "cell_type": "code",
   "execution_count": 60,
   "metadata": {},
   "outputs": [],
   "source": [
    "# How many rows is 80% in our data set?\n",
    "## How many rows in our dataset?\n",
    "trainsample = np.round(bike_rentals.shape[0]*.8)\n",
    "trainsample = int(trainsample)\n",
    "\n",
    "# Assign the calculated sample size to train\n",
    "train = bike_rentals.sample(trainsample)\n",
    "\n",
    "# Assign those not in the train sample to test\n",
    "#bike_rentals.index.isin(train.index) #gives a series of true if a row is in train and false if not\n",
    "#we want the opposite\n",
    "\n",
    "test = bike_rentals.loc[~bike_rentals.index.isin(train.index)]"
   ]
  },
  {
   "cell_type": "code",
   "execution_count": 61,
   "metadata": {},
   "outputs": [
    {
     "name": "stdout",
     "output_type": "stream",
     "text": [
      "Train shape: (13903, 18) Test shape: (3476, 18)\n"
     ]
    }
   ],
   "source": [
    "print('Train shape:', train.shape, 'Test shape:', test.shape)"
   ]
  },
  {
   "cell_type": "markdown",
   "metadata": {},
   "source": [
    "## 4. Linear Regression\n",
    "### Choose features\n",
    "Mainly looking to remove collinear variables and data leakages. "
   ]
  },
  {
   "cell_type": "code",
   "execution_count": 62,
   "metadata": {},
   "outputs": [],
   "source": [
    "from sklearn.linear_model import LinearRegression"
   ]
  },
  {
   "cell_type": "code",
   "execution_count": 63,
   "metadata": {},
   "outputs": [
    {
     "data": {
      "text/plain": [
       "['instant',\n",
       " 'dteday',\n",
       " 'season',\n",
       " 'yr',\n",
       " 'mnth',\n",
       " 'hr',\n",
       " 'holiday',\n",
       " 'weekday',\n",
       " 'workingday',\n",
       " 'weathersit',\n",
       " 'temp',\n",
       " 'atemp',\n",
       " 'hum',\n",
       " 'windspeed',\n",
       " 'casual',\n",
       " 'registered',\n",
       " 'cnt',\n",
       " 'time_label']"
      ]
     },
     "execution_count": 63,
     "metadata": {},
     "output_type": "execute_result"
    }
   ],
   "source": [
    "features = bike_rentals.columns.tolist()\n",
    "\n",
    "features"
   ]
  },
  {
   "cell_type": "markdown",
   "metadata": {},
   "source": [
    "Well, we know that cnt = casusal and registered. Also that cnt will be the target. So we can remove all three of these. \n",
    "\n",
    "Instant is the index so we can also remove that for fear of data leakage. Same with dteday. They are also collinear with yr. \n",
    "\n",
    "Month and season too have the same issue. We'll keep season since it has higher correlation with cnt than month.\n",
    "\n",
    "We also decided that time_label was not as good as hour. So we'll keep hr. \n",
    "\n",
    "Atemp and temp are highly collinear. We'll keep temp. \n",
    "\n",
    "Finally weathersit and humidity. We'll keep the latter. \n"
   ]
  },
  {
   "cell_type": "code",
   "execution_count": 64,
   "metadata": {},
   "outputs": [
    {
     "data": {
      "text/plain": [
       "['season',\n",
       " 'yr',\n",
       " 'hr',\n",
       " 'holiday',\n",
       " 'weekday',\n",
       " 'workingday',\n",
       " 'temp',\n",
       " 'hum',\n",
       " 'windspeed']"
      ]
     },
     "execution_count": 64,
     "metadata": {},
     "output_type": "execute_result"
    }
   ],
   "source": [
    "todrop = ['cnt', 'casual', 'registered', 'instant','dteday', 'mnth', 'time_label', 'atemp', 'weathersit']\n",
    "for col in todrop:\n",
    "    features.remove(col)\n",
    "features"
   ]
  },
  {
   "cell_type": "code",
   "execution_count": 65,
   "metadata": {},
   "outputs": [
    {
     "data": {
      "text/html": [
       "<div>\n",
       "<style scoped>\n",
       "    .dataframe tbody tr th:only-of-type {\n",
       "        vertical-align: middle;\n",
       "    }\n",
       "\n",
       "    .dataframe tbody tr th {\n",
       "        vertical-align: top;\n",
       "    }\n",
       "\n",
       "    .dataframe thead th {\n",
       "        text-align: right;\n",
       "    }\n",
       "</style>\n",
       "<table border=\"1\" class=\"dataframe\">\n",
       "  <thead>\n",
       "    <tr style=\"text-align: right;\">\n",
       "      <th></th>\n",
       "      <th>season</th>\n",
       "      <th>yr</th>\n",
       "      <th>hr</th>\n",
       "      <th>holiday</th>\n",
       "      <th>weekday</th>\n",
       "      <th>workingday</th>\n",
       "      <th>temp</th>\n",
       "      <th>hum</th>\n",
       "      <th>windspeed</th>\n",
       "    </tr>\n",
       "  </thead>\n",
       "  <tbody>\n",
       "    <tr>\n",
       "      <th>4447</th>\n",
       "      <td>3</td>\n",
       "      <td>0</td>\n",
       "      <td>5</td>\n",
       "      <td>0</td>\n",
       "      <td>6</td>\n",
       "      <td>0</td>\n",
       "      <td>0.62</td>\n",
       "      <td>0.88</td>\n",
       "      <td>0.1642</td>\n",
       "    </tr>\n",
       "    <tr>\n",
       "      <th>11598</th>\n",
       "      <td>2</td>\n",
       "      <td>1</td>\n",
       "      <td>11</td>\n",
       "      <td>0</td>\n",
       "      <td>4</td>\n",
       "      <td>1</td>\n",
       "      <td>0.54</td>\n",
       "      <td>0.77</td>\n",
       "      <td>0.0000</td>\n",
       "    </tr>\n",
       "    <tr>\n",
       "      <th>10111</th>\n",
       "      <td>1</td>\n",
       "      <td>1</td>\n",
       "      <td>9</td>\n",
       "      <td>0</td>\n",
       "      <td>5</td>\n",
       "      <td>1</td>\n",
       "      <td>0.30</td>\n",
       "      <td>0.81</td>\n",
       "      <td>0.0000</td>\n",
       "    </tr>\n",
       "    <tr>\n",
       "      <th>9922</th>\n",
       "      <td>1</td>\n",
       "      <td>1</td>\n",
       "      <td>11</td>\n",
       "      <td>0</td>\n",
       "      <td>4</td>\n",
       "      <td>1</td>\n",
       "      <td>0.48</td>\n",
       "      <td>0.48</td>\n",
       "      <td>0.2836</td>\n",
       "    </tr>\n",
       "    <tr>\n",
       "      <th>7016</th>\n",
       "      <td>4</td>\n",
       "      <td>0</td>\n",
       "      <td>23</td>\n",
       "      <td>0</td>\n",
       "      <td>1</td>\n",
       "      <td>1</td>\n",
       "      <td>0.46</td>\n",
       "      <td>0.77</td>\n",
       "      <td>0.0896</td>\n",
       "    </tr>\n",
       "  </tbody>\n",
       "</table>\n",
       "</div>"
      ],
      "text/plain": [
       "       season  yr  hr  holiday  weekday  workingday  temp   hum  windspeed\n",
       "4447        3   0   5        0        6           0  0.62  0.88     0.1642\n",
       "11598       2   1  11        0        4           1  0.54  0.77     0.0000\n",
       "10111       1   1   9        0        5           1  0.30  0.81     0.0000\n",
       "9922        1   1  11        0        4           1  0.48  0.48     0.2836\n",
       "7016        4   0  23        0        1           1  0.46  0.77     0.0896"
      ]
     },
     "execution_count": 65,
     "metadata": {},
     "output_type": "execute_result"
    }
   ],
   "source": [
    "train[features].sample(5)"
   ]
  },
  {
   "cell_type": "markdown",
   "metadata": {},
   "source": [
    "### Choose Target"
   ]
  },
  {
   "cell_type": "code",
   "execution_count": 66,
   "metadata": {},
   "outputs": [],
   "source": [
    "target = ['cnt']"
   ]
  },
  {
   "cell_type": "markdown",
   "metadata": {},
   "source": [
    "### Linear Regression Model"
   ]
  },
  {
   "cell_type": "code",
   "execution_count": 67,
   "metadata": {},
   "outputs": [
    {
     "name": "stdout",
     "output_type": "stream",
     "text": [
      "Linear Regression RMSE: 137.470367903\n",
      "Linear Regression MAE: 104.246479183\n"
     ]
    }
   ],
   "source": [
    "model = LinearRegression()\n",
    "model.fit(train[features], train[target])\n",
    "predictions = model.predict(test[features])\n",
    "rmse_linearRegression = mean_squared_error(test[target], predictions)**.5\n",
    "mae_linearRegression = mean_absolute_error(test[target], predictions)\n",
    "\n",
    "print('Linear Regression RMSE:', rmse_linearRegression)\n",
    "print('Linear Regression MAE:', mae_linearRegression)"
   ]
  },
  {
   "cell_type": "markdown",
   "metadata": {},
   "source": [
    "Given that the average value of cnt from above is about 190. On average we're off by about:"
   ]
  },
  {
   "cell_type": "code",
   "execution_count": 68,
   "metadata": {},
   "outputs": [
    {
     "name": "stdout",
     "output_type": "stream",
     "text": [
      "RMSE: 74.2%\n",
      "MAE: 55.3%\n"
     ]
    }
   ],
   "source": [
    "print('RMSE: {:0.1f}%'.format(141/190*100))\n",
    "print('MAE: {:0.1f}%'.format(105/190*100))\n"
   ]
  },
  {
   "cell_type": "markdown",
   "metadata": {},
   "source": [
    "Not exactly great. But perhaps not surprising. Season, hour, weekday don't really operate linearly. Weekday doesn't have much variation at all.  "
   ]
  },
  {
   "cell_type": "code",
   "execution_count": 69,
   "metadata": {
    "scrolled": false
   },
   "outputs": [
    {
     "data": {
      "text/plain": [
       "Text(0.5,1,'Sum of Count by Weekday')"
      ]
     },
     "execution_count": 69,
     "metadata": {},
     "output_type": "execute_result"
    },
    {
     "data": {
      "image/png": "[encoded data removed]",
      "text/plain": [
       "<matplotlib.figure.Figure at 0x7fd7ff5feba8>"
      ]
     },
     "metadata": {},
     "output_type": "display_data"
    }
   ],
   "source": [
    "f, (ax1, ax2, ax3) = plt.subplots(1,3, figsize=(18,4))\n",
    "\n",
    "grpdf = bike_rentals.groupby('season').sum()\n",
    "ax1.bar(grpdf.index,grpdf.cnt)\n",
    "ax1.set_title('Sum of Count by Season')\n",
    "\n",
    "grpdf = bike_rentals.groupby('hr').sum()\n",
    "ax2.bar(grpdf.index,grpdf.cnt)\n",
    "ax2.set_title('Sum of Count by Hour')\n",
    "\n",
    "grpdf = bike_rentals.groupby('weekday').sum()\n",
    "ax3.bar(grpdf.index,grpdf.cnt)\n",
    "ax3.set_title('Sum of Count by Weekday')"
   ]
  },
  {
   "cell_type": "markdown",
   "metadata": {},
   "source": [
    "Temperatue is somewhat linear, humidity is less clear, windspeed too is only somewhat linear. So not a lot of help from these variables. Let's try some other models that might do better with nonlinearity. I'm thinking decision trees. "
   ]
  },
  {
   "cell_type": "markdown",
   "metadata": {},
   "source": [
    "f, (ax1, ax2, ax3) = plt.subplots(1,3, figsize=(18,4))\n",
    "\n",
    "ax1.scatter(bike_rentals.temp,bike_rentals.cnt)\n",
    "ax1.set_title('Temperature')\n",
    "\n",
    "ax2.scatter(bike_rentals.hum,bike_rentals.cnt)\n",
    "ax2.set_title('Humidity')\n",
    "\n",
    "ax3.scatter(bike_rentals.windspeed,bike_rentals.cnt)\n",
    "ax3.set_title('Windspeed')\n"
   ]
  },
  {
   "cell_type": "markdown",
   "metadata": {},
   "source": [
    "## 5. Decision Tree Model"
   ]
  },
  {
   "cell_type": "code",
   "execution_count": 70,
   "metadata": {},
   "outputs": [],
   "source": [
    "from sklearn.tree import DecisionTreeRegressor"
   ]
  },
  {
   "cell_type": "markdown",
   "metadata": {},
   "source": [
    "### Version 1: Plain Vanilla"
   ]
  },
  {
   "cell_type": "code",
   "execution_count": 71,
   "metadata": {},
   "outputs": [
    {
     "name": "stdout",
     "output_type": "stream",
     "text": [
      "Decision Tree RMSE: 59.6076800239\n",
      "Decision Tree MAE: 36.3489643268\n"
     ]
    }
   ],
   "source": [
    "model = DecisionTreeRegressor()\n",
    "model.fit(train[features], train[target])\n",
    "predictions = model.predict(test[features])\n",
    "rmse_dt1 = mean_squared_error(test[target], predictions)**.5\n",
    "mae_dt1 = mean_absolute_error(test[target], predictions)\n",
    "\n",
    "print('Decision Tree RMSE:', rmse_dt1)\n",
    "print('Decision Tree MAE:', mae_dt1)\n"
   ]
  },
  {
   "cell_type": "markdown",
   "metadata": {},
   "source": [
    "Already we are seeing a 2 to 3x improvement with the plain vanilla decision tree. And we could further try to improve this by varying the decision tree. I'll check to see if the tree is overfitting. We can try to limit how deep it goes and how many minimum samples should be required to split on a variable. Then, maybe we can also try bagging and or feature selection getting into random forests. \n",
    "\n",
    "First, let's check if there is overfitting happening. For that, I'll compare the RSME for the training data to the one we got above on the test data."
   ]
  },
  {
   "cell_type": "code",
   "execution_count": 72,
   "metadata": {},
   "outputs": [
    {
     "name": "stdout",
     "output_type": "stream",
     "text": [
      "Decision Tree RMSE with Training Data: 2.84996066075\n"
     ]
    }
   ],
   "source": [
    "predictions_train = model.predict(train[features])\n",
    "rmse_train_dt1 = mean_squared_error(train[target], predictions_train)**.5\n",
    "print('Decision Tree RMSE with Training Data:', rmse_train_dt1)"
   ]
  },
  {
   "cell_type": "markdown",
   "metadata": {},
   "source": [
    "So yeah, massive overrfitting going on. Let's try min_samples_split = 100, max_depth = 10 in sequential order. "
   ]
  },
  {
   "cell_type": "markdown",
   "metadata": {},
   "source": [
    "### Version 2: Decision Tree with min sample for split = 100 "
   ]
  },
  {
   "cell_type": "code",
   "execution_count": 73,
   "metadata": {},
   "outputs": [
    {
     "data": {
      "image/png": "[encoded data removed]",
      "text/plain": [
       "<matplotlib.figure.Figure at 0x7fd7ff3defd0>"
      ]
     },
     "metadata": {},
     "output_type": "display_data"
    }
   ],
   "source": [
    "split = []\n",
    "rmse_test = []\n",
    "rmse_train = []\n",
    "\n",
    "for i in range(2, 501, 50):\n",
    "    model = DecisionTreeRegressor(min_samples_split = i)\n",
    "\n",
    "    model.fit(train[features], train[target])\n",
    "    predictions = model.predict(test[features])\n",
    "    predictions_train = model.predict(train[features])\n",
    "\n",
    "    rmse_dt1 = mean_squared_error(test[target], predictions)**.5\n",
    "    mae_dt1 = mean_absolute_error(test[target], predictions)\n",
    "    rmse_train_dt1 = mean_squared_error(train[target], predictions_train)**.5\n",
    "    \n",
    "    split.append(i)\n",
    "    rmse_test.append(rmse_dt1)\n",
    "    rmse_train.append(rmse_train_dt1)\n",
    "\n",
    "    #print('Decision Tree RMSE with Training Data:', rmse_train_dt1)\n",
    "    #print('Decision Tree RMSE:', rmse_dt1)\n",
    "    #print('Decision Tree MAE:', mae_dt1)\n",
    "\n",
    "f, ax = plt.subplots()\n",
    "ax.plot(split, rmse_test, color = 'red')\n",
    "ax.plot(split, rmse_train, color = 'blue')\n",
    "ax.set_title('Test and Training RMSE by Number of Splits')\n",
    "plt.show()"
   ]
  },
  {
   "cell_type": "markdown",
   "metadata": {},
   "source": [
    "That seems to solve the overfitting problem but doesn't seem to improve the overall model much. Le't make max split 80. And let's try to contain the depth as well. "
   ]
  },
  {
   "cell_type": "markdown",
   "metadata": {},
   "source": [
    "### Version 3: Decision Tree with min sample for split = 80, depth = 12"
   ]
  },
  {
   "cell_type": "code",
   "execution_count": 74,
   "metadata": {},
   "outputs": [
    {
     "data": {
      "text/plain": [
       "<function matplotlib.pyplot.show>"
      ]
     },
     "execution_count": 74,
     "metadata": {},
     "output_type": "execute_result"
    },
    {
     "data": {
      "image/png": "[encoded data removed]",
      "text/plain": [
       "<matplotlib.figure.Figure at 0x7fd7ff3760f0>"
      ]
     },
     "metadata": {},
     "output_type": "display_data"
    }
   ],
   "source": [
    "depth = []\n",
    "rmse_test = []\n",
    "rmse_train = []\n",
    "for d in range(1, 20, 1):\n",
    "    model = DecisionTreeRegressor(min_samples_split = 80, max_depth = d)\n",
    "\n",
    "    model.fit(train[features], train[target])\n",
    "    predictions = model.predict(test[features])\n",
    "    predictions_train = model.predict(train[features])\n",
    "\n",
    "    rmse_dt1 = mean_squared_error(test[target], predictions)**.5\n",
    "    mae_dt1 = mean_absolute_error(test[target], predictions)\n",
    "    rmse_train_dt1 = mean_squared_error(train[target], predictions_train)**.5\n",
    "    \n",
    "    depth.append(d)\n",
    "    rmse_test.append(rmse_dt1)\n",
    "    rmse_train.append(rmse_train_dt1)\n",
    "    \n",
    "    #print('Decision Tree RMSE with Training Data:', rmse_train_dt1)\n",
    "    #print('Decision Tree RMSE:', rmse_dt1)\n",
    "    #print('Decision Tree MAE:', mae_dt1)\n",
    "\n",
    "f, ax = plt.subplots()\n",
    "ax.plot(depth, rmse_test, color = 'red')\n",
    "ax.plot(depth, rmse_train, color = 'blue')\n",
    "ax.set_title('Test and Training RMSE by Max Tree Depth')\n",
    "plt.show"
   ]
  },
  {
   "cell_type": "markdown",
   "metadata": {},
   "source": [
    "Optimal depth seems to be around 12. "
   ]
  },
  {
   "cell_type": "code",
   "execution_count": 75,
   "metadata": {},
   "outputs": [
    {
     "name": "stdout",
     "output_type": "stream",
     "text": [
      "Decision Tree RMSE with Training Data: 56.1904102801\n",
      "Decision Tree RMSE: 60.2666346745\n",
      "Decision Tree MAE: 37.5963539956\n"
     ]
    }
   ],
   "source": [
    "model = DecisionTreeRegressor(min_samples_split = 80, max_depth = 12)\n",
    "\n",
    "model.fit(train[features], train[target])\n",
    "predictions = model.predict(test[features])\n",
    "predictions_train = model.predict(train[features])\n",
    "\n",
    "rmse_dt1 = mean_squared_error(test[target], predictions)**.5\n",
    "mae_dt1 = mean_absolute_error(test[target], predictions)\n",
    "rmse_train_dt1 = mean_squared_error(train[target], predictions_train)**.5\n",
    "    \n",
    "print('Decision Tree RMSE with Training Data:', rmse_train_dt1)\n",
    "print('Decision Tree RMSE:', rmse_dt1)\n",
    "print('Decision Tree MAE:', mae_dt1)"
   ]
  },
  {
   "cell_type": "markdown",
   "metadata": {},
   "source": [
    "## 6. Random Forest Model"
   ]
  },
  {
   "cell_type": "markdown",
   "metadata": {},
   "source": [
    "### Version 1: The Plain Vanilla RF Model"
   ]
  },
  {
   "cell_type": "code",
   "execution_count": 76,
   "metadata": {},
   "outputs": [],
   "source": [
    "from sklearn.ensemble import RandomForestRegressor"
   ]
  },
  {
   "cell_type": "code",
   "execution_count": 77,
   "metadata": {
    "scrolled": true
   },
   "outputs": [
    {
     "name": "stdout",
     "output_type": "stream",
     "text": [
      "Random Forest RMSE with Training Data: 47.5098791272\n",
      "Random Forest RMSE: 52.6701786358\n",
      "Random Forest MAE: 32.3203259195\n"
     ]
    }
   ],
   "source": [
    "model = RandomForestRegressor(n_estimators = 5, min_samples_leaf = 10)\n",
    "\n",
    "traintarget = np.ravel(train[target]) #convert column vector to array as required by RandomForestRegressor\n",
    "\n",
    "model.fit(train[features], traintarget)\n",
    "predictions = model.predict(test[features])\n",
    "predictions_train = model.predict(train[features])\n",
    "\n",
    "rmse_rf = mean_squared_error(test[target], predictions)**.5\n",
    "mae_rf = mean_absolute_error(test[target], predictions)\n",
    "rmse_train_rf = mean_squared_error(train[target], predictions_train)**.5\n",
    "    \n",
    "print('Random Forest RMSE with Training Data:', rmse_train_rf)\n",
    "print('Random Forest RMSE:', rmse_rf)\n",
    "print('Random Forest MAE:', mae_rf)"
   ]
  },
  {
   "cell_type": "markdown",
   "metadata": {},
   "source": [
    "An obious improvement there on the decision tree models with the ensemble Random Forest. Let's try one last thing. What if you just throw in all the variables?"
   ]
  },
  {
   "cell_type": "markdown",
   "metadata": {},
   "source": [
    "### Version 2: The Kitchen Sink RF Model"
   ]
  },
  {
   "cell_type": "code",
   "execution_count": 78,
   "metadata": {
    "scrolled": true
   },
   "outputs": [],
   "source": [
    "allcols = bike_rentals.columns.tolist()"
   ]
  },
  {
   "cell_type": "markdown",
   "metadata": {},
   "source": [
    "We'll drop the models we know to be confouding or connected with error. "
   ]
  },
  {
   "cell_type": "code",
   "execution_count": 79,
   "metadata": {
    "scrolled": true
   },
   "outputs": [
    {
     "data": {
      "text/plain": [
       "['season',\n",
       " 'yr',\n",
       " 'hr',\n",
       " 'holiday',\n",
       " 'weekday',\n",
       " 'workingday',\n",
       " 'temp',\n",
       " 'hum',\n",
       " 'windspeed']"
      ]
     },
     "execution_count": 79,
     "metadata": {},
     "output_type": "execute_result"
    }
   ],
   "source": [
    "todrop = ['cnt', 'casual', 'registered', 'instant','dteday']\n",
    "for col in todrop:\n",
    "    allcols.remove(col)\n",
    "features"
   ]
  },
  {
   "cell_type": "markdown",
   "metadata": {},
   "source": [
    "Now let's run the kitchen sink model"
   ]
  },
  {
   "cell_type": "code",
   "execution_count": 80,
   "metadata": {},
   "outputs": [
    {
     "name": "stdout",
     "output_type": "stream",
     "text": [
      "Random Forest RMSE with Training Data: 44.9302535385\n",
      "Random Forest RMSE: 50.8566428418\n",
      "Random Forest MAE: 31.1729103821\n"
     ]
    }
   ],
   "source": [
    "model = RandomForestRegressor(n_estimators = 5, min_samples_leaf = 10)\n",
    "\n",
    "traintarget = np.ravel(train[target]) #convert column vector to array as required by RandomForestRegressor\n",
    "\n",
    "model.fit(train[allcols], traintarget)\n",
    "predictions = model.predict(test[allcols])\n",
    "predictions_train = model.predict(train[allcols])\n",
    "\n",
    "rmse_rf = mean_squared_error(test[target], predictions)**.5\n",
    "mae_rf = mean_absolute_error(test[target], predictions)\n",
    "rmse_train_rf = mean_squared_error(train[target], predictions_train)**.5\n",
    "    \n",
    "print('Random Forest RMSE with Training Data:', rmse_train_rf)\n",
    "print('Random Forest RMSE:', rmse_rf)\n",
    "print('Random Forest MAE:', mae_rf)"
   ]
  },
  {
   "cell_type": "markdown",
   "metadata": {},
   "source": [
    "There is a modest improvement. This makes sense because we'd initially removed those columns in the first place because we though they were collinear with the ones we already had. "
   ]
  }
 ],
 "metadata": {
  "kernelspec": {
   "display_name": "Python 3",
   "language": "python",
   "name": "python3"
  },
  "language_info": {
   "codemirror_mode": {
    "name": "ipython",
    "version": 3
   },
   "file_extension": ".py",
   "mimetype": "text/x-python",
   "name": "python",
   "nbconvert_exporter": "python",
   "pygments_lexer": "ipython3",
   "version": "3.6.3"
  }
 },
 "nbformat": 4,
 "nbformat_minor": 1
}
