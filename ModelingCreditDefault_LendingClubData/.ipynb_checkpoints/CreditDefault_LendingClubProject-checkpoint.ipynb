{
 "cells": [
  {
   "cell_type": "markdown",
   "metadata": {},
   "source": [
    "# Modeling Credit Default Guided Project - Lending Club Data\n",
    "Soham Sen | Mar 8, 2018"
   ]
  },
  {
   "cell_type": "markdown",
   "metadata": {},
   "source": [
    "The data comes from Lending Club, the peer to peer lending company specifically the loans that originated from 2007 to 2011. \n",
    "\n",
    "[Source of Data](https://www.lendingclub.com/info/download-data.action) And data dictionary [here](https://resources.lendingclub.com/LCDataDictionary.xlsx)\n"
   ]
  },
  {
   "cell_type": "markdown",
   "metadata": {},
   "source": [
    "## 0. Setup"
   ]
  },
  {
   "cell_type": "code",
   "execution_count": 1,
   "metadata": {},
   "outputs": [],
   "source": [
    "import pandas as pd\n",
    "import numpy as np\n",
    "\n",
    "import matplotlib.pyplot as plt\n",
    "%matplotlib inline\n",
    "import seaborn as sns\n"
   ]
  },
  {
   "cell_type": "markdown",
   "metadata": {},
   "source": [
    "## 1. Loading the Data"
   ]
  },
  {
   "cell_type": "markdown",
   "metadata": {},
   "source": [
    "Notes on the data (from Dataquest)\n",
    "To ensure that code runs fast on our platform, we reduced the size of LoanStats3a.csv by:\n",
    "\n",
    "* removing the first line: because it contains the extraneous text Notes offered by Prospectus (https://www.lendingclub.com/info/prospectus.action) instead of the column titles, which prevents the dataset from being parsed by the pandas library properly\n",
    "* removing the desc column: which contains a long text explanation for each loan\n",
    "* removing all columns containing more than 50% missing values: which allows us to move faster since we can spend less time trying to fill these values"
   ]
  },
  {
   "cell_type": "code",
   "execution_count": 2,
   "metadata": {},
   "outputs": [
    {
     "name": "stderr",
     "output_type": "stream",
     "text": [
      "/home/soham/miniconda3/envs/python3/lib/python3.6/site-packages/IPython/core/interactiveshell.py:2728: DtypeWarning: Columns (0,47) have mixed types. Specify dtype option on import or set low_memory=False.\n",
      "  interactivity=interactivity, compiler=compiler, result=result)\n"
     ]
    }
   ],
   "source": [
    "loans_2007 = pd.read_csv('data/LoanStats3a.csv', skiprows=1)"
   ]
  },
  {
   "cell_type": "code",
   "execution_count": 3,
   "metadata": {},
   "outputs": [],
   "source": [
    "# Since the dataset has a lot of columns, let's adjust the max columns we can see in jupyter notebook so we can\n",
    "# see all the columns\n",
    "\n",
    "pd.options.display.max_columns = 55"
   ]
  },
  {
   "cell_type": "code",
   "execution_count": 4,
   "metadata": {},
   "outputs": [],
   "source": [
    "# drop the columns where 50% of the data are missing and the desc column\n",
    "half_count = len(loans_2007) / 2\n",
    "loans_2007 = loans_2007.dropna(thresh=half_count, axis=1)\n",
    "loans_2007 = loans_2007.drop(['desc'],axis=1)"
   ]
  },
  {
   "cell_type": "code",
   "execution_count": 5,
   "metadata": {
    "scrolled": true
   },
   "outputs": [
    {
     "data": {
      "text/html": [
       "<div>\n",
       "<style scoped>\n",
       "    .dataframe tbody tr th:only-of-type {\n",
       "        vertical-align: middle;\n",
       "    }\n",
       "\n",
       "    .dataframe tbody tr th {\n",
       "        vertical-align: top;\n",
       "    }\n",
       "\n",
       "    .dataframe thead th {\n",
       "        text-align: right;\n",
       "    }\n",
       "</style>\n",
       "<table border=\"1\" class=\"dataframe\">\n",
       "  <thead>\n",
       "    <tr style=\"text-align: right;\">\n",
       "      <th></th>\n",
       "      <th>loan_amnt</th>\n",
       "      <th>funded_amnt</th>\n",
       "      <th>funded_amnt_inv</th>\n",
       "      <th>term</th>\n",
       "      <th>int_rate</th>\n",
       "      <th>installment</th>\n",
       "      <th>grade</th>\n",
       "      <th>sub_grade</th>\n",
       "      <th>emp_title</th>\n",
       "      <th>emp_length</th>\n",
       "      <th>home_ownership</th>\n",
       "      <th>annual_inc</th>\n",
       "      <th>verification_status</th>\n",
       "      <th>issue_d</th>\n",
       "      <th>loan_status</th>\n",
       "      <th>pymnt_plan</th>\n",
       "      <th>purpose</th>\n",
       "      <th>title</th>\n",
       "      <th>zip_code</th>\n",
       "      <th>addr_state</th>\n",
       "      <th>dti</th>\n",
       "      <th>delinq_2yrs</th>\n",
       "      <th>earliest_cr_line</th>\n",
       "      <th>inq_last_6mths</th>\n",
       "      <th>open_acc</th>\n",
       "      <th>pub_rec</th>\n",
       "      <th>revol_bal</th>\n",
       "      <th>revol_util</th>\n",
       "      <th>total_acc</th>\n",
       "      <th>initial_list_status</th>\n",
       "      <th>out_prncp</th>\n",
       "      <th>out_prncp_inv</th>\n",
       "      <th>total_pymnt</th>\n",
       "      <th>total_pymnt_inv</th>\n",
       "      <th>total_rec_prncp</th>\n",
       "      <th>total_rec_int</th>\n",
       "      <th>total_rec_late_fee</th>\n",
       "      <th>recoveries</th>\n",
       "      <th>collection_recovery_fee</th>\n",
       "      <th>last_pymnt_d</th>\n",
       "      <th>last_pymnt_amnt</th>\n",
       "      <th>last_credit_pull_d</th>\n",
       "      <th>collections_12_mths_ex_med</th>\n",
       "      <th>policy_code</th>\n",
       "      <th>application_type</th>\n",
       "      <th>acc_now_delinq</th>\n",
       "      <th>chargeoff_within_12_mths</th>\n",
       "      <th>delinq_amnt</th>\n",
       "      <th>pub_rec_bankruptcies</th>\n",
       "      <th>tax_liens</th>\n",
       "      <th>hardship_flag</th>\n",
       "      <th>disbursement_method</th>\n",
       "      <th>debt_settlement_flag</th>\n",
       "    </tr>\n",
       "  </thead>\n",
       "  <tbody>\n",
       "    <tr>\n",
       "      <th>0</th>\n",
       "      <td>5000.0</td>\n",
       "      <td>5000.0</td>\n",
       "      <td>4975.0</td>\n",
       "      <td>36 months</td>\n",
       "      <td>10.65%</td>\n",
       "      <td>162.87</td>\n",
       "      <td>B</td>\n",
       "      <td>B2</td>\n",
       "      <td>NaN</td>\n",
       "      <td>10+ years</td>\n",
       "      <td>RENT</td>\n",
       "      <td>24000.0</td>\n",
       "      <td>Verified</td>\n",
       "      <td>Dec-2011</td>\n",
       "      <td>Fully Paid</td>\n",
       "      <td>n</td>\n",
       "      <td>credit_card</td>\n",
       "      <td>Computer</td>\n",
       "      <td>860xx</td>\n",
       "      <td>AZ</td>\n",
       "      <td>27.65</td>\n",
       "      <td>0.0</td>\n",
       "      <td>Jan-1985</td>\n",
       "      <td>1.0</td>\n",
       "      <td>3.0</td>\n",
       "      <td>0.0</td>\n",
       "      <td>13648.0</td>\n",
       "      <td>83.7%</td>\n",
       "      <td>9.0</td>\n",
       "      <td>f</td>\n",
       "      <td>0.0</td>\n",
       "      <td>0.0</td>\n",
       "      <td>5863.155187</td>\n",
       "      <td>5833.84</td>\n",
       "      <td>5000.00</td>\n",
       "      <td>863.16</td>\n",
       "      <td>0.00</td>\n",
       "      <td>0.0</td>\n",
       "      <td>0.00</td>\n",
       "      <td>Jan-2015</td>\n",
       "      <td>171.62</td>\n",
       "      <td>Feb-2018</td>\n",
       "      <td>0.0</td>\n",
       "      <td>1.0</td>\n",
       "      <td>Individual</td>\n",
       "      <td>0.0</td>\n",
       "      <td>0.0</td>\n",
       "      <td>0.0</td>\n",
       "      <td>0.0</td>\n",
       "      <td>0.0</td>\n",
       "      <td>N</td>\n",
       "      <td>Cash</td>\n",
       "      <td>N</td>\n",
       "    </tr>\n",
       "    <tr>\n",
       "      <th>1</th>\n",
       "      <td>2500.0</td>\n",
       "      <td>2500.0</td>\n",
       "      <td>2500.0</td>\n",
       "      <td>60 months</td>\n",
       "      <td>15.27%</td>\n",
       "      <td>59.83</td>\n",
       "      <td>C</td>\n",
       "      <td>C4</td>\n",
       "      <td>Ryder</td>\n",
       "      <td>&lt; 1 year</td>\n",
       "      <td>RENT</td>\n",
       "      <td>30000.0</td>\n",
       "      <td>Source Verified</td>\n",
       "      <td>Dec-2011</td>\n",
       "      <td>Charged Off</td>\n",
       "      <td>n</td>\n",
       "      <td>car</td>\n",
       "      <td>bike</td>\n",
       "      <td>309xx</td>\n",
       "      <td>GA</td>\n",
       "      <td>1.00</td>\n",
       "      <td>0.0</td>\n",
       "      <td>Apr-1999</td>\n",
       "      <td>5.0</td>\n",
       "      <td>3.0</td>\n",
       "      <td>0.0</td>\n",
       "      <td>1687.0</td>\n",
       "      <td>9.4%</td>\n",
       "      <td>4.0</td>\n",
       "      <td>f</td>\n",
       "      <td>0.0</td>\n",
       "      <td>0.0</td>\n",
       "      <td>1014.530000</td>\n",
       "      <td>1014.53</td>\n",
       "      <td>456.46</td>\n",
       "      <td>435.17</td>\n",
       "      <td>0.00</td>\n",
       "      <td>122.9</td>\n",
       "      <td>1.11</td>\n",
       "      <td>Apr-2013</td>\n",
       "      <td>119.66</td>\n",
       "      <td>Oct-2016</td>\n",
       "      <td>0.0</td>\n",
       "      <td>1.0</td>\n",
       "      <td>Individual</td>\n",
       "      <td>0.0</td>\n",
       "      <td>0.0</td>\n",
       "      <td>0.0</td>\n",
       "      <td>0.0</td>\n",
       "      <td>0.0</td>\n",
       "      <td>N</td>\n",
       "      <td>Cash</td>\n",
       "      <td>N</td>\n",
       "    </tr>\n",
       "    <tr>\n",
       "      <th>2</th>\n",
       "      <td>2400.0</td>\n",
       "      <td>2400.0</td>\n",
       "      <td>2400.0</td>\n",
       "      <td>36 months</td>\n",
       "      <td>15.96%</td>\n",
       "      <td>84.33</td>\n",
       "      <td>C</td>\n",
       "      <td>C5</td>\n",
       "      <td>NaN</td>\n",
       "      <td>10+ years</td>\n",
       "      <td>RENT</td>\n",
       "      <td>12252.0</td>\n",
       "      <td>Not Verified</td>\n",
       "      <td>Dec-2011</td>\n",
       "      <td>Fully Paid</td>\n",
       "      <td>n</td>\n",
       "      <td>small_business</td>\n",
       "      <td>real estate business</td>\n",
       "      <td>606xx</td>\n",
       "      <td>IL</td>\n",
       "      <td>8.72</td>\n",
       "      <td>0.0</td>\n",
       "      <td>Nov-2001</td>\n",
       "      <td>2.0</td>\n",
       "      <td>2.0</td>\n",
       "      <td>0.0</td>\n",
       "      <td>2956.0</td>\n",
       "      <td>98.5%</td>\n",
       "      <td>10.0</td>\n",
       "      <td>f</td>\n",
       "      <td>0.0</td>\n",
       "      <td>0.0</td>\n",
       "      <td>3005.666844</td>\n",
       "      <td>3005.67</td>\n",
       "      <td>2400.00</td>\n",
       "      <td>605.67</td>\n",
       "      <td>0.00</td>\n",
       "      <td>0.0</td>\n",
       "      <td>0.00</td>\n",
       "      <td>Jun-2014</td>\n",
       "      <td>649.91</td>\n",
       "      <td>Jun-2017</td>\n",
       "      <td>0.0</td>\n",
       "      <td>1.0</td>\n",
       "      <td>Individual</td>\n",
       "      <td>0.0</td>\n",
       "      <td>0.0</td>\n",
       "      <td>0.0</td>\n",
       "      <td>0.0</td>\n",
       "      <td>0.0</td>\n",
       "      <td>N</td>\n",
       "      <td>Cash</td>\n",
       "      <td>N</td>\n",
       "    </tr>\n",
       "    <tr>\n",
       "      <th>3</th>\n",
       "      <td>10000.0</td>\n",
       "      <td>10000.0</td>\n",
       "      <td>10000.0</td>\n",
       "      <td>36 months</td>\n",
       "      <td>13.49%</td>\n",
       "      <td>339.31</td>\n",
       "      <td>C</td>\n",
       "      <td>C1</td>\n",
       "      <td>AIR RESOURCES BOARD</td>\n",
       "      <td>10+ years</td>\n",
       "      <td>RENT</td>\n",
       "      <td>49200.0</td>\n",
       "      <td>Source Verified</td>\n",
       "      <td>Dec-2011</td>\n",
       "      <td>Fully Paid</td>\n",
       "      <td>n</td>\n",
       "      <td>other</td>\n",
       "      <td>personel</td>\n",
       "      <td>917xx</td>\n",
       "      <td>CA</td>\n",
       "      <td>20.00</td>\n",
       "      <td>0.0</td>\n",
       "      <td>Feb-1996</td>\n",
       "      <td>1.0</td>\n",
       "      <td>10.0</td>\n",
       "      <td>0.0</td>\n",
       "      <td>5598.0</td>\n",
       "      <td>21%</td>\n",
       "      <td>37.0</td>\n",
       "      <td>f</td>\n",
       "      <td>0.0</td>\n",
       "      <td>0.0</td>\n",
       "      <td>12231.890000</td>\n",
       "      <td>12231.89</td>\n",
       "      <td>10000.00</td>\n",
       "      <td>2214.92</td>\n",
       "      <td>16.97</td>\n",
       "      <td>0.0</td>\n",
       "      <td>0.00</td>\n",
       "      <td>Jan-2015</td>\n",
       "      <td>357.48</td>\n",
       "      <td>Apr-2016</td>\n",
       "      <td>0.0</td>\n",
       "      <td>1.0</td>\n",
       "      <td>Individual</td>\n",
       "      <td>0.0</td>\n",
       "      <td>0.0</td>\n",
       "      <td>0.0</td>\n",
       "      <td>0.0</td>\n",
       "      <td>0.0</td>\n",
       "      <td>N</td>\n",
       "      <td>Cash</td>\n",
       "      <td>N</td>\n",
       "    </tr>\n",
       "    <tr>\n",
       "      <th>4</th>\n",
       "      <td>3000.0</td>\n",
       "      <td>3000.0</td>\n",
       "      <td>3000.0</td>\n",
       "      <td>60 months</td>\n",
       "      <td>12.69%</td>\n",
       "      <td>67.79</td>\n",
       "      <td>B</td>\n",
       "      <td>B5</td>\n",
       "      <td>University Medical Group</td>\n",
       "      <td>1 year</td>\n",
       "      <td>RENT</td>\n",
       "      <td>80000.0</td>\n",
       "      <td>Source Verified</td>\n",
       "      <td>Dec-2011</td>\n",
       "      <td>Fully Paid</td>\n",
       "      <td>n</td>\n",
       "      <td>other</td>\n",
       "      <td>Personal</td>\n",
       "      <td>972xx</td>\n",
       "      <td>OR</td>\n",
       "      <td>17.94</td>\n",
       "      <td>0.0</td>\n",
       "      <td>Jan-1996</td>\n",
       "      <td>0.0</td>\n",
       "      <td>15.0</td>\n",
       "      <td>0.0</td>\n",
       "      <td>27783.0</td>\n",
       "      <td>53.9%</td>\n",
       "      <td>38.0</td>\n",
       "      <td>f</td>\n",
       "      <td>0.0</td>\n",
       "      <td>0.0</td>\n",
       "      <td>4066.908161</td>\n",
       "      <td>4066.91</td>\n",
       "      <td>3000.00</td>\n",
       "      <td>1066.91</td>\n",
       "      <td>0.00</td>\n",
       "      <td>0.0</td>\n",
       "      <td>0.00</td>\n",
       "      <td>Jan-2017</td>\n",
       "      <td>67.30</td>\n",
       "      <td>Jan-2017</td>\n",
       "      <td>0.0</td>\n",
       "      <td>1.0</td>\n",
       "      <td>Individual</td>\n",
       "      <td>0.0</td>\n",
       "      <td>0.0</td>\n",
       "      <td>0.0</td>\n",
       "      <td>0.0</td>\n",
       "      <td>0.0</td>\n",
       "      <td>N</td>\n",
       "      <td>Cash</td>\n",
       "      <td>N</td>\n",
       "    </tr>\n",
       "  </tbody>\n",
       "</table>\n",
       "</div>"
      ],
      "text/plain": [
       "   loan_amnt  funded_amnt  funded_amnt_inv        term int_rate  installment  \\\n",
       "0     5000.0       5000.0           4975.0   36 months   10.65%       162.87   \n",
       "1     2500.0       2500.0           2500.0   60 months   15.27%        59.83   \n",
       "2     2400.0       2400.0           2400.0   36 months   15.96%        84.33   \n",
       "3    10000.0      10000.0          10000.0   36 months   13.49%       339.31   \n",
       "4     3000.0       3000.0           3000.0   60 months   12.69%        67.79   \n",
       "\n",
       "  grade sub_grade                 emp_title emp_length home_ownership  \\\n",
       "0     B        B2                       NaN  10+ years           RENT   \n",
       "1     C        C4                     Ryder   < 1 year           RENT   \n",
       "2     C        C5                       NaN  10+ years           RENT   \n",
       "3     C        C1       AIR RESOURCES BOARD  10+ years           RENT   \n",
       "4     B        B5  University Medical Group     1 year           RENT   \n",
       "\n",
       "   annual_inc verification_status   issue_d  loan_status pymnt_plan  \\\n",
       "0     24000.0            Verified  Dec-2011   Fully Paid          n   \n",
       "1     30000.0     Source Verified  Dec-2011  Charged Off          n   \n",
       "2     12252.0        Not Verified  Dec-2011   Fully Paid          n   \n",
       "3     49200.0     Source Verified  Dec-2011   Fully Paid          n   \n",
       "4     80000.0     Source Verified  Dec-2011   Fully Paid          n   \n",
       "\n",
       "          purpose                 title zip_code addr_state    dti  \\\n",
       "0     credit_card              Computer    860xx         AZ  27.65   \n",
       "1             car                  bike    309xx         GA   1.00   \n",
       "2  small_business  real estate business    606xx         IL   8.72   \n",
       "3           other              personel    917xx         CA  20.00   \n",
       "4           other              Personal    972xx         OR  17.94   \n",
       "\n",
       "   delinq_2yrs earliest_cr_line  inq_last_6mths  open_acc  pub_rec  revol_bal  \\\n",
       "0          0.0         Jan-1985             1.0       3.0      0.0    13648.0   \n",
       "1          0.0         Apr-1999             5.0       3.0      0.0     1687.0   \n",
       "2          0.0         Nov-2001             2.0       2.0      0.0     2956.0   \n",
       "3          0.0         Feb-1996             1.0      10.0      0.0     5598.0   \n",
       "4          0.0         Jan-1996             0.0      15.0      0.0    27783.0   \n",
       "\n",
       "  revol_util  total_acc initial_list_status  out_prncp  out_prncp_inv  \\\n",
       "0      83.7%        9.0                   f        0.0            0.0   \n",
       "1       9.4%        4.0                   f        0.0            0.0   \n",
       "2      98.5%       10.0                   f        0.0            0.0   \n",
       "3        21%       37.0                   f        0.0            0.0   \n",
       "4      53.9%       38.0                   f        0.0            0.0   \n",
       "\n",
       "    total_pymnt  total_pymnt_inv  total_rec_prncp  total_rec_int  \\\n",
       "0   5863.155187          5833.84          5000.00         863.16   \n",
       "1   1014.530000          1014.53           456.46         435.17   \n",
       "2   3005.666844          3005.67          2400.00         605.67   \n",
       "3  12231.890000         12231.89         10000.00        2214.92   \n",
       "4   4066.908161          4066.91          3000.00        1066.91   \n",
       "\n",
       "   total_rec_late_fee  recoveries  collection_recovery_fee last_pymnt_d  \\\n",
       "0                0.00         0.0                     0.00     Jan-2015   \n",
       "1                0.00       122.9                     1.11     Apr-2013   \n",
       "2                0.00         0.0                     0.00     Jun-2014   \n",
       "3               16.97         0.0                     0.00     Jan-2015   \n",
       "4                0.00         0.0                     0.00     Jan-2017   \n",
       "\n",
       "   last_pymnt_amnt last_credit_pull_d  collections_12_mths_ex_med  \\\n",
       "0           171.62           Feb-2018                         0.0   \n",
       "1           119.66           Oct-2016                         0.0   \n",
       "2           649.91           Jun-2017                         0.0   \n",
       "3           357.48           Apr-2016                         0.0   \n",
       "4            67.30           Jan-2017                         0.0   \n",
       "\n",
       "   policy_code application_type  acc_now_delinq  chargeoff_within_12_mths  \\\n",
       "0          1.0       Individual             0.0                       0.0   \n",
       "1          1.0       Individual             0.0                       0.0   \n",
       "2          1.0       Individual             0.0                       0.0   \n",
       "3          1.0       Individual             0.0                       0.0   \n",
       "4          1.0       Individual             0.0                       0.0   \n",
       "\n",
       "   delinq_amnt  pub_rec_bankruptcies  tax_liens hardship_flag  \\\n",
       "0          0.0                   0.0        0.0             N   \n",
       "1          0.0                   0.0        0.0             N   \n",
       "2          0.0                   0.0        0.0             N   \n",
       "3          0.0                   0.0        0.0             N   \n",
       "4          0.0                   0.0        0.0             N   \n",
       "\n",
       "  disbursement_method debt_settlement_flag  \n",
       "0                Cash                    N  \n",
       "1                Cash                    N  \n",
       "2                Cash                    N  \n",
       "3                Cash                    N  \n",
       "4                Cash                    N  "
      ]
     },
     "execution_count": 5,
     "metadata": {},
     "output_type": "execute_result"
    }
   ],
   "source": [
    "loans_2007.head()"
   ]
  },
  {
   "cell_type": "code",
   "execution_count": 6,
   "metadata": {},
   "outputs": [
    {
     "data": {
      "text/plain": [
       "(42538, 53)"
      ]
     },
     "execution_count": 6,
     "metadata": {},
     "output_type": "execute_result"
    }
   ],
   "source": [
    "loans_2007.shape"
   ]
  },
  {
   "cell_type": "code",
   "execution_count": 7,
   "metadata": {},
   "outputs": [
    {
     "data": {
      "text/plain": [
       "loan_amnt                            5000\n",
       "funded_amnt                          5000\n",
       "funded_amnt_inv                      4975\n",
       "term                            36 months\n",
       "int_rate                           10.65%\n",
       "installment                        162.87\n",
       "grade                                   B\n",
       "sub_grade                              B2\n",
       "emp_title                             NaN\n",
       "emp_length                      10+ years\n",
       "home_ownership                       RENT\n",
       "annual_inc                          24000\n",
       "verification_status              Verified\n",
       "issue_d                          Dec-2011\n",
       "loan_status                    Fully Paid\n",
       "pymnt_plan                              n\n",
       "purpose                       credit_card\n",
       "title                            Computer\n",
       "zip_code                            860xx\n",
       "addr_state                             AZ\n",
       "dti                                 27.65\n",
       "delinq_2yrs                             0\n",
       "earliest_cr_line                 Jan-1985\n",
       "inq_last_6mths                          1\n",
       "open_acc                                3\n",
       "pub_rec                                 0\n",
       "revol_bal                           13648\n",
       "revol_util                          83.7%\n",
       "total_acc                               9\n",
       "initial_list_status                     f\n",
       "out_prncp                               0\n",
       "out_prncp_inv                           0\n",
       "total_pymnt                       5863.16\n",
       "total_pymnt_inv                   5833.84\n",
       "total_rec_prncp                      5000\n",
       "total_rec_int                      863.16\n",
       "total_rec_late_fee                      0\n",
       "recoveries                              0\n",
       "collection_recovery_fee                 0\n",
       "last_pymnt_d                     Jan-2015\n",
       "last_pymnt_amnt                    171.62\n",
       "last_credit_pull_d               Feb-2018\n",
       "collections_12_mths_ex_med              0\n",
       "policy_code                             1\n",
       "application_type               Individual\n",
       "acc_now_delinq                          0\n",
       "chargeoff_within_12_mths                0\n",
       "delinq_amnt                             0\n",
       "pub_rec_bankruptcies                    0\n",
       "tax_liens                               0\n",
       "hardship_flag                           N\n",
       "disbursement_method                  Cash\n",
       "debt_settlement_flag                    N\n",
       "Name: 0, dtype: object"
      ]
     },
     "execution_count": 7,
     "metadata": {},
     "output_type": "execute_result"
    }
   ],
   "source": [
    "loans_2007.loc[0]"
   ]
  },
  {
   "cell_type": "markdown",
   "metadata": {},
   "source": [
    "## 2. Exploring the Features"
   ]
  },
  {
   "cell_type": "markdown",
   "metadata": {},
   "source": [
    "Consider the first 18 columns as a group since there are so many features. After analyzing each column, we can conclude that the following features need to be removed:\n",
    "\n",
    "* funded_amnt: leaks data from the future (after the loan is already started to be funded)\n",
    "* funded_amnt_inv: also leaks data from the future (after the loan is already started to be funded)\n",
    "* grade: contains redundant information as the interest rate column (int_rate)\n",
    "* sub_grade: also contains redundant information as the interest rate column (int_rate)\n",
    "* emp_title: requires other data and a lot of processing to potentially be useful\n",
    "* issue_d: leaks data from the future (after the loan is already completed funded)"
   ]
  },
  {
   "cell_type": "code",
   "execution_count": 8,
   "metadata": {},
   "outputs": [],
   "source": [
    "colsdrop1 = ['funded_amnt', 'funded_amnt_inv', 'grade', 'sub_grade', 'emp_title', 'issue_d']\n",
    "\n",
    "loans_2007 = loans_2007.drop(colsdrop1, axis=1)"
   ]
  },
  {
   "cell_type": "markdown",
   "metadata": {},
   "source": [
    "Let's consider the next group of columns and drop the following:\n",
    "\n",
    "* zip_code: redundant with the addr_state column since only the first 3 digits of the 5 digit zip code are visible (which only can be used to identify the state the borrower lives in)\n",
    "* out_prncp: leaks data from the future, (after the loan already started to be paid off)\n",
    "* out_prncp_inv: also leaks data from the future, (after the loan already started to be paid off)\n",
    "* total_pymnt: also leaks data from the future, (after the loan already started to be paid off)\n",
    "* total_pymnt_inv: also leaks data from the future, (after the loan already started to be paid off)\n",
    "* total_rec_prncp: also leaks data from the future, (after the loan already started to be paid off)"
   ]
  },
  {
   "cell_type": "code",
   "execution_count": 9,
   "metadata": {},
   "outputs": [],
   "source": [
    "colstodrop2 = ['zip_code', 'out_prncp', 'out_prncp_inv', 'total_pymnt', 'total_pymnt_inv', 'total_rec_prncp']\n",
    "\n",
    "loans_2007 = loans_2007.drop(colstodrop2, axis=1)"
   ]
  },
  {
   "cell_type": "markdown",
   "metadata": {},
   "source": [
    "In the final group of columns, the following need to go:\n",
    "* total_rec_int: leaks data from the future, (after the loan already started to be paid off),\n",
    "* total_rec_late_fee: also leaks data from the future, (after the loan already started to be paid off),\n",
    "* recoveries: also leaks data from the future, (after the loan already started to be paid off),\n",
    "* collection_recovery_fee: also leaks data from the future, (after the loan already started to be paid off),\n",
    "* last_pymnt_d: also leaks data from the future, (after the loan already started to be paid off),\n",
    "* last_pymnt_amnt: also leaks data from the future, (after the loan already started to be paid off)."
   ]
  },
  {
   "cell_type": "code",
   "execution_count": 10,
   "metadata": {},
   "outputs": [],
   "source": [
    "colstodrop3 = ['total_rec_int', 'total_rec_late_fee', 'recoveries', 'collection_recovery_fee', 'last_pymnt_d', 'last_pymnt_amnt']\n",
    "\n",
    "loans_2007 = loans_2007.drop(colstodrop3, axis=1)"
   ]
  },
  {
   "cell_type": "code",
   "execution_count": 11,
   "metadata": {
    "scrolled": true
   },
   "outputs": [
    {
     "data": {
      "text/plain": [
       "(42538, 35)"
      ]
     },
     "execution_count": 11,
     "metadata": {},
     "output_type": "execute_result"
    }
   ],
   "source": [
    "loans_2007.shape"
   ]
  },
  {
   "cell_type": "markdown",
   "metadata": {},
   "source": [
    "Note that we've now dropped 20 odd columns. Here is the first row again: "
   ]
  },
  {
   "cell_type": "code",
   "execution_count": 12,
   "metadata": {},
   "outputs": [
    {
     "data": {
      "text/plain": [
       "loan_amnt                            5000\n",
       "term                            36 months\n",
       "int_rate                           10.65%\n",
       "installment                        162.87\n",
       "emp_length                      10+ years\n",
       "home_ownership                       RENT\n",
       "annual_inc                          24000\n",
       "verification_status              Verified\n",
       "loan_status                    Fully Paid\n",
       "pymnt_plan                              n\n",
       "purpose                       credit_card\n",
       "title                            Computer\n",
       "addr_state                             AZ\n",
       "dti                                 27.65\n",
       "delinq_2yrs                             0\n",
       "earliest_cr_line                 Jan-1985\n",
       "inq_last_6mths                          1\n",
       "open_acc                                3\n",
       "pub_rec                                 0\n",
       "revol_bal                           13648\n",
       "revol_util                          83.7%\n",
       "total_acc                               9\n",
       "initial_list_status                     f\n",
       "last_credit_pull_d               Feb-2018\n",
       "collections_12_mths_ex_med              0\n",
       "policy_code                             1\n",
       "application_type               Individual\n",
       "acc_now_delinq                          0\n",
       "chargeoff_within_12_mths                0\n",
       "delinq_amnt                             0\n",
       "pub_rec_bankruptcies                    0\n",
       "tax_liens                               0\n",
       "hardship_flag                           N\n",
       "disbursement_method                  Cash\n",
       "debt_settlement_flag                    N\n",
       "Name: 0, dtype: object"
      ]
     },
     "execution_count": 12,
     "metadata": {},
     "output_type": "execute_result"
    }
   ],
   "source": [
    "loans_2007.loc[0]"
   ]
  },
  {
   "cell_type": "markdown",
   "metadata": {},
   "source": [
    "## 4. Choosing a Target\n",
    "Loan status seems to be the best bet. Let's have a closer look"
   ]
  },
  {
   "cell_type": "code",
   "execution_count": 13,
   "metadata": {
    "scrolled": true
   },
   "outputs": [
    {
     "data": {
      "text/plain": [
       "Fully Paid                                             34116\n",
       "Charged Off                                             5670\n",
       "Does not meet the credit policy. Status:Fully Paid      1988\n",
       "Does not meet the credit policy. Status:Charged Off      761\n",
       "Name: loan_status, dtype: int64"
      ]
     },
     "execution_count": 13,
     "metadata": {},
     "output_type": "execute_result"
    }
   ],
   "source": [
    "loans_2007.loan_status.value_counts()"
   ]
  },
  {
   "cell_type": "markdown",
   "metadata": {},
   "source": [
    "Note from DQ: \n",
    "> From the investor's perspective, we're interested in trying to predict which loans will be paid off on time and which ones won't be. Only the Fully Paid and Charged Off values describe the final outcome of the loan. The other values describe loans that are still on going and where the jury is still out on if the borrower will pay back the loan on time or not. While the Default status resembles the Charged Off status, in Lending Club's eyes, loans that are charged off have essentially no chance of being repaid while default ones have a small chance. You can read about the difference [here](http://kb.lendingclub.com/investor/articles/Investor/What-is-the-difference-between-a-loan-that-is-in-default-and-a-loan-that-has-been-charged-off).\n",
    "\n",
    "Let's only keep the rows thare are either 'Fully paid' or 'Charged Off'"
   ]
  },
  {
   "cell_type": "code",
   "execution_count": 14,
   "metadata": {},
   "outputs": [],
   "source": [
    "loans_2007 = loans_2007[(loans_2007.loan_status=='Fully Paid')|(loans_2007.loan_status=='Charged Off')]"
   ]
  },
  {
   "cell_type": "markdown",
   "metadata": {},
   "source": [
    "Now to replace the text values with category numbers:"
   ]
  },
  {
   "cell_type": "code",
   "execution_count": 15,
   "metadata": {},
   "outputs": [],
   "source": [
    "maptonumber = {'loan_status': {'Fully Paid': 1, 'Charged Off': 0}}\n",
    "loans_2007 = loans_2007.replace(maptonumber)"
   ]
  },
  {
   "cell_type": "markdown",
   "metadata": {},
   "source": [
    "Finally we can remove columns that only have one unique value since it won't help us with the modeling task ahead. "
   ]
  },
  {
   "cell_type": "code",
   "execution_count": 16,
   "metadata": {},
   "outputs": [
    {
     "name": "stdout",
     "output_type": "stream",
     "text": [
      "['pymnt_plan', 'initial_list_status', 'collections_12_mths_ex_med', 'policy_code', 'application_type', 'acc_now_delinq', 'chargeoff_within_12_mths', 'delinq_amnt', 'tax_liens', 'hardship_flag', 'disbursement_method']\n"
     ]
    }
   ],
   "source": [
    "drop_columns = []\n",
    "\n",
    "allcols = loans_2007.columns.tolist()\n",
    "\n",
    "for col in allcols:\n",
    "    non_null = loans_2007[col].dropna()\n",
    "    unique_non_null = non_null.unique()\n",
    "    num_true_unique = len(unique_non_null)\n",
    "    \n",
    "    if num_true_unique <= 1:\n",
    "        drop_columns.append(col)\n",
    "\n",
    "loans_2007 = loans_2007.drop(drop_columns, axis = 1)\n",
    "print(drop_columns) "
   ]
  },
  {
   "cell_type": "code",
   "execution_count": 17,
   "metadata": {
    "scrolled": true
   },
   "outputs": [
    {
     "data": {
      "text/plain": [
       "(39786, 24)"
      ]
     },
     "execution_count": 17,
     "metadata": {},
     "output_type": "execute_result"
    }
   ],
   "source": [
    "loans_2007.shape"
   ]
  },
  {
   "cell_type": "markdown",
   "metadata": {},
   "source": [
    "Now down to 24 columns"
   ]
  },
  {
   "cell_type": "markdown",
   "metadata": {},
   "source": [
    "Any gap with my work so far and DQ?"
   ]
  },
  {
   "cell_type": "code",
   "execution_count": 18,
   "metadata": {
    "scrolled": true
   },
   "outputs": [
    {
     "name": "stdout",
     "output_type": "stream",
     "text": [
      "['debt_settlement_flag']\n"
     ]
    }
   ],
   "source": [
    "colsindq = ['loan_amnt',\n",
    " 'term',\n",
    " 'int_rate',\n",
    " 'installment',\n",
    " 'emp_length',\n",
    " 'home_ownership',\n",
    " 'annual_inc',\n",
    " 'verification_status',\n",
    " 'loan_status',\n",
    " 'pymnt_plan',\n",
    " 'purpose',\n",
    " 'title',\n",
    " 'addr_state',\n",
    " 'dti',\n",
    " 'delinq_2yrs',\n",
    " 'earliest_cr_line',\n",
    " 'inq_last_6mths',\n",
    " 'open_acc',\n",
    " 'pub_rec',\n",
    " 'revol_bal',\n",
    " 'revol_util',\n",
    " 'total_acc',\n",
    " 'initial_list_status',\n",
    " 'last_credit_pull_d',\n",
    " 'collections_12_mths_ex_med',\n",
    " 'policy_code',\n",
    " 'application_type',\n",
    " 'acc_now_delinq',\n",
    " 'chargeoff_within_12_mths',\n",
    " 'delinq_amnt',\n",
    " 'pub_rec_bankruptcies',\n",
    " 'tax_liens']\n",
    "\n",
    "\n",
    "mycols = loans_2007.columns.tolist()\n",
    "\n",
    "notindq = []\n",
    "\n",
    "for col in mycols:\n",
    "    if col in colsindq:\n",
    "        pass\n",
    "    else:\n",
    "        notindq.append(col)\n",
    "\n",
    "print(notindq)"
   ]
  },
  {
   "cell_type": "code",
   "execution_count": 19,
   "metadata": {},
   "outputs": [
    {
     "data": {
      "text/plain": [
       "N    39638\n",
       "Y      148\n",
       "Name: debt_settlement_flag, dtype: int64"
      ]
     },
     "execution_count": 19,
     "metadata": {},
     "output_type": "execute_result"
    }
   ],
   "source": [
    "loans_2007.debt_settlement_flag.value_counts()"
   ]
  },
  {
   "cell_type": "markdown",
   "metadata": {},
   "source": [
    "According to the dictionary, this column basically indicates 'whether or not the borrower, who has charged-off, is working with a debt-settlement company.' This column too would then leak information so let's drop. "
   ]
  },
  {
   "cell_type": "code",
   "execution_count": 20,
   "metadata": {},
   "outputs": [],
   "source": [
    "loans_2007 = loans_2007.drop(['debt_settlement_flag'], axis = 1)"
   ]
  },
  {
   "cell_type": "markdown",
   "metadata": {},
   "source": [
    "## 5. Handling Missing Values\n",
    "\n",
    "First things first, how many missing values are there?"
   ]
  },
  {
   "cell_type": "code",
   "execution_count": 21,
   "metadata": {},
   "outputs": [
    {
     "name": "stdout",
     "output_type": "stream",
     "text": [
      "loan_amnt                  0\n",
      "term                       0\n",
      "int_rate                   0\n",
      "installment                0\n",
      "emp_length              1078\n",
      "home_ownership             0\n",
      "annual_inc                 0\n",
      "verification_status        0\n",
      "loan_status                0\n",
      "purpose                    0\n",
      "title                     11\n",
      "addr_state                 0\n",
      "dti                        0\n",
      "delinq_2yrs                0\n",
      "earliest_cr_line           0\n",
      "inq_last_6mths             0\n",
      "open_acc                   0\n",
      "pub_rec                    0\n",
      "revol_bal                  0\n",
      "revol_util                50\n",
      "total_acc                  0\n",
      "last_credit_pull_d         2\n",
      "pub_rec_bankruptcies     697\n",
      "dtype: int64\n"
     ]
    }
   ],
   "source": [
    "loans = loans_2007 #backup\n",
    "\n",
    "null_counts = loans.isnull().sum()\n",
    "\n",
    "print(null_counts)"
   ]
  },
  {
   "cell_type": "markdown",
   "metadata": {},
   "source": [
    "Looks like there is some issue with emp_length, title, revol_util, last_credit_pull_d and public_rec_bankruptcies"
   ]
  },
  {
   "cell_type": "markdown",
   "metadata": {},
   "source": [
    "For the columns that have very few missing values, I will just drop the rows with missing values.  But what about the columns that have a lot more? "
   ]
  },
  {
   "cell_type": "code",
   "execution_count": 22,
   "metadata": {},
   "outputs": [
    {
     "data": {
      "text/plain": [
       "(39786, 23)"
      ]
     },
     "execution_count": 22,
     "metadata": {},
     "output_type": "execute_result"
    }
   ],
   "source": [
    "# let's remember how many rows there are\n",
    "loans.shape"
   ]
  },
  {
   "cell_type": "code",
   "execution_count": 23,
   "metadata": {},
   "outputs": [
    {
     "data": {
      "text/plain": [
       "10+ years    8899\n",
       "< 1 year     4590\n",
       "2 years      4394\n",
       "3 years      4098\n",
       "4 years      3444\n",
       "5 years      3286\n",
       "1 year       3247\n",
       "6 years      2231\n",
       "7 years      1775\n",
       "8 years      1485\n",
       "9 years      1259\n",
       "NaN          1078\n",
       "Name: emp_length, dtype: int64"
      ]
     },
     "execution_count": 23,
     "metadata": {},
     "output_type": "execute_result"
    }
   ],
   "source": [
    "loans.emp_length.value_counts(dropna=False)"
   ]
  },
  {
   "cell_type": "code",
   "execution_count": 24,
   "metadata": {},
   "outputs": [
    {
     "data": {
      "text/plain": [
       " 0.0    37404\n",
       " 1.0     1678\n",
       "NaN       697\n",
       " 2.0        7\n",
       "Name: pub_rec_bankruptcies, dtype: int64"
      ]
     },
     "execution_count": 24,
     "metadata": {},
     "output_type": "execute_result"
    }
   ],
   "source": [
    "loans.pub_rec_bankruptcies.value_counts(dropna=False)"
   ]
  },
  {
   "cell_type": "markdown",
   "metadata": {},
   "source": [
    "There is very little variation in the pub_rec_bankruptcies, so I'd just drop that column completely. For the other one emp_length I'd just drop the rows. "
   ]
  },
  {
   "cell_type": "code",
   "execution_count": 25,
   "metadata": {},
   "outputs": [],
   "source": [
    "loans = loans.drop('pub_rec_bankruptcies', axis = 1)"
   ]
  },
  {
   "cell_type": "code",
   "execution_count": 26,
   "metadata": {},
   "outputs": [
    {
     "data": {
      "text/plain": [
       "(39786, 22)"
      ]
     },
     "execution_count": 26,
     "metadata": {},
     "output_type": "execute_result"
    }
   ],
   "source": [
    "loans.shape"
   ]
  },
  {
   "cell_type": "code",
   "execution_count": 27,
   "metadata": {},
   "outputs": [],
   "source": [
    "# drop any rows that have na values left\n",
    "loans = loans.dropna()"
   ]
  },
  {
   "cell_type": "code",
   "execution_count": 28,
   "metadata": {
    "scrolled": true
   },
   "outputs": [
    {
     "data": {
      "text/plain": [
       "(38649, 22)"
      ]
     },
     "execution_count": 28,
     "metadata": {},
     "output_type": "execute_result"
    }
   ],
   "source": [
    "loans.shape"
   ]
  },
  {
   "cell_type": "markdown",
   "metadata": {},
   "source": [
    "## 6. Explore Non-numerical Features\n",
    "Let's look at how many columns are numeric vs. something else. "
   ]
  },
  {
   "cell_type": "code",
   "execution_count": 29,
   "metadata": {},
   "outputs": [
    {
     "name": "stdout",
     "output_type": "stream",
     "text": [
      "object     11\n",
      "float64    10\n",
      "int64       1\n",
      "dtype: int64\n"
     ]
    }
   ],
   "source": [
    "print(loans.dtypes.value_counts())"
   ]
  },
  {
   "cell_type": "markdown",
   "metadata": {},
   "source": [
    "Let's look at the object columns more closely since they need to be converted."
   ]
  },
  {
   "cell_type": "code",
   "execution_count": 30,
   "metadata": {},
   "outputs": [
    {
     "data": {
      "text/plain": [
       "term                     36 months\n",
       "int_rate                    10.65%\n",
       "emp_length               10+ years\n",
       "home_ownership                RENT\n",
       "verification_status       Verified\n",
       "purpose                credit_card\n",
       "title                     Computer\n",
       "addr_state                      AZ\n",
       "earliest_cr_line          Jan-1985\n",
       "revol_util                   83.7%\n",
       "last_credit_pull_d        Feb-2018\n",
       "Name: 0, dtype: object"
      ]
     },
     "execution_count": 30,
     "metadata": {},
     "output_type": "execute_result"
    }
   ],
   "source": [
    "object_columns_df = loans.select_dtypes(include=['object'])\n",
    "object_columns_df.loc[0]"
   ]
  },
  {
   "cell_type": "markdown",
   "metadata": {},
   "source": [
    "## 7. Categorical Variables"
   ]
  },
  {
   "cell_type": "code",
   "execution_count": 31,
   "metadata": {},
   "outputs": [
    {
     "name": "stdout",
     "output_type": "stream",
     "text": [
      "RENT        18471\n",
      "MORTGAGE    17242\n",
      "OWN          2837\n",
      "OTHER          96\n",
      "NONE            3\n",
      "Name: home_ownership, dtype: int64\n",
      "Not Verified       16468\n",
      "Verified           12377\n",
      "Source Verified     9804\n",
      "Name: verification_status, dtype: int64\n",
      "10+ years    8897\n",
      "< 1 year     4576\n",
      "2 years      4389\n",
      "3 years      4094\n",
      "4 years      3435\n",
      "5 years      3279\n",
      "1 year       3240\n",
      "6 years      2227\n",
      "7 years      1771\n",
      "8 years      1483\n",
      "9 years      1258\n",
      "Name: emp_length, dtype: int64\n",
      " 36 months    28234\n",
      " 60 months    10415\n",
      "Name: term, dtype: int64\n",
      "CA    6907\n",
      "NY    3711\n",
      "FL    2779\n",
      "TX    2674\n",
      "NJ    1825\n",
      "IL    1487\n",
      "PA    1481\n",
      "VA    1378\n",
      "GA    1358\n",
      "MA    1313\n",
      "OH    1190\n",
      "MD    1034\n",
      "AZ     832\n",
      "WA     807\n",
      "CO     769\n",
      "NC     761\n",
      "CT     734\n",
      "MI     688\n",
      "MO     661\n",
      "MN     591\n",
      "NV     482\n",
      "SC     464\n",
      "WI     445\n",
      "OR     436\n",
      "AL     433\n",
      "LA     426\n",
      "KY     323\n",
      "OK     293\n",
      "KS     260\n",
      "UT     253\n",
      "AR     235\n",
      "DC     212\n",
      "RI     197\n",
      "NM     184\n",
      "HI     169\n",
      "WV     168\n",
      "NH     162\n",
      "DE     110\n",
      "MT      79\n",
      "AK      79\n",
      "WY      79\n",
      "SD      62\n",
      "VT      54\n",
      "MS      19\n",
      "TN      17\n",
      "IN       9\n",
      "ID       6\n",
      "IA       5\n",
      "NE       5\n",
      "ME       3\n",
      "Name: addr_state, dtype: int64\n"
     ]
    }
   ],
   "source": [
    "cols = ['home_ownership', 'verification_status', 'emp_length', 'term', 'addr_state']\n",
    "\n",
    "for col in cols:\n",
    "    print(loans[col].value_counts())"
   ]
  },
  {
   "cell_type": "code",
   "execution_count": 32,
   "metadata": {},
   "outputs": [
    {
     "data": {
      "text/plain": [
       "debt_consolidation    18262\n",
       "credit_card            5004\n",
       "other                  3824\n",
       "home_improvement       2884\n",
       "major_purchase         2109\n",
       "small_business         1783\n",
       "car                    1497\n",
       "wedding                 934\n",
       "medical                 668\n",
       "moving                  557\n",
       "house                   369\n",
       "vacation                351\n",
       "educational             312\n",
       "renewable_energy         95\n",
       "Name: purpose, dtype: int64"
      ]
     },
     "execution_count": 32,
     "metadata": {},
     "output_type": "execute_result"
    }
   ],
   "source": [
    "loans.purpose.value_counts()"
   ]
  },
  {
   "cell_type": "markdown",
   "metadata": {},
   "source": [
    "> The home_ownership, verification_status, emp_length, term, and addr_state columns all contain multiple discrete values. We should clean the emp_length column and treat it as a numerical one since the values have ordering (2 years of employment is less than 8 years).\n",
    "\n",
    "> First, let's look at the unique value counts for the purpose and title columns to understand which column we want to keep."
   ]
  },
  {
   "cell_type": "code",
   "execution_count": 33,
   "metadata": {},
   "outputs": [
    {
     "data": {
      "text/plain": [
       "Debt Consolidation                                              2149\n",
       "Debt Consolidation Loan                                         1695\n",
       "Personal Loan                                                    643\n",
       "Consolidation                                                    510\n",
       "debt consolidation                                               489\n",
       "Credit Card Consolidation                                        349\n",
       "Home Improvement                                                 347\n",
       "Debt consolidation                                               324\n",
       "Small Business Loan                                              317\n",
       "Credit Card Loan                                                 308\n",
       "Personal                                                         297\n",
       "Consolidation Loan                                               255\n",
       "Home Improvement Loan                                            240\n",
       "personal loan                                                    224\n",
       "Wedding Loan                                                     207\n",
       "Loan                                                             207\n",
       "personal                                                         207\n",
       "consolidation                                                    198\n",
       "Car Loan                                                         197\n",
       "Other Loan                                                       179\n",
       "Wedding                                                          153\n",
       "Credit Card Payoff                                               149\n",
       "Credit Card Refinance                                            141\n",
       "Major Purchase Loan                                              137\n",
       "Consolidate                                                      126\n",
       "Credit Card                                                      114\n",
       "Medical                                                          114\n",
       "home improvement                                                 106\n",
       "Credit Cards                                                      93\n",
       "My Loan                                                           92\n",
       "                                                                ... \n",
       "Everlasting Love                                                   1\n",
       "prosperity loan                                                    1\n",
       "Condominium Payment                                                1\n",
       "American Union                                                     1\n",
       ">>>>>>MONEY<<<<<<<<<                                               1\n",
       "Refinancing credit card for a better rate                          1\n",
       "new kitchen loan                                                   1\n",
       "Loan for Overseas Payment                                          1\n",
       "Payoff off all my bills                                            1\n",
       "My First & Only Wedding                                            1\n",
       "Buy new used car & give son old used car                           1\n",
       "Escape From New York University Debt                               1\n",
       "Tim                                                                1\n",
       "Good Income Family Looking To Consolodate Debt, And Vacation       1\n",
       "Upset with American Express loan                                   1\n",
       "Raintree                                                           1\n",
       "Dotty's credit cards                                               1\n",
       "On the way to buy a home                                           1\n",
       "Refinance to a lower interest rate                                 1\n",
       "QUALIFIED DEBT REFINANCE - 36 MO                                   1\n",
       "Starting over                                                      1\n",
       "LC loan                                                            1\n",
       "low risk-beachfront-final payment-land value 700,000+              1\n",
       "Divorce Debt                                                       1\n",
       "Pay off B of A card                                                1\n",
       "The Right Way                                                      1\n",
       "RLJ's Close-Out Chase                                              1\n",
       "Solar Pool Heater                                                  1\n",
       "Tax Time Trouble                                                   1\n",
       "Fourteen                                                           1\n",
       "Name: title, Length: 19144, dtype: int64"
      ]
     },
     "execution_count": 33,
     "metadata": {},
     "output_type": "execute_result"
    }
   ],
   "source": [
    "loans.title.value_counts()"
   ]
  },
  {
   "cell_type": "code",
   "execution_count": 34,
   "metadata": {},
   "outputs": [],
   "source": [
    "# drop cols that are hard to work with without a lot of feature engineering like last credit pull or earliest cr line\n",
    "# addr state would reqire a lot of dummies in a regression since there is no ordinal categorical coding\n",
    "#     that would make sense\n",
    "# title would just require a lot of cleaning\n",
    "\n",
    "dropcols = ['last_credit_pull_d', 'addr_state', 'title', 'earliest_cr_line']\n",
    "loans = loans.drop(dropcols, axis=1)"
   ]
  },
  {
   "cell_type": "code",
   "execution_count": 35,
   "metadata": {},
   "outputs": [],
   "source": [
    "# strip the percentage sign and convert to numeric\n",
    "loans['int_rate'] = loans['int_rate'].str.rstrip('%').astype('float')\n",
    "loans['revol_util'] = loans['revol_util'].str.rstrip('%').astype('float')"
   ]
  },
  {
   "cell_type": "code",
   "execution_count": 36,
   "metadata": {},
   "outputs": [],
   "source": [
    "# code emp_length\n",
    "mapping_dict = {\n",
    "    \"emp_length\": {\n",
    "        \"10+ years\": 10,\n",
    "        \"9 years\": 9,\n",
    "        \"8 years\": 8,\n",
    "        \"7 years\": 7,\n",
    "        \"6 years\": 6,\n",
    "        \"5 years\": 5,\n",
    "        \"4 years\": 4,\n",
    "        \"3 years\": 3,\n",
    "        \"2 years\": 2,\n",
    "        \"1 year\": 1,\n",
    "        \"< 1 year\": 0,\n",
    "        \"n/a\": 0\n",
    "    }\n",
    "}\n",
    "\n",
    "loans = loans.replace(mapping_dict)"
   ]
  },
  {
   "cell_type": "markdown",
   "metadata": {},
   "source": [
    "### Making Dummy Variables"
   ]
  },
  {
   "cell_type": "code",
   "execution_count": 37,
   "metadata": {},
   "outputs": [],
   "source": [
    "colstodummies = ['home_ownership', 'verification_status', 'purpose', 'term'] \n",
    "\n",
    "dummy_df = pd.get_dummies(loans[colstodummies])\n",
    "\n",
    "loans = pd.concat([loans, dummy_df], axis = 1)\n",
    "\n",
    "loans = loans.drop(colstodummies, axis = 1)"
   ]
  },
  {
   "cell_type": "code",
   "execution_count": 38,
   "metadata": {},
   "outputs": [
    {
     "data": {
      "text/plain": [
       "loan_amnt                               5000.00\n",
       "int_rate                                  10.65\n",
       "installment                              162.87\n",
       "emp_length                                10.00\n",
       "annual_inc                             24000.00\n",
       "loan_status                                1.00\n",
       "dti                                       27.65\n",
       "delinq_2yrs                                0.00\n",
       "inq_last_6mths                             1.00\n",
       "open_acc                                   3.00\n",
       "pub_rec                                    0.00\n",
       "revol_bal                              13648.00\n",
       "revol_util                                83.70\n",
       "total_acc                                  9.00\n",
       "home_ownership_MORTGAGE                    0.00\n",
       "home_ownership_NONE                        0.00\n",
       "home_ownership_OTHER                       0.00\n",
       "home_ownership_OWN                         0.00\n",
       "home_ownership_RENT                        1.00\n",
       "verification_status_Not Verified           0.00\n",
       "verification_status_Source Verified        0.00\n",
       "verification_status_Verified               1.00\n",
       "purpose_car                                0.00\n",
       "purpose_credit_card                        1.00\n",
       "purpose_debt_consolidation                 0.00\n",
       "purpose_educational                        0.00\n",
       "purpose_home_improvement                   0.00\n",
       "purpose_house                              0.00\n",
       "purpose_major_purchase                     0.00\n",
       "purpose_medical                            0.00\n",
       "purpose_moving                             0.00\n",
       "purpose_other                              0.00\n",
       "purpose_renewable_energy                   0.00\n",
       "purpose_small_business                     0.00\n",
       "purpose_vacation                           0.00\n",
       "purpose_wedding                            0.00\n",
       "term_ 36 months                            1.00\n",
       "term_ 60 months                            0.00\n",
       "Name: 0, dtype: float64"
      ]
     },
     "execution_count": 38,
     "metadata": {},
     "output_type": "execute_result"
    }
   ],
   "source": [
    "loans.loc[0]"
   ]
  },
  {
   "cell_type": "markdown",
   "metadata": {},
   "source": [
    "## Choosing an Error Metric"
   ]
  },
  {
   "cell_type": "markdown",
   "metadata": {},
   "source": [
    "False Positive Rate -- \"what percentage of my 1 predictions are incorrect?\"\n",
    "In this case, \"what percentage of the loans that I fund would not be repaid?\"\n",
    "fpr = fp / (fp + tn)\n",
    "\n",
    "True Positive Rate -- \"what percentage of all the possible 1 predictions am I making?\"\n",
    "In this case, \"what percentage of loans that could be funded would I fund?\"\n",
    "tpr = tp / (tp + fn)\n",
    "\n",
    "```\n",
    "tn = len(loans[(loans.loan_status == 0) & (predictions == 0)])\n",
    "tp = len(loans[(loans.loan_status == 1) & (predictions == 1)])\n",
    "fn = len(loans[(loans.loan_status == 1) & (predictions == 0)])\n",
    "fp = len(loans[(loans.loan_status == 0) & (predictions == 1)])\n",
    "```\n"
   ]
  },
  {
   "cell_type": "markdown",
   "metadata": {},
   "source": [
    "## Logistic Regression"
   ]
  },
  {
   "cell_type": "code",
   "execution_count": 39,
   "metadata": {},
   "outputs": [
    {
     "name": "stdout",
     "output_type": "stream",
     "text": [
      "FPR = 1.00, TPR = 1.00\n"
     ]
    }
   ],
   "source": [
    "from sklearn.linear_model import LogisticRegression\n",
    "lr = LogisticRegression()\n",
    "\n",
    "\n",
    "features = loans.columns.tolist()\n",
    "features.remove('loan_status')\n",
    "target = loans.loan_status\n",
    "\n",
    "lr.fit(loans[features], target)\n",
    "predictions = lr.predict(loans[features])\n",
    "\n",
    "#Error\n",
    "tn = len(loans[(loans.loan_status == 0) & (predictions == 0)])\n",
    "tp = len(loans[(loans.loan_status == 1) & (predictions == 1)])\n",
    "fn = len(loans[(loans.loan_status == 1) & (predictions == 0)])\n",
    "fp = len(loans[(loans.loan_status == 0) & (predictions == 1)])\n",
    "\n",
    "fpr = fp / (fp + tn)\n",
    "tpr = tp / (tp + fn)\n",
    "\n",
    "print('FPR = {:0.2f}, TPR = {:0.2f}'.format(fpr, tpr))\n"
   ]
  },
  {
   "cell_type": "markdown",
   "metadata": {},
   "source": [
    "Yikes, this would fund all the defaults but also get all the people who would repay. Not good for the business. Definitely a class imbalance problem here. "
   ]
  },
  {
   "cell_type": "code",
   "execution_count": 40,
   "metadata": {
    "scrolled": true
   },
   "outputs": [
    {
     "data": {
      "text/plain": [
       "1    0.859686\n",
       "0    0.140314\n",
       "Name: loan_status, dtype: float64"
      ]
     },
     "execution_count": 40,
     "metadata": {},
     "output_type": "execute_result"
    }
   ],
   "source": [
    "loans.loan_status.value_counts()/len(loans)"
   ]
  },
  {
   "cell_type": "markdown",
   "metadata": {},
   "source": [
    "One thing to ensure first is not use the same data for train and test. We can use kfolds cross validation for this. "
   ]
  },
  {
   "cell_type": "code",
   "execution_count": 41,
   "metadata": {},
   "outputs": [
    {
     "name": "stdout",
     "output_type": "stream",
     "text": [
      "FPR = 1.00, TPR = 1.00\n"
     ]
    }
   ],
   "source": [
    "from sklearn.linear_model import LogisticRegression\n",
    "from sklearn.model_selection import cross_val_predict\n",
    "\n",
    "\n",
    "features = loans.columns.tolist()\n",
    "features.remove('loan_status')\n",
    "features = loans[features].copy()\n",
    "target = loans['loan_status']\n",
    "\n",
    "lr = LogisticRegression()\n",
    "\n",
    "predictions=cross_val_predict(lr, features, target) #by default uses 3 fold cross validation\n",
    "\n",
    "tn = len(loans[(loans.loan_status == 0) & (predictions == 0)])\n",
    "tp = len(loans[(loans.loan_status == 1) & (predictions == 1)])\n",
    "fn = len(loans[(loans.loan_status == 1) & (predictions == 0)])\n",
    "fp = len(loans[(loans.loan_status == 0) & (predictions == 1)])\n",
    "\n",
    "fpr = fp / (fp + tn)\n",
    "tpr = tp / (tp + fn)\n",
    "\n",
    "print('FPR = {:0.2f}, TPR = {:0.2f}'.format(fpr, tpr))"
   ]
  },
  {
   "cell_type": "markdown",
   "metadata": {},
   "source": [
    "## Class Imbalance"
   ]
  },
  {
   "cell_type": "markdown",
   "metadata": {},
   "source": [
    "That didn't help much... Ok let's deal with the class imbalance issue. As per DQ there are two ways to deal w/ this: \n",
    "* Use oversampling and undersampling to ensure that the classifier gets input that has a balanced number of each class. This is hard to do because you either have to throw away a lot of rows so that you have the same number of rows with outcome 1 and 0. Or you have to add rows which is a prediction exercise of it's own. \n",
    "* Tell the classifier to penalize misclassifications of the less prevalent class more than the other class. This is better.\n",
    "\n",
    "> We can do this by setting the class_weight parameter to balanced when creating the LogisticRegression instance. This tells scikit-learn to penalize the misclassification of the minority class during the training process. The penalty means that the logistic regression classifier pays more attention to correctly classifying rows where loan_status is 0. This lowers accuracy when loan_status is 1, but raises accuracy when loan_status is 0.\n",
    "\n",
    "> By setting the class_weight parameter to balanced, the penalty is set to be inversely proportional to the class frequencies. You can read more about the parameter [here][1]. This would mean that for the classifier, correctly classifying a row where loan_status is 0 is 6 times more important than correctly classifying a row where loan_status is 1.\n",
    "\n",
    "[1]: http://scikit-learn.org/stable/modules/generated/sklearn.linear_model.LogisticRegression.html#sklearn.linear_model.LogisticRegression"
   ]
  },
  {
   "cell_type": "code",
   "execution_count": 42,
   "metadata": {},
   "outputs": [
    {
     "name": "stdout",
     "output_type": "stream",
     "text": [
      "FPR = 0.38, TPR = 0.65\n"
     ]
    }
   ],
   "source": [
    "from sklearn.linear_model import LogisticRegression\n",
    "from sklearn.model_selection import cross_val_predict\n",
    "\n",
    "\n",
    "features = loans.columns.tolist()\n",
    "features.remove('loan_status')\n",
    "features = loans[features].copy()\n",
    "target = loans['loan_status']\n",
    "\n",
    "lr = LogisticRegression(class_weight = 'balanced') #now changing class_weight to 'balanced' as per above\n",
    "\n",
    "predictions=cross_val_predict(lr, features, target) #by default uses 3 fold cross validation\n",
    "\n",
    "tn = len(loans[(loans.loan_status == 0) & (predictions == 0)])\n",
    "tp = len(loans[(loans.loan_status == 1) & (predictions == 1)])\n",
    "fn = len(loans[(loans.loan_status == 1) & (predictions == 0)])\n",
    "fp = len(loans[(loans.loan_status == 0) & (predictions == 1)])\n",
    "\n",
    "fpr = fp / (fp + tn)\n",
    "tpr = tp / (tp + fn)\n",
    "\n",
    "print('FPR = {:0.2f}, TPR = {:0.2f}'.format(fpr, tpr))"
   ]
  },
  {
   "cell_type": "markdown",
   "metadata": {},
   "source": [
    "You can modify the pentalty manually. In the case above the pentalty scikit-learn imposed for misclassifying a 0 would have been around 5.89 (since there are 5.89 times as many 1s as 0s) in the loans data. But you could change that to 10 times as below:\n",
    "\n",
    "```\n",
    "penalty = {\n",
    "    0: 10,\n",
    "    1: 1\n",
    "}\n",
    "lr = LogisticRegression(class_weight=penalty)\n",
    "```"
   ]
  },
  {
   "cell_type": "code",
   "execution_count": 43,
   "metadata": {},
   "outputs": [
    {
     "name": "stdout",
     "output_type": "stream",
     "text": [
      "FPR = 0.07, TPR = 0.20\n"
     ]
    }
   ],
   "source": [
    "from sklearn.linear_model import LogisticRegression\n",
    "from sklearn.model_selection import cross_val_predict\n",
    "\n",
    "\n",
    "features = loans.columns.tolist()\n",
    "features.remove('loan_status')\n",
    "features = loans[features].copy()\n",
    "target = loans['loan_status']\n",
    "\n",
    "penalty = {\n",
    "    0: 10,\n",
    "    1: 1\n",
    "}\n",
    "lr = LogisticRegression(class_weight=penalty) #manual penalty\n",
    "\n",
    "predictions=cross_val_predict(lr, features, target) #by default uses 3 fold cross validation\n",
    "\n",
    "tn = len(loans[(loans.loan_status == 0) & (predictions == 0)])\n",
    "tp = len(loans[(loans.loan_status == 1) & (predictions == 1)])\n",
    "fn = len(loans[(loans.loan_status == 1) & (predictions == 0)])\n",
    "fp = len(loans[(loans.loan_status == 0) & (predictions == 1)])\n",
    "\n",
    "fpr = fp / (fp + tn)\n",
    "tpr = tp / (tp + fn)\n",
    "\n",
    "print('FPR = {:0.2f}, TPR = {:0.2f}'.format(fpr, tpr))"
   ]
  },
  {
   "cell_type": "markdown",
   "metadata": {},
   "source": [
    "## Random Forest Model"
   ]
  },
  {
   "cell_type": "code",
   "execution_count": 44,
   "metadata": {},
   "outputs": [
    {
     "name": "stdout",
     "output_type": "stream",
     "text": [
      "FPR = 0.94, TPR = 0.97\n"
     ]
    }
   ],
   "source": [
    "from sklearn.ensemble import RandomForestClassifier\n",
    "from sklearn.model_selection import cross_val_predict\n",
    "\n",
    "rf = RandomForestClassifier(random_state = 1, class_weight='balanced')\n",
    "\n",
    "predictions=cross_val_predict(rf, features, target)\n",
    "\n",
    "tn = len(loans[(loans.loan_status == 0) & (predictions == 0)])\n",
    "tp = len(loans[(loans.loan_status == 1) & (predictions == 1)])\n",
    "fn = len(loans[(loans.loan_status == 1) & (predictions == 0)])\n",
    "fp = len(loans[(loans.loan_status == 0) & (predictions == 1)])\n",
    "\n",
    "fpr = fp / (fp + tn)\n",
    "tpr = tp / (tp + fn)\n",
    "\n",
    "print('FPR = {:0.2f}, TPR = {:0.2f}'.format(fpr, tpr))"
   ]
  },
  {
   "cell_type": "markdown",
   "metadata": {},
   "source": [
    "Back to having what appears to be a class imbalance problem even with the balanced class weight. We can be more agressive with the penalties.  "
   ]
  },
  {
   "cell_type": "code",
   "execution_count": 45,
   "metadata": {},
   "outputs": [
    {
     "name": "stdout",
     "output_type": "stream",
     "text": [
      "FPR = 0.94, TPR = 0.98\n"
     ]
    }
   ],
   "source": [
    "from sklearn.ensemble import RandomForestClassifier\n",
    "from sklearn.model_selection import cross_val_predict\n",
    "\n",
    "\n",
    "penalty = {\n",
    "    0: 10,\n",
    "    1: 1\n",
    "}\n",
    "\n",
    "rf = RandomForestClassifier(class_weight=penalty)\n",
    "\n",
    "predictions=cross_val_predict(rf, features, target)\n",
    "\n",
    "tn = len(loans[(loans.loan_status == 0) & (predictions == 0)])\n",
    "tp = len(loans[(loans.loan_status == 1) & (predictions == 1)])\n",
    "fn = len(loans[(loans.loan_status == 1) & (predictions == 0)])\n",
    "fp = len(loans[(loans.loan_status == 0) & (predictions == 1)])\n",
    "\n",
    "fpr = fp / (fp + tn)\n",
    "tpr = tp / (tp + fn)\n",
    "\n",
    "print('FPR = {:0.2f}, TPR = {:0.2f}'.format(fpr, tpr))"
   ]
  },
  {
   "cell_type": "markdown",
   "metadata": {},
   "source": [
    "No help there. "
   ]
  },
  {
   "cell_type": "code",
   "execution_count": 46,
   "metadata": {},
   "outputs": [
    {
     "data": {
      "text/plain": [
       "1    0.859686\n",
       "0    0.140314\n",
       "Name: loan_status, dtype: float64"
      ]
     },
     "execution_count": 46,
     "metadata": {},
     "output_type": "execute_result"
    }
   ],
   "source": [
    "loans.loan_status.value_counts()/len(loans)"
   ]
  },
  {
   "cell_type": "markdown",
   "metadata": {},
   "source": [
    "## Conclusions\n",
    "\n",
    "Looks like the decision tree model with a 10 to 1 penalty for missing 0s vs. 1s is the best model of those we've looked at in this exercise. That model above had a 7% FPR and 20% TPR. Basically that means, that 7 percent of the loans that the model would allow would default. And it means that it would only allow 20% of those who do not default to get loans in the first place. Which is also to say that 80 percent of borrowers who turn out to be good would be rejected in the effort to keep the FPR rate to 7%. \n",
    "\n",
    "\n",
    "Here it is again:"
   ]
  },
  {
   "cell_type": "code",
   "execution_count": 47,
   "metadata": {},
   "outputs": [
    {
     "name": "stdout",
     "output_type": "stream",
     "text": [
      "FPR = 0.07, TPR = 0.98\n",
      "Split of Predictions: 0    0.820435\n",
      "1    0.179565\n",
      "dtype: float64\n"
     ]
    }
   ],
   "source": [
    "from sklearn.linear_model import LogisticRegression\n",
    "from sklearn.model_selection import cross_val_predict\n",
    "\n",
    "\n",
    "features = loans.columns.tolist()\n",
    "features.remove('loan_status')\n",
    "features = loans[features].copy()\n",
    "target = loans['loan_status']\n",
    "\n",
    "penalty = {\n",
    "    0: 10,\n",
    "    1: 1\n",
    "}\n",
    "lr = LogisticRegression(class_weight=penalty) #manual penalty\n",
    "\n",
    "predictions=cross_val_predict(lr, features, target) #by default uses 3 fold cross validation\n",
    "\n",
    "tn = len(loans[(loans.loan_status == 0) & (predictions == 0)])\n",
    "tp = len(loans[(loans.loan_status == 1) & (predictions == 1)])\n",
    "fn = len(loans[(loans.loan_status == 1) & (predictions == 0)])\n",
    "fp = len(loans[(loans.loan_status == 0) & (predictions == 1)])\n",
    "\n",
    "fpr = fp / (fp + tn)\n",
    "tcpr = tp / (tp + fn)\n",
    "\n",
    "print('FPR = {:0.2f}, TPR = {:0.2f}'.format(fpr, tpr))\n",
    "predictions = pd.Series(predictions)\n",
    "print('Split of Predictions:', predictions.value_counts()/len(predictions))"
   ]
  },
  {
   "cell_type": "markdown",
   "metadata": {},
   "source": [
    "If you had a scenario where you had 100 people who were applying for $1000 loans at 10 pct. The model would lend to about 18 of those that applied, turning a lot of folks away. You'd expect 7 of those to default. Meaning that you'd earn 100x11 = 1100 in interest income. And have loan losses of 7 x 1000 = 7000. In short you couldn't lend at that interest rate and make money. In fact you'd have to charge an interest rate upwards of 70pct to get an income 7700 exceeding the expected losses of 7000. Not likely to be competitive in the market with that rate. In short, we'd need a much better model to make it in the lending business.\n",
    "\n",
    "One last thing to check is how this breakeven interest rate varies with how agressively we penalize the model for failing to predict default. "
   ]
  },
  {
   "cell_type": "code",
   "execution_count": 48,
   "metadata": {
    "scrolled": false
   },
   "outputs": [],
   "source": [
    "from sklearn.linear_model import LogisticRegression\n",
    "from sklearn.model_selection import cross_val_predict\n",
    "\n",
    "\n",
    "features = loans.columns.tolist()\n",
    "features.remove('loan_status')\n",
    "features = loans[features].copy()\n",
    "target = loans['loan_status']\n",
    "\n",
    "pen = []\n",
    "bkeven = []\n",
    "loans_lent = []\n",
    "fprs = []\n",
    "tprs = []\n",
    "\n",
    "for i in range(7, 15):\n",
    "    penalty = {\n",
    "        0: i,\n",
    "        1: 1\n",
    "    }\n",
    "    lr = LogisticRegression(class_weight=penalty) #manual penalty\n",
    "\n",
    "    predictions=cross_val_predict(lr, features, target) #by default uses 3 fold cross validation\n",
    "\n",
    "    tn = len(loans[(loans.loan_status == 0) & (predictions == 0)])\n",
    "    tp = len(loans[(loans.loan_status == 1) & (predictions == 1)])\n",
    "    fn = len(loans[(loans.loan_status == 1) & (predictions == 0)])\n",
    "    fp = len(loans[(loans.loan_status == 0) & (predictions == 1)])\n",
    "\n",
    "    fpr = fp / (fp + tn)\n",
    "    tpr = tp / (tp + fn)\n",
    "\n",
    "    #print('FPR = {:0.2f}, TPR = {:0.2f}'.format(fpr, tpr))\n",
    "    predictions = pd.Series(predictions)\n",
    "    #print('Split of Predictions:', predictions.value_counts()/len(predictions))\n",
    "\n",
    "    loans_given_pct = len(predictions[predictions == 1])/len(predictions)\n",
    "    loans_given = loans_given_pct*100\n",
    "    loans_def = loans_given*fpr\n",
    "    bkeven_rate = loans_def/(loans_given-loans_def)\n",
    "\n",
    "    #print('loans given:', loans_given)\n",
    "    #print('loans def:', loans_def)\n",
    "    #print('bkeven_rate:', bkeven_rate)\n",
    "    \n",
    "    pen.append(i)\n",
    "    bkeven.append(bkeven_rate)\n",
    "    loans_lent.append(loans_given)\n",
    "    fprs.append(fpr)\n",
    "    tprs.append(tpr)\n",
    "\n"
   ]
  },
  {
   "cell_type": "code",
   "execution_count": 49,
   "metadata": {
    "scrolled": true
   },
   "outputs": [
    {
     "data": {
      "image/png": "[encoded data removed]",
      "text/plain": [
       "<matplotlib.figure.Figure at 0x7f15430e3e48>"
      ]
     },
     "metadata": {},
     "output_type": "display_data"
    }
   ],
   "source": [
    "f, (ax1, ax2, ax3, ax4) = plt.subplots(1, 4, figsize=(15, 4))\n",
    "f.suptitle('Hypothetical: 100 people applying for loans of $1000 for a year')\n",
    "ax1.plot(pen, bkeven)\n",
    "ax1.set(xlabel = 'Penalty for False Positive', ylabel = 'Break Even Interest Rate')\n",
    "ax2.plot(pen, loans_lent)\n",
    "ax2.set(xlabel = 'Penalty for False Positive', ylabel = 'Number of People Getting Loans')\n",
    "ax3.plot(pen, tprs)\n",
    "ax3.set(xlabel = 'Penalty for False Positive', ylabel = 'TPR')\n",
    "ax4.plot(pen, fprs)\n",
    "ax4.set(xlabel = 'Penalty for False Positive', ylabel = 'FPR')\n",
    "plt.show()"
   ]
  },
  {
   "cell_type": "code",
   "execution_count": 50,
   "metadata": {
    "scrolled": true
   },
   "outputs": [
    {
     "data": {
      "text/html": [
       "<div>\n",
       "<style scoped>\n",
       "    .dataframe tbody tr th:only-of-type {\n",
       "        vertical-align: middle;\n",
       "    }\n",
       "\n",
       "    .dataframe tbody tr th {\n",
       "        vertical-align: top;\n",
       "    }\n",
       "\n",
       "    .dataframe thead th {\n",
       "        text-align: right;\n",
       "    }\n",
       "</style>\n",
       "<table border=\"1\" class=\"dataframe\">\n",
       "  <thead>\n",
       "    <tr style=\"text-align: right;\">\n",
       "      <th></th>\n",
       "      <th>penalty</th>\n",
       "      <th>FPRs</th>\n",
       "      <th>TPRs</th>\n",
       "      <th>LoansApproved</th>\n",
       "      <th>int</th>\n",
       "    </tr>\n",
       "  </thead>\n",
       "  <tbody>\n",
       "    <tr>\n",
       "      <th>0</th>\n",
       "      <td>7</td>\n",
       "      <td>0.314217</td>\n",
       "      <td>0.589779</td>\n",
       "      <td>55.111387</td>\n",
       "      <td>0.458188</td>\n",
       "    </tr>\n",
       "    <tr>\n",
       "      <th>1</th>\n",
       "      <td>8</td>\n",
       "      <td>0.239535</td>\n",
       "      <td>0.491031</td>\n",
       "      <td>45.574271</td>\n",
       "      <td>0.314985</td>\n",
       "    </tr>\n",
       "    <tr>\n",
       "      <th>2</th>\n",
       "      <td>9</td>\n",
       "      <td>0.132952</td>\n",
       "      <td>0.321766</td>\n",
       "      <td>29.527284</td>\n",
       "      <td>0.153339</td>\n",
       "    </tr>\n",
       "    <tr>\n",
       "      <th>3</th>\n",
       "      <td>10</td>\n",
       "      <td>0.073760</td>\n",
       "      <td>0.196834</td>\n",
       "      <td>17.956480</td>\n",
       "      <td>0.079634</td>\n",
       "    </tr>\n",
       "    <tr>\n",
       "      <th>4</th>\n",
       "      <td>11</td>\n",
       "      <td>0.068597</td>\n",
       "      <td>0.186541</td>\n",
       "      <td>16.999146</td>\n",
       "      <td>0.073649</td>\n",
       "    </tr>\n",
       "    <tr>\n",
       "      <th>5</th>\n",
       "      <td>12</td>\n",
       "      <td>0.047022</td>\n",
       "      <td>0.135286</td>\n",
       "      <td>12.290098</td>\n",
       "      <td>0.049342</td>\n",
       "    </tr>\n",
       "    <tr>\n",
       "      <th>6</th>\n",
       "      <td>13</td>\n",
       "      <td>0.037064</td>\n",
       "      <td>0.106844</td>\n",
       "      <td>9.705296</td>\n",
       "      <td>0.038491</td>\n",
       "    </tr>\n",
       "    <tr>\n",
       "      <th>7</th>\n",
       "      <td>14</td>\n",
       "      <td>0.025447</td>\n",
       "      <td>0.078071</td>\n",
       "      <td>7.068747</td>\n",
       "      <td>0.026112</td>\n",
       "    </tr>\n",
       "  </tbody>\n",
       "</table>\n",
       "</div>"
      ],
      "text/plain": [
       "   penalty      FPRs      TPRs  LoansApproved       int\n",
       "0        7  0.314217  0.589779      55.111387  0.458188\n",
       "1        8  0.239535  0.491031      45.574271  0.314985\n",
       "2        9  0.132952  0.321766      29.527284  0.153339\n",
       "3       10  0.073760  0.196834      17.956480  0.079634\n",
       "4       11  0.068597  0.186541      16.999146  0.073649\n",
       "5       12  0.047022  0.135286      12.290098  0.049342\n",
       "6       13  0.037064  0.106844       9.705296  0.038491\n",
       "7       14  0.025447  0.078071       7.068747  0.026112"
      ]
     },
     "execution_count": 50,
     "metadata": {},
     "output_type": "execute_result"
    }
   ],
   "source": [
    "df = pd.DataFrame({'penalty': pen, 'FPRs': fprs, 'TPRs': tprs, 'LoansApproved': loans_lent, 'int':bkeven}, columns=['penalty', 'FPRs', 'TPRs', 'LoansApproved', 'int'])\n",
    "df\n"
   ]
  },
  {
   "cell_type": "markdown",
   "metadata": {},
   "source": [
    "The interest rate can be brought down to about 15.3% but at the cost of only lending to about 30 people out of a hundred. This results from setting the penaty for false positives to 9. At that rate, you'd expect 13% or 4 people to default. So 26 of 30 to pay you back so you'd earn 26 x 15.3pct x 1000 = 3978 or about 4000. You'd expect your losses to be 4 x 1000 = 4000. So you'd have to charge a minimum of 15.4 or so to break even. \n",
    "\n",
    "You could lend to an additional 15 people or so, but that would require doubling the interest rate to over 30%. On the other side, you could drop the interest rate to 7% or so, but would mean only lending to about 17 people. You'd pick based on the competitiveness in the market for interest rates. "
   ]
  }
 ],
 "metadata": {
  "kernelspec": {
   "display_name": "Python 3",
   "language": "python",
   "name": "python3"
  },
  "language_info": {
   "codemirror_mode": {
    "name": "ipython",
    "version": 3
   },
   "file_extension": ".py",
   "mimetype": "text/x-python",
   "name": "python",
   "nbconvert_exporter": "python",
   "pygments_lexer": "ipython3",
   "version": "3.6.3"
  }
 },
 "nbformat": 4,
 "nbformat_minor": 2
}
