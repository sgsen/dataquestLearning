{
 "cells": [
  {
   "cell_type": "markdown",
   "metadata": {
    "collapsed": true
   },
   "source": [
    "# Guided Project: Predicting House Sale Prices\n",
    "\n",
    "Soham Sen | Feb 16, 2018"
   ]
  },
  {
   "cell_type": "markdown",
   "metadata": {},
   "source": [
    "## Imports\n"
   ]
  },
  {
   "cell_type": "code",
   "execution_count": 2,
   "metadata": {
    "collapsed": true
   },
   "outputs": [],
   "source": [
    "import pandas as pd\n",
    "import matplotlib.pyplot as plt\n",
    "import seaborn as sns\n",
    "import numpy as np\n",
    "from sklearn.metrics import mean_squared_error\n",
    "from sklearn.linear_model import LinearRegression\n",
    "from sklearn.feature_selection import RFE\n",
    "from sklearn.linear_model import LogisticRegression\n",
    "from sklearn.model_selection import cross_val_score, KFold\n",
    "\n",
    "\n",
    "%matplotlib inline"
   ]
  },
  {
   "cell_type": "code",
   "execution_count": 16,
   "metadata": {
    "collapsed": true
   },
   "outputs": [],
   "source": [
    "data = pd.read_csv('AmesHousing.tsv', delimiter='\\t')"
   ]
  },
  {
   "cell_type": "markdown",
   "metadata": {},
   "source": [
    "About the [dataset][1] and the rationale [behind creating it][2].\n",
    "\n",
    "[1]:(https://ww2.amstat.org/publications/jse/v19n3/decock/DataDocumentation.txt)\n",
    "\n",
    "[2]: http://ww2.amstat.org/publications/jse/v19n3/decock.pdf"
   ]
  },
  {
   "cell_type": "markdown",
   "metadata": {},
   "source": [
    "## Helper Functions"
   ]
  },
  {
   "cell_type": "code",
   "execution_count": 17,
   "metadata": {
    "collapsed": true
   },
   "outputs": [],
   "source": [
    "def transform_features():\n",
    "    return train"
   ]
  },
  {
   "cell_type": "code",
   "execution_count": 18,
   "metadata": {
    "collapsed": true
   },
   "outputs": [],
   "source": [
    "def select_features(train):\n",
    "    return train[['Gr Liv Area', 'SalePrice']]"
   ]
  },
  {
   "cell_type": "code",
   "execution_count": 19,
   "metadata": {
    "collapsed": true
   },
   "outputs": [],
   "source": [
    "def train_and_test():\n",
    "    train = data.iloc[:1460]\n",
    "    test = data.iloc[1460:]\n",
    "    \n",
    "    features = select_features(train)\n",
    "    features = features.select_dtypes(include=['float64', 'int64'])\n",
    "    features = features.drop(['SalePrice'], axis = 1)\n",
    "    \n",
    "    mlr = LinearRegression()\n",
    "    \n",
    "    mlr.fit(features, train['SalePrice'])\n",
    "\n",
    "    predictions = mlr.predict(test[features.columns])\n",
    "    \n",
    "    rmse = mean_squared_error(test['SalePrice'], predictions)**.5\n",
    "    \n",
    "    return rmse"
   ]
  },
  {
   "cell_type": "code",
   "execution_count": 20,
   "metadata": {
    "collapsed": false
   },
   "outputs": [
    {
     "name": "stdout",
     "output_type": "stream",
     "text": [
      "57088.2516126\n"
     ]
    }
   ],
   "source": [
    "print(train_and_test())"
   ]
  },
  {
   "cell_type": "markdown",
   "metadata": {},
   "source": [
    "## Feature Engineering"
   ]
  },
  {
   "cell_type": "markdown",
   "metadata": {},
   "source": [
    "### Missing Values\n",
    "\n",
    "What columns contain > 5 % missing values? Let's drop those. \n",
    "* Handle quant first.\n",
    "    * For columns that have missing values > 5%, impute with median\n",
    "* Qualitative \n",
    "    * Drop the columns that have missing values > 5%\n",
    "* For those that are left:\n",
    "    * Drop the observations with remaining missing values"
   ]
  },
  {
   "cell_type": "code",
   "execution_count": 21,
   "metadata": {
    "collapsed": true
   },
   "outputs": [],
   "source": [
    "def handleMissingValues(df):\n",
    "    #quantitative columns\n",
    "    df = df.fillna(df.median())\n",
    "    \n",
    "    #qualitative columns -> drop\n",
    "    missing_cols = df.isnull().sum()/len(df)\n",
    "    missing_cols = missing_cols[missing_cols > 0.25]\n",
    "    drop_cols = missing_cols.index\n",
    "    df = df.drop(drop_cols, axis = 1)\n",
    "    \n",
    "    #any left \n",
    "    df = df.dropna()\n",
    "    \n",
    "    return df"
   ]
  },
  {
   "cell_type": "code",
   "execution_count": 22,
   "metadata": {
    "collapsed": true
   },
   "outputs": [],
   "source": [
    "test = handleMissingValues(data)"
   ]
  },
  {
   "cell_type": "code",
   "execution_count": 23,
   "metadata": {
    "collapsed": false
   },
   "outputs": [
    {
     "name": "stdout",
     "output_type": "stream",
     "text": [
      "<class 'pandas.core.frame.DataFrame'>\n",
      "Int64Index: 2678 entries, 0 to 2929\n",
      "Data columns (total 77 columns):\n",
      "Order              2678 non-null int64\n",
      "PID                2678 non-null int64\n",
      "MS SubClass        2678 non-null int64\n",
      "MS Zoning          2678 non-null object\n",
      "Lot Frontage       2678 non-null float64\n",
      "Lot Area           2678 non-null int64\n",
      "Street             2678 non-null object\n",
      "Lot Shape          2678 non-null object\n",
      "Land Contour       2678 non-null object\n",
      "Utilities          2678 non-null object\n",
      "Lot Config         2678 non-null object\n",
      "Land Slope         2678 non-null object\n",
      "Neighborhood       2678 non-null object\n",
      "Condition 1        2678 non-null object\n",
      "Condition 2        2678 non-null object\n",
      "Bldg Type          2678 non-null object\n",
      "House Style        2678 non-null object\n",
      "Overall Qual       2678 non-null int64\n",
      "Overall Cond       2678 non-null int64\n",
      "Year Built         2678 non-null int64\n",
      "Year Remod/Add     2678 non-null int64\n",
      "Roof Style         2678 non-null object\n",
      "Roof Matl          2678 non-null object\n",
      "Exterior 1st       2678 non-null object\n",
      "Exterior 2nd       2678 non-null object\n",
      "Mas Vnr Type       2678 non-null object\n",
      "Mas Vnr Area       2678 non-null float64\n",
      "Exter Qual         2678 non-null object\n",
      "Exter Cond         2678 non-null object\n",
      "Foundation         2678 non-null object\n",
      "Bsmt Qual          2678 non-null object\n",
      "Bsmt Cond          2678 non-null object\n",
      "Bsmt Exposure      2678 non-null object\n",
      "BsmtFin Type 1     2678 non-null object\n",
      "BsmtFin SF 1       2678 non-null float64\n",
      "BsmtFin Type 2     2678 non-null object\n",
      "BsmtFin SF 2       2678 non-null float64\n",
      "Bsmt Unf SF        2678 non-null float64\n",
      "Total Bsmt SF      2678 non-null float64\n",
      "Heating            2678 non-null object\n",
      "Heating QC         2678 non-null object\n",
      "Central Air        2678 non-null object\n",
      "Electrical         2678 non-null object\n",
      "1st Flr SF         2678 non-null int64\n",
      "2nd Flr SF         2678 non-null int64\n",
      "Low Qual Fin SF    2678 non-null int64\n",
      "Gr Liv Area        2678 non-null int64\n",
      "Bsmt Full Bath     2678 non-null float64\n",
      "Bsmt Half Bath     2678 non-null float64\n",
      "Full Bath          2678 non-null int64\n",
      "Half Bath          2678 non-null int64\n",
      "Bedroom AbvGr      2678 non-null int64\n",
      "Kitchen AbvGr      2678 non-null int64\n",
      "Kitchen Qual       2678 non-null object\n",
      "TotRms AbvGrd      2678 non-null int64\n",
      "Functional         2678 non-null object\n",
      "Fireplaces         2678 non-null int64\n",
      "Garage Type        2678 non-null object\n",
      "Garage Yr Blt      2678 non-null float64\n",
      "Garage Finish      2678 non-null object\n",
      "Garage Cars        2678 non-null float64\n",
      "Garage Area        2678 non-null float64\n",
      "Garage Qual        2678 non-null object\n",
      "Garage Cond        2678 non-null object\n",
      "Paved Drive        2678 non-null object\n",
      "Wood Deck SF       2678 non-null int64\n",
      "Open Porch SF      2678 non-null int64\n",
      "Enclosed Porch     2678 non-null int64\n",
      "3Ssn Porch         2678 non-null int64\n",
      "Screen Porch       2678 non-null int64\n",
      "Pool Area          2678 non-null int64\n",
      "Misc Val           2678 non-null int64\n",
      "Mo Sold            2678 non-null int64\n",
      "Yr Sold            2678 non-null int64\n",
      "Sale Type          2678 non-null object\n",
      "Sale Condition     2678 non-null object\n",
      "SalePrice          2678 non-null int64\n",
      "dtypes: float64(11), int64(28), object(38)\n",
      "memory usage: 1.6+ MB\n"
     ]
    }
   ],
   "source": [
    "test.info()"
   ]
  },
  {
   "cell_type": "markdown",
   "metadata": {},
   "source": [
    "### More Meaningful Features\n",
    "The idea is to better capture the information in the features. Also, to make them more meaningful. A house being 8 years old vs. 18 is more meaningful than if it was built in the year 2000 or 2010. Though in this case doing this would actually leak data; you would have to calculate the age at sale which you wouldn't know before hand.\n",
    "\n",
    "So by that standard, some features that are candidates for modification: \n",
    "\n",
    "* time betwen Year Built and Year Remod/Add\n",
    "\n"
   ]
  },
  {
   "cell_type": "code",
   "execution_count": 24,
   "metadata": {
    "collapsed": true
   },
   "outputs": [],
   "source": [
    "def improveFeatures(df):\n",
    "    df['years_until_remod'] = df['Year Remod/Add'] - df['Year Built']\n",
    "    return df"
   ]
  },
  {
   "cell_type": "markdown",
   "metadata": {
    "collapsed": true
   },
   "source": [
    "### Which Cols to Drop?\n",
    "\n",
    "* What could you not have known ahead of the sale? \n",
    "    - Mo Sold\n",
    "    - Yr Sold\n",
    "    - Sale Type\n",
    "    - Sale Condition\n",
    "    - Misc Value\n",
    "* What's generally not predictive?\n",
    "    - Order\n",
    "    - PID\n",
    "\n"
   ]
  },
  {
   "cell_type": "code",
   "execution_count": 47,
   "metadata": {
    "collapsed": true
   },
   "outputs": [],
   "source": [
    "def colsDrop(df):\n",
    "    c = ['Misc Val', 'Mo Sold', 'Yr Sold', 'Sale Type', 'Sale Condition', 'Order', 'PID']\n",
    "    df = df.drop(c, axis = 1, errors='ignore')\n",
    "    return df"
   ]
  },
  {
   "cell_type": "markdown",
   "metadata": {},
   "source": [
    "### Modified Helper Function"
   ]
  },
  {
   "cell_type": "code",
   "execution_count": 26,
   "metadata": {
    "collapsed": true
   },
   "outputs": [],
   "source": [
    "def transform_features(df):\n",
    "    df = handleMissingValues(df)\n",
    "    df = improveFeatures(df)\n",
    "    df = colsDrop(df)\n",
    "    return df"
   ]
  },
  {
   "cell_type": "code",
   "execution_count": 48,
   "metadata": {
    "collapsed": false
   },
   "outputs": [],
   "source": [
    "data = transform_features(data)data = transform_features(data)"
   ]
  },
  {
   "cell_type": "markdown",
   "metadata": {
    "collapsed": true
   },
   "source": [
    "## Feature Selection"
   ]
  },
  {
   "cell_type": "markdown",
   "metadata": {},
   "source": [
    "### Feature Heatmap\n",
    "\n",
    "[Source](https://seaborn.pydata.org/examples/many_pairwise_correlations.html)"
   ]
  },
  {
   "cell_type": "markdown",
   "metadata": {},
   "source": [
    "* generate a correlational heatmap matrix of the numerical features in the the training data set."
   ]
  },
  {
   "cell_type": "code",
   "execution_count": 28,
   "metadata": {
    "collapsed": false,
    "scrolled": true
   },
   "outputs": [
    {
     "data": {
      "image/png": "[encoded data removed]",
      "text/plain": [
       "<matplotlib.figure.Figure at 0x7f67604a86a0>"
      ]
     },
     "metadata": {},
     "output_type": "display_data"
    }
   ],
   "source": [
    "train = data\n",
    "train_numeric = train.select_dtypes(include=['int64','float64'])\n",
    "corr = train_numeric.corr()\n",
    "\n",
    "# Generate a mask for the upper triangle\n",
    "mask = np.zeros_like(corr, dtype=np.bool)\n",
    "mask[np.triu_indices_from(mask)] = True\n",
    "\n",
    "\n",
    "f, ax = plt.subplots(figsize=(8,8))\n",
    "with sns.axes_style(\"white\"):\n",
    "   ax = sns.heatmap(corr, mask = mask, cbar=False)\n"
   ]
  },
  {
   "cell_type": "markdown",
   "metadata": {},
   "source": [
    "It's actully hard to see this easily from the matrix actually. A bar plot might just be easier even if less fancy.  "
   ]
  },
  {
   "cell_type": "code",
   "execution_count": 29,
   "metadata": {
    "collapsed": false,
    "scrolled": true
   },
   "outputs": [
    {
     "data": {
      "text/plain": [
       "<matplotlib.axes._subplots.AxesSubplot at 0x7f670aaa4b38>"
      ]
     },
     "execution_count": 29,
     "metadata": {},
     "output_type": "execute_result"
    },
    {
     "data": {
      "image/png": "[encoded data removed]",
      "text/plain": [
       "<matplotlib.figure.Figure at 0x7f670aa8cb70>"
      ]
     },
     "metadata": {},
     "output_type": "display_data"
    }
   ],
   "source": [
    "corr_salesprice = corr['SalePrice']\n",
    "\n",
    "corr_salesprice = corr_salesprice.sort_values(ascending=False)\n",
    "\n",
    "corr_salesprice = corr_salesprice[corr_salesprice>.5]\n",
    "\n",
    "corr_salesprice.plot(kind='bar')"
   ]
  },
  {
   "cell_type": "markdown",
   "metadata": {},
   "source": [
    "We can take a look and see if there is high correlation amongst this..."
   ]
  },
  {
   "cell_type": "code",
   "execution_count": 30,
   "metadata": {
    "collapsed": false
   },
   "outputs": [
    {
     "data": {
      "text/plain": [
       "<matplotlib.axes._subplots.AxesSubplot at 0x7f67090bc780>"
      ]
     },
     "execution_count": 30,
     "metadata": {},
     "output_type": "execute_result"
    },
    {
     "data": {
      "image/png": "[encoded data removed]",
      "text/plain": [
       "<matplotlib.figure.Figure at 0x7f670a90fe10>"
      ]
     },
     "metadata": {},
     "output_type": "display_data"
    }
   ],
   "source": [
    "f, ax = plt.subplots(figsize=(8,8))\n",
    "\n",
    "# Generate a mask for the upper triangle\n",
    "mask = np.zeros_like(train[corr_salesprice.index].corr(), dtype=np.bool)\n",
    "mask[np.triu_indices_from(mask)] = True\n",
    "\n",
    "sns.heatmap(train[corr_salesprice.index].corr(), mask=mask, cbar=False)\n",
    "\n",
    "\n"
   ]
  },
  {
   "cell_type": "markdown",
   "metadata": {},
   "source": [
    "Note that there are some obvious correlations\n",
    "* GrLivArea and TotRmsAbvGrd\n",
    "* Year Built and Garage Year Built\n",
    "* Garage Cars and Garage Area\n",
    "* 1st Flr SF and Total Bsmt SF\n",
    "\n",
    "Let's keep the one that is more correlated to SalePrice in each case.  GrLivArea, Year Built, Garage Area, \n",
    "\n",
    "so drop: [1st Flr SF, Garage Area, Garage Yr Blt, TotRms AbvGrd]"
   ]
  },
  {
   "cell_type": "markdown",
   "metadata": {},
   "source": [
    "### Categorical Data\n",
    "\n",
    "Which columns in the data frame should be converted to the categorical data type? All of the columns marked as nominal from the [documentation][1] are candidates for being converted to categorical. \n",
    "\n",
    "Here are some other things you should think about:\n",
    "\n",
    "* If a categorical column has hundreds of unique values (or categories), should you keep it? When you dummy code this column, hundreds of columns will need to be added back to the data frame.\n",
    "\n",
    "* Which categorical columns have a few unique values but more than 95% of the values in the column belong to a specific category? This would be similar to a low variance numerical feature (no variability in the data for the model to capture).\n",
    "\n",
    "[1]:https://ww2.amstat.org/publications/jse/v19n3/decock/DataDocumentation.txt"
   ]
  },
  {
   "cell_type": "markdown",
   "metadata": {},
   "source": [
    "I basically want some way to look at each categorical variable, how many unique values it has, and what percentage of the values fall in each of the unique values. Can I make a function? \n",
    "\n",
    "Var | Unique Values | Max Pct of Values in a Unique Val\n",
    "--- | --- | --- |\n",
    "var | num | num\n",
    "\n",
    "Maybe let's just do for one variable?\n"
   ]
  },
  {
   "cell_type": "code",
   "execution_count": 31,
   "metadata": {
    "collapsed": false
   },
   "outputs": [
    {
     "data": {
      "text/plain": [
       "Index(['MS Zoning', 'Street', 'Lot Shape', 'Land Contour', 'Utilities',\n",
       "       'Lot Config', 'Land Slope', 'Neighborhood', 'Condition 1',\n",
       "       'Condition 2', 'Bldg Type', 'House Style', 'Roof Style', 'Roof Matl',\n",
       "       'Exterior 1st', 'Exterior 2nd', 'Mas Vnr Type', 'Exter Qual',\n",
       "       'Exter Cond', 'Foundation', 'Bsmt Qual', 'Bsmt Cond', 'Bsmt Exposure',\n",
       "       'BsmtFin Type 1', 'BsmtFin Type 2', 'Heating', 'Heating QC',\n",
       "       'Central Air', 'Electrical', 'Kitchen Qual', 'Functional',\n",
       "       'Garage Type', 'Garage Finish', 'Garage Qual', 'Garage Cond',\n",
       "       'Paved Drive'],\n",
       "      dtype='object')"
      ]
     },
     "execution_count": 31,
     "metadata": {},
     "output_type": "execute_result"
    }
   ],
   "source": [
    "train_qual = train.select_dtypes(include =['object'])\n",
    "\n",
    "train_qual.columns"
   ]
  },
  {
   "cell_type": "code",
   "execution_count": 32,
   "metadata": {
    "collapsed": false
   },
   "outputs": [
    {
     "data": {
      "text/plain": [
       "6"
      ]
     },
     "execution_count": 32,
     "metadata": {},
     "output_type": "execute_result"
    }
   ],
   "source": [
    "train_qual['MS Zoning'].value_counts().shape[0]"
   ]
  },
  {
   "cell_type": "code",
   "execution_count": 33,
   "metadata": {
    "collapsed": false
   },
   "outputs": [
    {
     "data": {
      "text/plain": [
       "0.7886482449589246"
      ]
     },
     "execution_count": 33,
     "metadata": {},
     "output_type": "execute_result"
    }
   ],
   "source": [
    "x_sum = train_qual['MS Zoning'].value_counts().sum()\n",
    "x = train_qual['MS Zoning'].value_counts()\n",
    "\n",
    "(x/x_sum).max()"
   ]
  },
  {
   "cell_type": "markdown",
   "metadata": {},
   "source": [
    "I think I have all the pieces...\n"
   ]
  },
  {
   "cell_type": "code",
   "execution_count": 34,
   "metadata": {
    "collapsed": true
   },
   "outputs": [],
   "source": [
    "def sumCatVars(var):\n",
    "    val_counts = train_qual[var].value_counts()\n",
    "    sum_values = val_counts.sum()\n",
    "    unique_vals = val_counts.shape[0]\n",
    "    max_cat_pct = (val_counts/sum_values).max()\n",
    "    return unique_vals, max_cat_pct"
   ]
  },
  {
   "cell_type": "code",
   "execution_count": 35,
   "metadata": {
    "collapsed": false
   },
   "outputs": [
    {
     "data": {
      "text/plain": [
       "(6, 0.7886482449589246)"
      ]
     },
     "execution_count": 35,
     "metadata": {},
     "output_type": "execute_result"
    }
   ],
   "source": [
    "sumCatVars('MS Zoning')"
   ]
  },
  {
   "cell_type": "code",
   "execution_count": 36,
   "metadata": {
    "collapsed": false,
    "scrolled": true
   },
   "outputs": [
    {
     "data": {
      "text/html": [
       "<div>\n",
       "<table border=\"1\" class=\"dataframe\">\n",
       "  <thead>\n",
       "    <tr style=\"text-align: right;\">\n",
       "      <th></th>\n",
       "      <th>Var</th>\n",
       "      <th>UniqueValues</th>\n",
       "      <th>MaxAnyUniqueVal</th>\n",
       "    </tr>\n",
       "  </thead>\n",
       "  <tbody>\n",
       "    <tr>\n",
       "      <th>0</th>\n",
       "      <td>MS Zoning</td>\n",
       "      <td>6.0</td>\n",
       "      <td>0.788648</td>\n",
       "    </tr>\n",
       "    <tr>\n",
       "      <th>1</th>\n",
       "      <td>Street</td>\n",
       "      <td>2.0</td>\n",
       "      <td>0.996639</td>\n",
       "    </tr>\n",
       "    <tr>\n",
       "      <th>2</th>\n",
       "      <td>Lot Shape</td>\n",
       "      <td>4.0</td>\n",
       "      <td>0.618745</td>\n",
       "    </tr>\n",
       "    <tr>\n",
       "      <th>3</th>\n",
       "      <td>Land Contour</td>\n",
       "      <td>4.0</td>\n",
       "      <td>0.899552</td>\n",
       "    </tr>\n",
       "    <tr>\n",
       "      <th>4</th>\n",
       "      <td>Utilities</td>\n",
       "      <td>3.0</td>\n",
       "      <td>0.999253</td>\n",
       "    </tr>\n",
       "    <tr>\n",
       "      <th>5</th>\n",
       "      <td>Lot Config</td>\n",
       "      <td>5.0</td>\n",
       "      <td>0.726662</td>\n",
       "    </tr>\n",
       "    <tr>\n",
       "      <th>6</th>\n",
       "      <td>Land Slope</td>\n",
       "      <td>3.0</td>\n",
       "      <td>0.949963</td>\n",
       "    </tr>\n",
       "    <tr>\n",
       "      <th>7</th>\n",
       "      <td>Neighborhood</td>\n",
       "      <td>28.0</td>\n",
       "      <td>0.155340</td>\n",
       "    </tr>\n",
       "    <tr>\n",
       "      <th>8</th>\n",
       "      <td>Condition 1</td>\n",
       "      <td>9.0</td>\n",
       "      <td>0.867812</td>\n",
       "    </tr>\n",
       "    <tr>\n",
       "      <th>9</th>\n",
       "      <td>Condition 2</td>\n",
       "      <td>8.0</td>\n",
       "      <td>0.989544</td>\n",
       "    </tr>\n",
       "    <tr>\n",
       "      <th>10</th>\n",
       "      <td>Bldg Type</td>\n",
       "      <td>5.0</td>\n",
       "      <td>0.843167</td>\n",
       "    </tr>\n",
       "    <tr>\n",
       "      <th>11</th>\n",
       "      <td>House Style</td>\n",
       "      <td>8.0</td>\n",
       "      <td>0.501494</td>\n",
       "    </tr>\n",
       "    <tr>\n",
       "      <th>12</th>\n",
       "      <td>Roof Style</td>\n",
       "      <td>6.0</td>\n",
       "      <td>0.786408</td>\n",
       "    </tr>\n",
       "    <tr>\n",
       "      <th>13</th>\n",
       "      <td>Roof Matl</td>\n",
       "      <td>8.0</td>\n",
       "      <td>0.986184</td>\n",
       "    </tr>\n",
       "    <tr>\n",
       "      <th>14</th>\n",
       "      <td>Exterior 1st</td>\n",
       "      <td>14.0</td>\n",
       "      <td>0.360344</td>\n",
       "    </tr>\n",
       "    <tr>\n",
       "      <th>15</th>\n",
       "      <td>Exterior 2nd</td>\n",
       "      <td>16.0</td>\n",
       "      <td>0.355489</td>\n",
       "    </tr>\n",
       "    <tr>\n",
       "      <th>16</th>\n",
       "      <td>Mas Vnr Type</td>\n",
       "      <td>5.0</td>\n",
       "      <td>0.578417</td>\n",
       "    </tr>\n",
       "    <tr>\n",
       "      <th>17</th>\n",
       "      <td>Exter Qual</td>\n",
       "      <td>4.0</td>\n",
       "      <td>0.598208</td>\n",
       "    </tr>\n",
       "    <tr>\n",
       "      <th>18</th>\n",
       "      <td>Exter Cond</td>\n",
       "      <td>5.0</td>\n",
       "      <td>0.876027</td>\n",
       "    </tr>\n",
       "    <tr>\n",
       "      <th>19</th>\n",
       "      <td>Foundation</td>\n",
       "      <td>5.0</td>\n",
       "      <td>0.463779</td>\n",
       "    </tr>\n",
       "    <tr>\n",
       "      <th>20</th>\n",
       "      <td>Bsmt Qual</td>\n",
       "      <td>5.0</td>\n",
       "      <td>0.442868</td>\n",
       "    </tr>\n",
       "    <tr>\n",
       "      <th>21</th>\n",
       "      <td>Bsmt Cond</td>\n",
       "      <td>5.0</td>\n",
       "      <td>0.922704</td>\n",
       "    </tr>\n",
       "    <tr>\n",
       "      <th>22</th>\n",
       "      <td>Bsmt Exposure</td>\n",
       "      <td>4.0</td>\n",
       "      <td>0.663181</td>\n",
       "    </tr>\n",
       "    <tr>\n",
       "      <th>23</th>\n",
       "      <td>BsmtFin Type 1</td>\n",
       "      <td>6.0</td>\n",
       "      <td>0.308813</td>\n",
       "    </tr>\n",
       "    <tr>\n",
       "      <th>24</th>\n",
       "      <td>BsmtFin Type 2</td>\n",
       "      <td>6.0</td>\n",
       "      <td>0.871546</td>\n",
       "    </tr>\n",
       "    <tr>\n",
       "      <th>25</th>\n",
       "      <td>Heating</td>\n",
       "      <td>4.0</td>\n",
       "      <td>0.989544</td>\n",
       "    </tr>\n",
       "    <tr>\n",
       "      <th>26</th>\n",
       "      <td>Heating QC</td>\n",
       "      <td>5.0</td>\n",
       "      <td>0.527633</td>\n",
       "    </tr>\n",
       "    <tr>\n",
       "      <th>27</th>\n",
       "      <td>Central Air</td>\n",
       "      <td>2.0</td>\n",
       "      <td>0.955564</td>\n",
       "    </tr>\n",
       "    <tr>\n",
       "      <th>28</th>\n",
       "      <td>Electrical</td>\n",
       "      <td>5.0</td>\n",
       "      <td>0.927931</td>\n",
       "    </tr>\n",
       "    <tr>\n",
       "      <th>29</th>\n",
       "      <td>Kitchen Qual</td>\n",
       "      <td>5.0</td>\n",
       "      <td>0.494399</td>\n",
       "    </tr>\n",
       "    <tr>\n",
       "      <th>30</th>\n",
       "      <td>Functional</td>\n",
       "      <td>8.0</td>\n",
       "      <td>0.939881</td>\n",
       "    </tr>\n",
       "    <tr>\n",
       "      <th>31</th>\n",
       "      <td>Garage Type</td>\n",
       "      <td>6.0</td>\n",
       "      <td>0.625840</td>\n",
       "    </tr>\n",
       "    <tr>\n",
       "      <th>32</th>\n",
       "      <td>Garage Finish</td>\n",
       "      <td>3.0</td>\n",
       "      <td>0.440254</td>\n",
       "    </tr>\n",
       "    <tr>\n",
       "      <th>33</th>\n",
       "      <td>Garage Qual</td>\n",
       "      <td>5.0</td>\n",
       "      <td>0.943988</td>\n",
       "    </tr>\n",
       "    <tr>\n",
       "      <th>34</th>\n",
       "      <td>Garage Cond</td>\n",
       "      <td>5.0</td>\n",
       "      <td>0.963032</td>\n",
       "    </tr>\n",
       "    <tr>\n",
       "      <th>35</th>\n",
       "      <td>Paved Drive</td>\n",
       "      <td>3.0</td>\n",
       "      <td>0.930172</td>\n",
       "    </tr>\n",
       "  </tbody>\n",
       "</table>\n",
       "</div>"
      ],
      "text/plain": [
       "               Var  UniqueValues  MaxAnyUniqueVal\n",
       "0        MS Zoning           6.0         0.788648\n",
       "1           Street           2.0         0.996639\n",
       "2        Lot Shape           4.0         0.618745\n",
       "3     Land Contour           4.0         0.899552\n",
       "4        Utilities           3.0         0.999253\n",
       "5       Lot Config           5.0         0.726662\n",
       "6       Land Slope           3.0         0.949963\n",
       "7     Neighborhood          28.0         0.155340\n",
       "8      Condition 1           9.0         0.867812\n",
       "9      Condition 2           8.0         0.989544\n",
       "10       Bldg Type           5.0         0.843167\n",
       "11     House Style           8.0         0.501494\n",
       "12      Roof Style           6.0         0.786408\n",
       "13       Roof Matl           8.0         0.986184\n",
       "14    Exterior 1st          14.0         0.360344\n",
       "15    Exterior 2nd          16.0         0.355489\n",
       "16    Mas Vnr Type           5.0         0.578417\n",
       "17      Exter Qual           4.0         0.598208\n",
       "18      Exter Cond           5.0         0.876027\n",
       "19      Foundation           5.0         0.463779\n",
       "20       Bsmt Qual           5.0         0.442868\n",
       "21       Bsmt Cond           5.0         0.922704\n",
       "22   Bsmt Exposure           4.0         0.663181\n",
       "23  BsmtFin Type 1           6.0         0.308813\n",
       "24  BsmtFin Type 2           6.0         0.871546\n",
       "25         Heating           4.0         0.989544\n",
       "26      Heating QC           5.0         0.527633\n",
       "27     Central Air           2.0         0.955564\n",
       "28      Electrical           5.0         0.927931\n",
       "29    Kitchen Qual           5.0         0.494399\n",
       "30      Functional           8.0         0.939881\n",
       "31     Garage Type           6.0         0.625840\n",
       "32   Garage Finish           3.0         0.440254\n",
       "33     Garage Qual           5.0         0.943988\n",
       "34     Garage Cond           5.0         0.963032\n",
       "35     Paved Drive           3.0         0.930172"
      ]
     },
     "execution_count": 36,
     "metadata": {},
     "output_type": "execute_result"
    }
   ],
   "source": [
    "cols=['Var', 'UniqueValues', 'MaxAnyUniqueVal']\n",
    "sumcatvars = pd.DataFrame(columns = cols)\n",
    "\n",
    "for each in train_qual.columns:\n",
    "    un_val, max_cat_pct = sumCatVars(each)\n",
    "    temp = pd.DataFrame([[each, un_val, max_cat_pct]], columns = cols)\n",
    "    sumcatvars = sumcatvars.append(temp, ignore_index=True)\n",
    "    \n",
    "sumcatvars"
   ]
  },
  {
   "cell_type": "markdown",
   "metadata": {},
   "source": [
    "Let's set some - at this point - arbitrary cut offs. Drop if there are:\n",
    "* more than 60% of the data in any given unique value AND/OR \n",
    "* more than 8 unique values then we want to drop those \n"
   ]
  },
  {
   "cell_type": "code",
   "execution_count": 37,
   "metadata": {
    "collapsed": false
   },
   "outputs": [],
   "source": [
    "colsDrop = sumcatvars[(sumcatvars.UniqueValues>8)|(sumcatvars.MaxAnyUniqueVal > .6)].Var.tolist()"
   ]
  },
  {
   "cell_type": "code",
   "execution_count": 38,
   "metadata": {
    "collapsed": false
   },
   "outputs": [
    {
     "data": {
      "text/html": [
       "<div>\n",
       "<table border=\"1\" class=\"dataframe\">\n",
       "  <thead>\n",
       "    <tr style=\"text-align: right;\">\n",
       "      <th></th>\n",
       "      <th>Var</th>\n",
       "      <th>UniqueValues</th>\n",
       "      <th>MaxAnyUniqueVal</th>\n",
       "    </tr>\n",
       "  </thead>\n",
       "  <tbody>\n",
       "    <tr>\n",
       "      <th>16</th>\n",
       "      <td>Mas Vnr Type</td>\n",
       "      <td>5.0</td>\n",
       "      <td>0.578417</td>\n",
       "    </tr>\n",
       "    <tr>\n",
       "      <th>17</th>\n",
       "      <td>Exter Qual</td>\n",
       "      <td>4.0</td>\n",
       "      <td>0.598208</td>\n",
       "    </tr>\n",
       "    <tr>\n",
       "      <th>19</th>\n",
       "      <td>Foundation</td>\n",
       "      <td>5.0</td>\n",
       "      <td>0.463779</td>\n",
       "    </tr>\n",
       "    <tr>\n",
       "      <th>20</th>\n",
       "      <td>Bsmt Qual</td>\n",
       "      <td>5.0</td>\n",
       "      <td>0.442868</td>\n",
       "    </tr>\n",
       "    <tr>\n",
       "      <th>23</th>\n",
       "      <td>BsmtFin Type 1</td>\n",
       "      <td>6.0</td>\n",
       "      <td>0.308813</td>\n",
       "    </tr>\n",
       "    <tr>\n",
       "      <th>26</th>\n",
       "      <td>Heating QC</td>\n",
       "      <td>5.0</td>\n",
       "      <td>0.527633</td>\n",
       "    </tr>\n",
       "    <tr>\n",
       "      <th>29</th>\n",
       "      <td>Kitchen Qual</td>\n",
       "      <td>5.0</td>\n",
       "      <td>0.494399</td>\n",
       "    </tr>\n",
       "    <tr>\n",
       "      <th>32</th>\n",
       "      <td>Garage Finish</td>\n",
       "      <td>3.0</td>\n",
       "      <td>0.440254</td>\n",
       "    </tr>\n",
       "  </tbody>\n",
       "</table>\n",
       "</div>"
      ],
      "text/plain": [
       "               Var  UniqueValues  MaxAnyUniqueVal\n",
       "16    Mas Vnr Type           5.0         0.578417\n",
       "17      Exter Qual           4.0         0.598208\n",
       "19      Foundation           5.0         0.463779\n",
       "20       Bsmt Qual           5.0         0.442868\n",
       "23  BsmtFin Type 1           6.0         0.308813\n",
       "26      Heating QC           5.0         0.527633\n",
       "29    Kitchen Qual           5.0         0.494399\n",
       "32   Garage Finish           3.0         0.440254"
      ]
     },
     "execution_count": 38,
     "metadata": {},
     "output_type": "execute_result"
    }
   ],
   "source": [
    "sumcatvars[(sumcatvars.UniqueValues<8)&(sumcatvars.MaxAnyUniqueVal < .6)]"
   ]
  },
  {
   "cell_type": "markdown",
   "metadata": {},
   "source": [
    "### Categorical Variables Hiding as Numerical Ones?\n",
    "\n",
    "Which columns are currently numerical but need to be encoded as categorical instead (because the numbers don't have any semantic meaning)?"
   ]
  },
  {
   "cell_type": "code",
   "execution_count": 39,
   "metadata": {
    "collapsed": false
   },
   "outputs": [
    {
     "data": {
      "text/html": [
       "<div>\n",
       "<table border=\"1\" class=\"dataframe\">\n",
       "  <thead>\n",
       "    <tr style=\"text-align: right;\">\n",
       "      <th></th>\n",
       "      <th>MS SubClass</th>\n",
       "      <th>Lot Frontage</th>\n",
       "      <th>Lot Area</th>\n",
       "      <th>Overall Qual</th>\n",
       "      <th>Overall Cond</th>\n",
       "      <th>Year Built</th>\n",
       "      <th>Year Remod/Add</th>\n",
       "      <th>Mas Vnr Area</th>\n",
       "      <th>BsmtFin SF 1</th>\n",
       "      <th>BsmtFin SF 2</th>\n",
       "      <th>Bsmt Unf SF</th>\n",
       "      <th>Total Bsmt SF</th>\n",
       "      <th>1st Flr SF</th>\n",
       "      <th>2nd Flr SF</th>\n",
       "      <th>Low Qual Fin SF</th>\n",
       "      <th>Gr Liv Area</th>\n",
       "      <th>Bsmt Full Bath</th>\n",
       "      <th>Bsmt Half Bath</th>\n",
       "      <th>Full Bath</th>\n",
       "      <th>Half Bath</th>\n",
       "      <th>Bedroom AbvGr</th>\n",
       "      <th>Kitchen AbvGr</th>\n",
       "      <th>TotRms AbvGrd</th>\n",
       "      <th>Fireplaces</th>\n",
       "      <th>Garage Yr Blt</th>\n",
       "      <th>Garage Cars</th>\n",
       "      <th>Garage Area</th>\n",
       "      <th>Wood Deck SF</th>\n",
       "      <th>Open Porch SF</th>\n",
       "      <th>Enclosed Porch</th>\n",
       "      <th>3Ssn Porch</th>\n",
       "      <th>Screen Porch</th>\n",
       "      <th>Pool Area</th>\n",
       "      <th>SalePrice</th>\n",
       "      <th>years_until_remod</th>\n",
       "    </tr>\n",
       "  </thead>\n",
       "  <tbody>\n",
       "    <tr>\n",
       "      <th>0</th>\n",
       "      <td>20</td>\n",
       "      <td>141.0</td>\n",
       "      <td>31770</td>\n",
       "      <td>6</td>\n",
       "      <td>5</td>\n",
       "      <td>1960</td>\n",
       "      <td>1960</td>\n",
       "      <td>112.0</td>\n",
       "      <td>639.0</td>\n",
       "      <td>0.0</td>\n",
       "      <td>441.0</td>\n",
       "      <td>1080.0</td>\n",
       "      <td>1656</td>\n",
       "      <td>0</td>\n",
       "      <td>0</td>\n",
       "      <td>1656</td>\n",
       "      <td>1.0</td>\n",
       "      <td>0.0</td>\n",
       "      <td>1</td>\n",
       "      <td>0</td>\n",
       "      <td>3</td>\n",
       "      <td>1</td>\n",
       "      <td>7</td>\n",
       "      <td>2</td>\n",
       "      <td>1960.0</td>\n",
       "      <td>2.0</td>\n",
       "      <td>528.0</td>\n",
       "      <td>210</td>\n",
       "      <td>62</td>\n",
       "      <td>0</td>\n",
       "      <td>0</td>\n",
       "      <td>0</td>\n",
       "      <td>0</td>\n",
       "      <td>215000</td>\n",
       "      <td>0</td>\n",
       "    </tr>\n",
       "    <tr>\n",
       "      <th>1</th>\n",
       "      <td>20</td>\n",
       "      <td>80.0</td>\n",
       "      <td>11622</td>\n",
       "      <td>5</td>\n",
       "      <td>6</td>\n",
       "      <td>1961</td>\n",
       "      <td>1961</td>\n",
       "      <td>0.0</td>\n",
       "      <td>468.0</td>\n",
       "      <td>144.0</td>\n",
       "      <td>270.0</td>\n",
       "      <td>882.0</td>\n",
       "      <td>896</td>\n",
       "      <td>0</td>\n",
       "      <td>0</td>\n",
       "      <td>896</td>\n",
       "      <td>0.0</td>\n",
       "      <td>0.0</td>\n",
       "      <td>1</td>\n",
       "      <td>0</td>\n",
       "      <td>2</td>\n",
       "      <td>1</td>\n",
       "      <td>5</td>\n",
       "      <td>0</td>\n",
       "      <td>1961.0</td>\n",
       "      <td>1.0</td>\n",
       "      <td>730.0</td>\n",
       "      <td>140</td>\n",
       "      <td>0</td>\n",
       "      <td>0</td>\n",
       "      <td>0</td>\n",
       "      <td>120</td>\n",
       "      <td>0</td>\n",
       "      <td>105000</td>\n",
       "      <td>0</td>\n",
       "    </tr>\n",
       "    <tr>\n",
       "      <th>2</th>\n",
       "      <td>20</td>\n",
       "      <td>81.0</td>\n",
       "      <td>14267</td>\n",
       "      <td>6</td>\n",
       "      <td>6</td>\n",
       "      <td>1958</td>\n",
       "      <td>1958</td>\n",
       "      <td>108.0</td>\n",
       "      <td>923.0</td>\n",
       "      <td>0.0</td>\n",
       "      <td>406.0</td>\n",
       "      <td>1329.0</td>\n",
       "      <td>1329</td>\n",
       "      <td>0</td>\n",
       "      <td>0</td>\n",
       "      <td>1329</td>\n",
       "      <td>0.0</td>\n",
       "      <td>0.0</td>\n",
       "      <td>1</td>\n",
       "      <td>1</td>\n",
       "      <td>3</td>\n",
       "      <td>1</td>\n",
       "      <td>6</td>\n",
       "      <td>0</td>\n",
       "      <td>1958.0</td>\n",
       "      <td>1.0</td>\n",
       "      <td>312.0</td>\n",
       "      <td>393</td>\n",
       "      <td>36</td>\n",
       "      <td>0</td>\n",
       "      <td>0</td>\n",
       "      <td>0</td>\n",
       "      <td>0</td>\n",
       "      <td>172000</td>\n",
       "      <td>0</td>\n",
       "    </tr>\n",
       "    <tr>\n",
       "      <th>3</th>\n",
       "      <td>20</td>\n",
       "      <td>93.0</td>\n",
       "      <td>11160</td>\n",
       "      <td>7</td>\n",
       "      <td>5</td>\n",
       "      <td>1968</td>\n",
       "      <td>1968</td>\n",
       "      <td>0.0</td>\n",
       "      <td>1065.0</td>\n",
       "      <td>0.0</td>\n",
       "      <td>1045.0</td>\n",
       "      <td>2110.0</td>\n",
       "      <td>2110</td>\n",
       "      <td>0</td>\n",
       "      <td>0</td>\n",
       "      <td>2110</td>\n",
       "      <td>1.0</td>\n",
       "      <td>0.0</td>\n",
       "      <td>2</td>\n",
       "      <td>1</td>\n",
       "      <td>3</td>\n",
       "      <td>1</td>\n",
       "      <td>8</td>\n",
       "      <td>2</td>\n",
       "      <td>1968.0</td>\n",
       "      <td>2.0</td>\n",
       "      <td>522.0</td>\n",
       "      <td>0</td>\n",
       "      <td>0</td>\n",
       "      <td>0</td>\n",
       "      <td>0</td>\n",
       "      <td>0</td>\n",
       "      <td>0</td>\n",
       "      <td>244000</td>\n",
       "      <td>0</td>\n",
       "    </tr>\n",
       "    <tr>\n",
       "      <th>4</th>\n",
       "      <td>60</td>\n",
       "      <td>74.0</td>\n",
       "      <td>13830</td>\n",
       "      <td>5</td>\n",
       "      <td>5</td>\n",
       "      <td>1997</td>\n",
       "      <td>1998</td>\n",
       "      <td>0.0</td>\n",
       "      <td>791.0</td>\n",
       "      <td>0.0</td>\n",
       "      <td>137.0</td>\n",
       "      <td>928.0</td>\n",
       "      <td>928</td>\n",
       "      <td>701</td>\n",
       "      <td>0</td>\n",
       "      <td>1629</td>\n",
       "      <td>0.0</td>\n",
       "      <td>0.0</td>\n",
       "      <td>2</td>\n",
       "      <td>1</td>\n",
       "      <td>3</td>\n",
       "      <td>1</td>\n",
       "      <td>6</td>\n",
       "      <td>1</td>\n",
       "      <td>1997.0</td>\n",
       "      <td>2.0</td>\n",
       "      <td>482.0</td>\n",
       "      <td>212</td>\n",
       "      <td>34</td>\n",
       "      <td>0</td>\n",
       "      <td>0</td>\n",
       "      <td>0</td>\n",
       "      <td>0</td>\n",
       "      <td>189900</td>\n",
       "      <td>1</td>\n",
       "    </tr>\n",
       "  </tbody>\n",
       "</table>\n",
       "</div>"
      ],
      "text/plain": [
       "   MS SubClass  Lot Frontage  Lot Area  Overall Qual  Overall Cond  \\\n",
       "0           20         141.0     31770             6             5   \n",
       "1           20          80.0     11622             5             6   \n",
       "2           20          81.0     14267             6             6   \n",
       "3           20          93.0     11160             7             5   \n",
       "4           60          74.0     13830             5             5   \n",
       "\n",
       "   Year Built  Year Remod/Add  Mas Vnr Area  BsmtFin SF 1  BsmtFin SF 2  \\\n",
       "0        1960            1960         112.0         639.0           0.0   \n",
       "1        1961            1961           0.0         468.0         144.0   \n",
       "2        1958            1958         108.0         923.0           0.0   \n",
       "3        1968            1968           0.0        1065.0           0.0   \n",
       "4        1997            1998           0.0         791.0           0.0   \n",
       "\n",
       "   Bsmt Unf SF  Total Bsmt SF  1st Flr SF  2nd Flr SF  Low Qual Fin SF  \\\n",
       "0        441.0         1080.0        1656           0                0   \n",
       "1        270.0          882.0         896           0                0   \n",
       "2        406.0         1329.0        1329           0                0   \n",
       "3       1045.0         2110.0        2110           0                0   \n",
       "4        137.0          928.0         928         701                0   \n",
       "\n",
       "   Gr Liv Area  Bsmt Full Bath  Bsmt Half Bath  Full Bath  Half Bath  \\\n",
       "0         1656             1.0             0.0          1          0   \n",
       "1          896             0.0             0.0          1          0   \n",
       "2         1329             0.0             0.0          1          1   \n",
       "3         2110             1.0             0.0          2          1   \n",
       "4         1629             0.0             0.0          2          1   \n",
       "\n",
       "   Bedroom AbvGr  Kitchen AbvGr  TotRms AbvGrd  Fireplaces  Garage Yr Blt  \\\n",
       "0              3              1              7           2         1960.0   \n",
       "1              2              1              5           0         1961.0   \n",
       "2              3              1              6           0         1958.0   \n",
       "3              3              1              8           2         1968.0   \n",
       "4              3              1              6           1         1997.0   \n",
       "\n",
       "   Garage Cars  Garage Area  Wood Deck SF  Open Porch SF  Enclosed Porch  \\\n",
       "0          2.0        528.0           210             62               0   \n",
       "1          1.0        730.0           140              0               0   \n",
       "2          1.0        312.0           393             36               0   \n",
       "3          2.0        522.0             0              0               0   \n",
       "4          2.0        482.0           212             34               0   \n",
       "\n",
       "   3Ssn Porch  Screen Porch  Pool Area  SalePrice  years_until_remod  \n",
       "0           0             0          0     215000                  0  \n",
       "1           0           120          0     105000                  0  \n",
       "2           0             0          0     172000                  0  \n",
       "3           0             0          0     244000                  0  \n",
       "4           0             0          0     189900                  1  "
      ]
     },
     "execution_count": 39,
     "metadata": {},
     "output_type": "execute_result"
    }
   ],
   "source": [
    "pd.set_option(\"display.max_columns\",40)\n",
    "train.select_dtypes(include = ['int64', 'float64']).head()"
   ]
  },
  {
   "cell_type": "markdown",
   "metadata": {},
   "source": [
    "MS SubClass, 'Year Built', 'Year Remod/Add' seem like they denote some category rather than some number. "
   ]
  },
  {
   "cell_type": "code",
   "execution_count": 40,
   "metadata": {
    "collapsed": false,
    "scrolled": true
   },
   "outputs": [
    {
     "data": {
      "text/plain": [
       "20     1008\n",
       "60      561\n",
       "50      259\n",
       "120     189\n",
       "160     121\n",
       "70      118\n",
       "80      115\n",
       "30      106\n",
       "90       60\n",
       "85       44\n",
       "190      42\n",
       "75       21\n",
       "45       15\n",
       "180      12\n",
       "40        6\n",
       "150       1\n",
       "Name: MS SubClass, dtype: int64"
      ]
     },
     "execution_count": 40,
     "metadata": {},
     "output_type": "execute_result"
    }
   ],
   "source": [
    "train['MS SubClass'].value_counts()"
   ]
  },
  {
   "cell_type": "markdown",
   "metadata": {},
   "source": [
    "Feature selection [strategies][1]. I'll try this second strategy: [recursive feature elimination][2]. \n",
    "\n",
    "> Feature ranking with recursive feature elimination.\n",
    "\n",
    ">Given an external estimator that assigns weights to features (e.g., the coefficients of a linear model), the goal of recursive feature elimination (RFE) is to select features by recursively considering smaller and smaller sets of features. First, the estimator is trained on the initial set of features and the importance of each feature is obtained either through a coef_ attribute or through a feature_importances_ attribute. Then, the least important features are pruned from current set of features. That procedure is recursively repeated on the pruned set until the desired number of features to select is eventually reached.\n",
    "\n",
    "\n",
    "[1]:https://machinelearningmastery.com/feature-selection-machine-learning-python/\n",
    "[2]: http://scikit-learn.org/stable/modules/generated/sklearn.feature_selection.RFE.html#sklearn.feature_selection.RFE"
   ]
  },
  {
   "cell_type": "markdown",
   "metadata": {},
   "source": [
    "It's actully hard to see this easily from the matrix actually. A bar plot might just be easier even if less fancy.  "
   ]
  },
  {
   "cell_type": "code",
   "execution_count": 41,
   "metadata": {
    "collapsed": false
   },
   "outputs": [],
   "source": [
    "def select_features(df):\n",
    "    \n",
    "    # QUANTITATIVE VARIABLES\n",
    "    df_numeric = df.select_dtypes(include=['int64','float64'])\n",
    "    df_numeric_cols = df_numeric.columns\n",
    "    df = df.drop(df_numeric_cols, axis = 1)\n",
    "    \n",
    "    corr = df_numeric.corr()\n",
    "    corr_salesprice = corr['SalePrice']\n",
    "    corr_salesprice = corr_salesprice[corr_salesprice>.5]\n",
    "    df_numeric = df_numeric[corr_salesprice.index]\n",
    "    drp = ['1st Flr SF', 'Garage Area', 'Garage Yr Blt', 'TotRms AbvGrd', 'Year Remod/Add']\n",
    "    df_numeric = df_numeric.drop(drp, axis = 1)\n",
    "    \n",
    "    # now add df_qual back to the orginal df\n",
    "    df = pd.concat([df, df_numeric], axis = 1)\n",
    "    \n",
    "    # QUALITATIVE VARIABLES\n",
    "    df_qual = df.select_dtypes(include =['object'])\n",
    "    df_qual_cols = df_qual.columns\n",
    "    df = df.drop(df_qual_cols, axis = 1)\n",
    "    \n",
    "    def sumCatVars(var):\n",
    "        val_counts = df_qual[var].value_counts()\n",
    "        sum_values = val_counts.sum()\n",
    "        unique_vals = val_counts.shape[0]\n",
    "        max_cat_pct = (val_counts/sum_values).max()\n",
    "        return unique_vals, max_cat_pct\n",
    "\n",
    "    cols=['Var', 'UniqueValues', 'MaxAnyUniqueVal']\n",
    "    sumcatvars = pd.DataFrame(columns = cols)\n",
    "\n",
    "    for each in train_qual.columns:\n",
    "        un_val, max_cat_pct = sumCatVars(each)\n",
    "        temp = pd.DataFrame([[each, un_val, max_cat_pct]], columns = cols)\n",
    "        sumcatvars = sumcatvars.append(temp, ignore_index=True)\n",
    "    \n",
    "    colsDrop = sumcatvars[(sumcatvars.UniqueValues>8)|(sumcatvars.MaxAnyUniqueVal > .6)].Var.tolist()\n",
    "    \n",
    "    df_qual = df_qual.drop(colsDrop, axis=1)\n",
    "    \n",
    "    # encode dummies for those that remain\n",
    "    text_cols = df_qual.columns\n",
    "    #print(\"Text Cols for Categories: {}\".format(text_cols))\n",
    "    \n",
    "    for col in text_cols:\n",
    "        df_qual = pd.concat([df_qual, pd.get_dummies(df_qual[col], prefix=col)], axis = 1)\n",
    "        df_qual = df_qual.drop([col], axis = 1)\n",
    "    \n",
    "    # Let's not do categories for now\n",
    "        # categories\n",
    "        #categorycols = ['Year Built']\n",
    "        #for col in categorycols:\n",
    "        #    df[col]= df[col].astype('category')\n",
    "    \n",
    "       \n",
    "    # Use a strategy to select 5 best QUALITATIVE features\n",
    "    # Using recursive feature elimination\n",
    "    \n",
    "    target = df.SalePrice #borrowing from bigger df since df_qual \n",
    "    # doesn't have the quantitative sale price variable\n",
    "       \n",
    "    #print(df_qual.columns)\n",
    "    \n",
    "    model = LogisticRegression()\n",
    "    #print('RFE')\n",
    "    rfe = RFE(model, 5)\n",
    "    fit = rfe.fit(df_qual, target)\n",
    "    #print(\"Num Features: {}\".format(fit.n_features_))\n",
    "    #print(\"Selected Features: {}\".format(fit.support_))\n",
    "    \n",
    "    # choose the top vars\n",
    "    idx = [i for i in range(0, len(fit.support_)) if fit.support_[i]]\n",
    "    #print(\"Index: {}\".format(idx))\n",
    "    df_qual = df_qual.iloc[:,idx]\n",
    "    \n",
    "    # now add df_qual back to the orginal df\n",
    "    # this gives you the quant variables and the 5 best categorical ones\n",
    "    df = pd.concat([df, df_qual], axis = 1)\n",
    "    \n",
    "    # choose the same columns for the test dataset\n",
    "    #df_test = df_test[df.columns]\n",
    "    \n",
    "    return df"
   ]
  },
  {
   "cell_type": "markdown",
   "metadata": {},
   "source": [
    "## Train and Test"
   ]
  },
  {
   "cell_type": "code",
   "execution_count": 53,
   "metadata": {
    "collapsed": false
   },
   "outputs": [],
   "source": [
    "def train_and_test(df, k=0):\n",
    "    print('k =', k)\n",
    "    if k == 0:\n",
    "        return train_test_zero(df)\n",
    "    elif k == 1:\n",
    "        return train_test_one(df)\n",
    "    elif k > 1:\n",
    "        return train_test_multi(df, k)\n",
    "    else:\n",
    "        print('Error: Invalid k')"
   ]
  },
  {
   "cell_type": "code",
   "execution_count": 57,
   "metadata": {
    "collapsed": true
   },
   "outputs": [],
   "source": [
    "def train_test_zero(df):\n",
    "    train = df.iloc[:1460]\n",
    "    test = df.iloc[1460:]\n",
    "    \n",
    "    features = train.columns.tolist()\n",
    "    features.remove('SalePrice')\n",
    "    target = 'SalePrice'\n",
    "    \n",
    "    mlr = LinearRegression()\n",
    "    mlr.fit(train[features], train[target])\n",
    "    predict = mlr.predict(test[features])\n",
    "    rmse = mean_squared_error(test[target], predict)**.5\n",
    "    \n",
    "    return rmse"
   ]
  },
  {
   "cell_type": "code",
   "execution_count": 58,
   "metadata": {
    "collapsed": true
   },
   "outputs": [],
   "source": [
    "def train_test_one(df):\n",
    "    #shuffle order of dataset\n",
    "    randOrder = np.random.permutation(len(df))\n",
    "    df = df.iloc[randOrder]\n",
    "    \n",
    "    fold_one = df.iloc[:1460]\n",
    "    fold_two = df.iloc[1460:]\n",
    "    \n",
    "    features = fold_one.columns.tolist()\n",
    "    features.remove('SalePrice')\n",
    "    target = 'SalePrice'\n",
    "    \n",
    "    # fold_one = train, fold_two = test\n",
    "    mlr = LinearRegression()\n",
    "    mlr.fit(fold_one[features], fold_one[target])\n",
    "    predict = mlr.predict(fold_two[features])\n",
    "    rmse_1 = mean_squared_error(fold_two[target], predict)**.5\n",
    "\n",
    "    # fold_one = train, fold_two = test\n",
    "    mlr = LinearRegression()\n",
    "    mlr.fit(fold_two[features], fold_two[target])\n",
    "    predict = mlr.predict(fold_one[features])\n",
    "    rmse_2 = mean_squared_error(fold_one[target], predict)**.5\n",
    "    \n",
    "    return np.mean([rmse_1, rmse_2])"
   ]
  },
  {
   "cell_type": "markdown",
   "metadata": {},
   "source": [
    "Reference from the lesson:\n",
    "\n",
    "```\n",
    "from sklearn.model_selection import cross_val_score, KFold\n",
    "\n",
    "num_folds = [3, 5, 7, 9, 10, 11, 13, 15, 17, 19, 21, 23]\n",
    "\n",
    "for fold in num_folds:\n",
    "    kf = KFold(fold, shuffle=True, random_state=1)\n",
    "    model = KNeighborsRegressor()\n",
    "    mses = cross_val_score(model, dc_listings[[\"accommodates\"]], dc_listings[\"price\"], scoring=\"neg_mean_squared_error\", cv=kf)\n",
    "    rmses = np.sqrt(np.absolute(mses))\n",
    "    avg_rmse = np.mean(rmses)\n",
    "    std_rmse = np.std(rmses)\n",
    "    print(str(fold), \"folds: \", \"avg RMSE: \", str(avg_rmse), \"std RMSE : \", str(std_rmse))\n",
    "    \n",
    "```"
   ]
  },
  {
   "cell_type": "code",
   "execution_count": 65,
   "metadata": {
    "collapsed": true
   },
   "outputs": [],
   "source": [
    "from sklearn.model_selection import cross_val_score, KFold\n",
    "\n",
    "def train_test_multi(df, k):\n",
    "    \n",
    "    features = df.columns.tolist()\n",
    "    features.remove('SalePrice')\n",
    "    target = 'SalePrice'\n",
    "    \n",
    "    kf = KFold(k, shuffle=True, random_state=1)\n",
    "    model = LinearRegression()\n",
    "    mses = cross_val_score(model, df[features], df[target], scoring = 'neg_mean_squared_error', cv=kf)\n",
    "    rmses = np.sqrt(np.absolute(mses))\n",
    "    avg_rmse = np.mean(rmses)\n",
    "    \n",
    "    return avg_rmse\n",
    "    "
   ]
  },
  {
   "cell_type": "code",
   "execution_count": 60,
   "metadata": {
    "collapsed": false
   },
   "outputs": [
    {
     "name": "stdout",
     "output_type": "stream",
     "text": [
      "k = 0\n"
     ]
    },
    {
     "data": {
      "text/plain": [
       "38830.731919329817"
      ]
     },
     "execution_count": 60,
     "metadata": {},
     "output_type": "execute_result"
    }
   ],
   "source": [
    "train_and_test(data)"
   ]
  },
  {
   "cell_type": "markdown",
   "metadata": {},
   "source": [
    "## Putting it all together"
   ]
  },
  {
   "cell_type": "code",
   "execution_count": 3,
   "metadata": {
    "collapsed": false
   },
   "outputs": [],
   "source": [
    "data = pd.read_csv('AmesHousing.tsv', delimiter='\\t')"
   ]
  },
  {
   "cell_type": "code",
   "execution_count": 50,
   "metadata": {
    "collapsed": false
   },
   "outputs": [],
   "source": [
    "data = transform_features(data)"
   ]
  },
  {
   "cell_type": "code",
   "execution_count": 51,
   "metadata": {
    "collapsed": false
   },
   "outputs": [
    {
     "name": "stdout",
     "output_type": "stream",
     "text": [
      "<class 'pandas.core.frame.DataFrame'>\n",
      "Int64Index: 2678 entries, 0 to 2929\n",
      "Data columns (total 12 columns):\n",
      "Overall Qual         2678 non-null int64\n",
      "Year Built           2678 non-null int64\n",
      "Total Bsmt SF        2678 non-null float64\n",
      "Gr Liv Area          2678 non-null int64\n",
      "Full Bath            2678 non-null int64\n",
      "Garage Cars          2678 non-null float64\n",
      "SalePrice            2678 non-null int64\n",
      "Mas Vnr Type_None    2678 non-null uint8\n",
      "Exter Qual_TA        2678 non-null uint8\n",
      "Foundation_CBlock    2678 non-null uint8\n",
      "Foundation_PConc     2678 non-null uint8\n",
      "Heating QC_Ex        2678 non-null uint8\n",
      "dtypes: float64(2), int64(5), uint8(5)\n",
      "memory usage: 180.5 KB\n",
      "None\n"
     ]
    }
   ],
   "source": [
    "data = select_features(data)\n",
    "\n",
    "print(data.info())"
   ]
  },
  {
   "cell_type": "code",
   "execution_count": 61,
   "metadata": {
    "collapsed": false
   },
   "outputs": [
    {
     "name": "stdout",
     "output_type": "stream",
     "text": [
      "k = 1\n"
     ]
    },
    {
     "data": {
      "text/plain": [
       "37338.096567300032"
      ]
     },
     "execution_count": 61,
     "metadata": {},
     "output_type": "execute_result"
    }
   ],
   "source": [
    "train_and_test(data, 1)"
   ]
  },
  {
   "cell_type": "code",
   "execution_count": 66,
   "metadata": {
    "collapsed": false
   },
   "outputs": [
    {
     "name": "stdout",
     "output_type": "stream",
     "text": [
      "k = 3\n"
     ]
    },
    {
     "data": {
      "text/plain": [
       "38128.486521333842"
      ]
     },
     "execution_count": 66,
     "metadata": {},
     "output_type": "execute_result"
    }
   ],
   "source": [
    "train_and_test(data, 3)"
   ]
  },
  {
   "cell_type": "markdown",
   "metadata": {},
   "source": [
    "### Parting Thoughts\n",
    "Looks like this particular model is able to predict sale prices of homes to within $40,000 on average. Which doesn't seem great. If we look at the distribution of sale prices we can see why. "
   ]
  },
  {
   "cell_type": "code",
   "execution_count": 4,
   "metadata": {
    "collapsed": false,
    "scrolled": true
   },
   "outputs": [
    {
     "data": {
      "text/plain": [
       "count      2930.000000\n",
       "mean     180796.060068\n",
       "std       79886.692357\n",
       "min       12789.000000\n",
       "25%      129500.000000\n",
       "50%      160000.000000\n",
       "75%      213500.000000\n",
       "max      755000.000000\n",
       "Name: SalePrice, dtype: float64"
      ]
     },
     "execution_count": 4,
     "metadata": {},
     "output_type": "execute_result"
    }
   ],
   "source": [
    "data.SalePrice.describe()"
   ]
  },
  {
   "cell_type": "markdown",
   "metadata": {},
   "source": [
    "If the average sale price is about 181,000, we'd miss by about 20%"
   ]
  },
  {
   "cell_type": "code",
   "execution_count": 5,
   "metadata": {
    "collapsed": false
   },
   "outputs": [
    {
     "data": {
      "text/plain": [
       "22.099447513812155"
      ]
     },
     "execution_count": 5,
     "metadata": {},
     "output_type": "execute_result"
    }
   ],
   "source": [
    "100*(40000/181000)"
   ]
  },
  {
   "cell_type": "markdown",
   "metadata": {},
   "source": [
    "Still, not a bad effort on the first pass through the whole workflow. For reference, here is what [others have done](https://www.kaggle.com/pmarcelino/comprehensive-data-exploration-with-python)."
   ]
  }
 ],
 "metadata": {
  "anaconda-cloud": {},
  "kernelspec": {
   "display_name": "Python 3",
   "language": "python",
   "name": "python3"
  },
  "language_info": {
   "codemirror_mode": {
    "name": "ipython",
    "version": 3
   },
   "file_extension": ".py",
   "mimetype": "text/x-python",
   "name": "python",
   "nbconvert_exporter": "python",
   "pygments_lexer": "ipython3",
   "version": "3.4.3"
  }
 },
 "nbformat": 4,
 "nbformat_minor": 2
}
